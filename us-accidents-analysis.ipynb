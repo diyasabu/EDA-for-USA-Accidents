{
 "cells": [
  {
   "cell_type": "markdown",
   "metadata": {
    "id": "EHvpBQeAfGdu"
   },
   "source": [
    "# us-accidents-analysis\n",
    "\n",
    "Use the \"Run\" button to execute the code."
   ]
  },
  {
   "cell_type": "code",
   "execution_count": null,
   "metadata": {
    "id": "GPFKKkzIfGdv"
   },
   "outputs": [],
   "source": [
    "!pip install jovian --upgrade --quiet"
   ]
  },
  {
   "cell_type": "code",
   "execution_count": null,
   "metadata": {
    "id": "w_hHk0fJfGdw"
   },
   "outputs": [],
   "source": [
    "import jovian"
   ]
  },
  {
   "cell_type": "code",
   "execution_count": null,
   "metadata": {
    "colab": {
     "base_uri": "https://localhost:8080/",
     "height": 122
    },
    "executionInfo": {
     "elapsed": 24990,
     "status": "ok",
     "timestamp": 1629528952479,
     "user": {
      "displayName": "Diya Sabu",
      "photoUrl": "https://lh3.googleusercontent.com/a-/AOh14GhBB5nx_fvvRe-MEMKW6pJ3FcFPyW4VV1QXO8kyLd8=s64",
      "userId": "11455455934392992633"
     },
     "user_tz": -330
    },
    "id": "9NzdjCVKfGdw",
    "outputId": "57fdb07e-ad93-4ff7-a18c-565c2c351932"
   },
   "outputs": [
    {
     "name": "stdout",
     "output_type": "stream",
     "text": [
      "[jovian] Detected Colab notebook...\u001b[0m\n",
      "[jovian] Please enter your API key ( from https://jovian.ai/ ):\u001b[0m\n",
      "API KEY: ··········\n",
      "[jovian] Uploading colab notebook to Jovian...\u001b[0m\n",
      "Committed successfully! https://jovian.ai/diyasabu/us-accidents-analysis\n"
     ]
    },
    {
     "data": {
      "application/vnd.google.colaboratory.intrinsic+json": {
       "type": "string"
      },
      "text/plain": [
       "'https://jovian.ai/diyasabu/us-accidents-analysis'"
      ]
     },
     "execution_count": 4,
     "metadata": {},
     "output_type": "execute_result"
    }
   ],
   "source": [
    "# Execute this to save new versions of the notebook\n",
    "jovian.commit(project=\"us-accidents-analysis\")"
   ]
  },
  {
   "cell_type": "markdown",
   "metadata": {
    "id": "bwplj8CYf4Yi"
   },
   "source": [
    "# US Accidents Exploratory Data Analysis\n"
   ]
  },
  {
   "cell_type": "code",
   "execution_count": null,
   "metadata": {
    "id": "lal0S3onfGdx"
   },
   "outputs": [],
   "source": [
    "pip install opendatasets --upgrade --quiet"
   ]
  },
  {
   "cell_type": "code",
   "execution_count": null,
   "metadata": {
    "colab": {
     "base_uri": "https://localhost:8080/"
    },
    "executionInfo": {
     "elapsed": 138980,
     "status": "ok",
     "timestamp": 1629529370084,
     "user": {
      "displayName": "Diya Sabu",
      "photoUrl": "https://lh3.googleusercontent.com/a-/AOh14GhBB5nx_fvvRe-MEMKW6pJ3FcFPyW4VV1QXO8kyLd8=s64",
      "userId": "11455455934392992633"
     },
     "user_tz": -330
    },
    "id": "L_oIMyzTgdJc",
    "outputId": "b51a72f7-77e3-4094-ec2a-7478a75a02b9"
   },
   "outputs": [
    {
     "name": "stdout",
     "output_type": "stream",
     "text": [
      "Please provide your Kaggle credentials to download this dataset. Learn more: http://bit.ly/kaggle-creds\n",
      "Your Kaggle username: diyasabu\n",
      "Your Kaggle Key: ··········\n",
      "Downloading us-accidents.zip to ./us-accidents\n"
     ]
    },
    {
     "name": "stderr",
     "output_type": "stream",
     "text": [
      "100%|██████████| 290M/290M [00:02<00:00, 140MB/s]\n"
     ]
    },
    {
     "name": "stdout",
     "output_type": "stream",
     "text": [
      "\n"
     ]
    }
   ],
   "source": [
    "import opendatasets as od\n",
    "download_url='https://www.kaggle.com/sobhanmoosavi/us-accidents'\n",
    "od.download(download_url)"
   ]
  },
  {
   "cell_type": "code",
   "execution_count": null,
   "metadata": {
    "id": "u3WbtcQXg9jc"
   },
   "outputs": [],
   "source": [
    "data_filename='./us-accidents/US_Accidents_Dec20_Updated.csv'"
   ]
  },
  {
   "cell_type": "markdown",
   "metadata": {
    "id": "Jh28rULMi_Hs"
   },
   "source": [
    "# Data preparation and cleaning\n",
    "1. Load file using pandas\n",
    "2. Analyse information about data & columns\n",
    "3. Fix missing or incorrect values"
   ]
  },
  {
   "cell_type": "code",
   "execution_count": null,
   "metadata": {
    "id": "CB_V4RX6h5Y6"
   },
   "outputs": [],
   "source": [
    "import pandas as pd\n"
   ]
  },
  {
   "cell_type": "code",
   "execution_count": null,
   "metadata": {
    "id": "Wwqy-t_AjUYp"
   },
   "outputs": [],
   "source": [
    "df=pd.read_csv(data_filename)"
   ]
  },
  {
   "cell_type": "code",
   "execution_count": null,
   "metadata": {
    "colab": {
     "base_uri": "https://localhost:8080/",
     "height": 949
    },
    "executionInfo": {
     "elapsed": 403,
     "status": "ok",
     "timestamp": 1629529991642,
     "user": {
      "displayName": "Diya Sabu",
      "photoUrl": "https://lh3.googleusercontent.com/a-/AOh14GhBB5nx_fvvRe-MEMKW6pJ3FcFPyW4VV1QXO8kyLd8=s64",
      "userId": "11455455934392992633"
     },
     "user_tz": -330
    },
    "id": "w0X_E3Osjdq3",
    "outputId": "1d5a64f1-fc86-4a50-d8f6-b185d8dee662"
   },
   "outputs": [
    {
     "data": {
      "text/html": [
       "<div>\n",
       "<style scoped>\n",
       "    .dataframe tbody tr th:only-of-type {\n",
       "        vertical-align: middle;\n",
       "    }\n",
       "\n",
       "    .dataframe tbody tr th {\n",
       "        vertical-align: top;\n",
       "    }\n",
       "\n",
       "    .dataframe thead th {\n",
       "        text-align: right;\n",
       "    }\n",
       "</style>\n",
       "<table border=\"1\" class=\"dataframe\">\n",
       "  <thead>\n",
       "    <tr style=\"text-align: right;\">\n",
       "      <th></th>\n",
       "      <th>ID</th>\n",
       "      <th>Severity</th>\n",
       "      <th>Start_Time</th>\n",
       "      <th>End_Time</th>\n",
       "      <th>Start_Lat</th>\n",
       "      <th>Start_Lng</th>\n",
       "      <th>End_Lat</th>\n",
       "      <th>End_Lng</th>\n",
       "      <th>Distance(mi)</th>\n",
       "      <th>Description</th>\n",
       "      <th>Number</th>\n",
       "      <th>Street</th>\n",
       "      <th>Side</th>\n",
       "      <th>City</th>\n",
       "      <th>County</th>\n",
       "      <th>State</th>\n",
       "      <th>Zipcode</th>\n",
       "      <th>Country</th>\n",
       "      <th>Timezone</th>\n",
       "      <th>Airport_Code</th>\n",
       "      <th>Weather_Timestamp</th>\n",
       "      <th>Temperature(F)</th>\n",
       "      <th>Wind_Chill(F)</th>\n",
       "      <th>Humidity(%)</th>\n",
       "      <th>Pressure(in)</th>\n",
       "      <th>Visibility(mi)</th>\n",
       "      <th>Wind_Direction</th>\n",
       "      <th>Wind_Speed(mph)</th>\n",
       "      <th>Precipitation(in)</th>\n",
       "      <th>Weather_Condition</th>\n",
       "      <th>Amenity</th>\n",
       "      <th>Bump</th>\n",
       "      <th>Crossing</th>\n",
       "      <th>Give_Way</th>\n",
       "      <th>Junction</th>\n",
       "      <th>No_Exit</th>\n",
       "      <th>Railway</th>\n",
       "      <th>Roundabout</th>\n",
       "      <th>Station</th>\n",
       "      <th>Stop</th>\n",
       "      <th>Traffic_Calming</th>\n",
       "      <th>Traffic_Signal</th>\n",
       "      <th>Turning_Loop</th>\n",
       "      <th>Sunrise_Sunset</th>\n",
       "      <th>Civil_Twilight</th>\n",
       "      <th>Nautical_Twilight</th>\n",
       "      <th>Astronomical_Twilight</th>\n",
       "    </tr>\n",
       "  </thead>\n",
       "  <tbody>\n",
       "    <tr>\n",
       "      <th>0</th>\n",
       "      <td>A-1</td>\n",
       "      <td>2</td>\n",
       "      <td>2019-05-21 08:29:55</td>\n",
       "      <td>2019-05-21 09:29:40</td>\n",
       "      <td>34.808868</td>\n",
       "      <td>-82.269157</td>\n",
       "      <td>34.808868</td>\n",
       "      <td>-82.269157</td>\n",
       "      <td>0.000</td>\n",
       "      <td>Accident on Tanner Rd at Pennbrooke Ln.</td>\n",
       "      <td>439.0</td>\n",
       "      <td>Tanner Rd</td>\n",
       "      <td>R</td>\n",
       "      <td>Greenville</td>\n",
       "      <td>Greenville</td>\n",
       "      <td>SC</td>\n",
       "      <td>29607-6027</td>\n",
       "      <td>US</td>\n",
       "      <td>US/Eastern</td>\n",
       "      <td>KGMU</td>\n",
       "      <td>2019-05-21 08:53:00</td>\n",
       "      <td>76.0</td>\n",
       "      <td>76.0</td>\n",
       "      <td>52.0</td>\n",
       "      <td>28.91</td>\n",
       "      <td>10.0</td>\n",
       "      <td>N</td>\n",
       "      <td>7.0</td>\n",
       "      <td>0.0</td>\n",
       "      <td>Fair</td>\n",
       "      <td>False</td>\n",
       "      <td>False</td>\n",
       "      <td>False</td>\n",
       "      <td>False</td>\n",
       "      <td>False</td>\n",
       "      <td>False</td>\n",
       "      <td>False</td>\n",
       "      <td>False</td>\n",
       "      <td>False</td>\n",
       "      <td>False</td>\n",
       "      <td>False</td>\n",
       "      <td>False</td>\n",
       "      <td>False</td>\n",
       "      <td>Day</td>\n",
       "      <td>Day</td>\n",
       "      <td>Day</td>\n",
       "      <td>Day</td>\n",
       "    </tr>\n",
       "    <tr>\n",
       "      <th>1</th>\n",
       "      <td>A-2</td>\n",
       "      <td>2</td>\n",
       "      <td>2019-10-07 17:43:09</td>\n",
       "      <td>2019-10-07 19:42:50</td>\n",
       "      <td>35.090080</td>\n",
       "      <td>-80.745560</td>\n",
       "      <td>35.090080</td>\n",
       "      <td>-80.745560</td>\n",
       "      <td>0.000</td>\n",
       "      <td>Accident on Houston Branch Rd at Providence Br...</td>\n",
       "      <td>3299.0</td>\n",
       "      <td>Providence Branch Ln</td>\n",
       "      <td>R</td>\n",
       "      <td>Charlotte</td>\n",
       "      <td>Mecklenburg</td>\n",
       "      <td>NC</td>\n",
       "      <td>28270-8560</td>\n",
       "      <td>US</td>\n",
       "      <td>US/Eastern</td>\n",
       "      <td>KEQY</td>\n",
       "      <td>2019-10-07 17:53:00</td>\n",
       "      <td>76.0</td>\n",
       "      <td>76.0</td>\n",
       "      <td>62.0</td>\n",
       "      <td>29.30</td>\n",
       "      <td>10.0</td>\n",
       "      <td>VAR</td>\n",
       "      <td>3.0</td>\n",
       "      <td>0.0</td>\n",
       "      <td>Cloudy</td>\n",
       "      <td>False</td>\n",
       "      <td>False</td>\n",
       "      <td>False</td>\n",
       "      <td>False</td>\n",
       "      <td>False</td>\n",
       "      <td>False</td>\n",
       "      <td>False</td>\n",
       "      <td>False</td>\n",
       "      <td>False</td>\n",
       "      <td>False</td>\n",
       "      <td>False</td>\n",
       "      <td>False</td>\n",
       "      <td>False</td>\n",
       "      <td>Day</td>\n",
       "      <td>Day</td>\n",
       "      <td>Day</td>\n",
       "      <td>Day</td>\n",
       "    </tr>\n",
       "    <tr>\n",
       "      <th>2</th>\n",
       "      <td>A-3</td>\n",
       "      <td>2</td>\n",
       "      <td>2020-12-13 21:53:00</td>\n",
       "      <td>2020-12-13 22:44:00</td>\n",
       "      <td>37.145730</td>\n",
       "      <td>-121.985052</td>\n",
       "      <td>37.165850</td>\n",
       "      <td>-121.988062</td>\n",
       "      <td>1.400</td>\n",
       "      <td>Stationary traffic on CA-17 from Summit Rd (CA...</td>\n",
       "      <td>NaN</td>\n",
       "      <td>Santa Cruz Hwy</td>\n",
       "      <td>R</td>\n",
       "      <td>Los Gatos</td>\n",
       "      <td>Santa Clara</td>\n",
       "      <td>CA</td>\n",
       "      <td>95033</td>\n",
       "      <td>US</td>\n",
       "      <td>US/Pacific</td>\n",
       "      <td>KSJC</td>\n",
       "      <td>2020-12-13 21:53:00</td>\n",
       "      <td>51.0</td>\n",
       "      <td>51.0</td>\n",
       "      <td>80.0</td>\n",
       "      <td>30.17</td>\n",
       "      <td>10.0</td>\n",
       "      <td>W</td>\n",
       "      <td>6.0</td>\n",
       "      <td>0.0</td>\n",
       "      <td>Fair</td>\n",
       "      <td>False</td>\n",
       "      <td>False</td>\n",
       "      <td>False</td>\n",
       "      <td>False</td>\n",
       "      <td>False</td>\n",
       "      <td>False</td>\n",
       "      <td>False</td>\n",
       "      <td>False</td>\n",
       "      <td>False</td>\n",
       "      <td>False</td>\n",
       "      <td>False</td>\n",
       "      <td>False</td>\n",
       "      <td>False</td>\n",
       "      <td>Night</td>\n",
       "      <td>Night</td>\n",
       "      <td>Night</td>\n",
       "      <td>Night</td>\n",
       "    </tr>\n",
       "    <tr>\n",
       "      <th>3</th>\n",
       "      <td>A-4</td>\n",
       "      <td>2</td>\n",
       "      <td>2018-04-17 16:51:23</td>\n",
       "      <td>2018-04-17 17:50:46</td>\n",
       "      <td>39.110390</td>\n",
       "      <td>-119.773781</td>\n",
       "      <td>39.110390</td>\n",
       "      <td>-119.773781</td>\n",
       "      <td>0.000</td>\n",
       "      <td>Accident on US-395 Southbound at Topsy Ln.</td>\n",
       "      <td>NaN</td>\n",
       "      <td>US Highway 395 S</td>\n",
       "      <td>R</td>\n",
       "      <td>Carson City</td>\n",
       "      <td>Douglas</td>\n",
       "      <td>NV</td>\n",
       "      <td>89705</td>\n",
       "      <td>US</td>\n",
       "      <td>US/Pacific</td>\n",
       "      <td>KCXP</td>\n",
       "      <td>2018-04-17 16:55:00</td>\n",
       "      <td>53.6</td>\n",
       "      <td>NaN</td>\n",
       "      <td>16.0</td>\n",
       "      <td>30.16</td>\n",
       "      <td>10.0</td>\n",
       "      <td>SSW</td>\n",
       "      <td>4.6</td>\n",
       "      <td>NaN</td>\n",
       "      <td>Clear</td>\n",
       "      <td>False</td>\n",
       "      <td>False</td>\n",
       "      <td>False</td>\n",
       "      <td>False</td>\n",
       "      <td>False</td>\n",
       "      <td>False</td>\n",
       "      <td>False</td>\n",
       "      <td>False</td>\n",
       "      <td>False</td>\n",
       "      <td>False</td>\n",
       "      <td>False</td>\n",
       "      <td>True</td>\n",
       "      <td>False</td>\n",
       "      <td>Day</td>\n",
       "      <td>Day</td>\n",
       "      <td>Day</td>\n",
       "      <td>Day</td>\n",
       "    </tr>\n",
       "    <tr>\n",
       "      <th>4</th>\n",
       "      <td>A-5</td>\n",
       "      <td>3</td>\n",
       "      <td>2016-08-31 17:40:49</td>\n",
       "      <td>2016-08-31 18:10:49</td>\n",
       "      <td>26.102942</td>\n",
       "      <td>-80.265091</td>\n",
       "      <td>26.102942</td>\n",
       "      <td>-80.265091</td>\n",
       "      <td>0.000</td>\n",
       "      <td>Accident on I-595 Westbound at Exit 4 / Pine I...</td>\n",
       "      <td>NaN</td>\n",
       "      <td>I-595 W</td>\n",
       "      <td>R</td>\n",
       "      <td>Fort Lauderdale</td>\n",
       "      <td>Broward</td>\n",
       "      <td>FL</td>\n",
       "      <td>33324</td>\n",
       "      <td>US</td>\n",
       "      <td>US/Eastern</td>\n",
       "      <td>KHWO</td>\n",
       "      <td>2016-08-31 17:53:00</td>\n",
       "      <td>84.2</td>\n",
       "      <td>NaN</td>\n",
       "      <td>84.0</td>\n",
       "      <td>29.92</td>\n",
       "      <td>10.0</td>\n",
       "      <td>SSE</td>\n",
       "      <td>13.8</td>\n",
       "      <td>NaN</td>\n",
       "      <td>Overcast</td>\n",
       "      <td>False</td>\n",
       "      <td>False</td>\n",
       "      <td>False</td>\n",
       "      <td>False</td>\n",
       "      <td>True</td>\n",
       "      <td>False</td>\n",
       "      <td>False</td>\n",
       "      <td>False</td>\n",
       "      <td>False</td>\n",
       "      <td>False</td>\n",
       "      <td>False</td>\n",
       "      <td>True</td>\n",
       "      <td>False</td>\n",
       "      <td>Day</td>\n",
       "      <td>Day</td>\n",
       "      <td>Day</td>\n",
       "      <td>Day</td>\n",
       "    </tr>\n",
       "    <tr>\n",
       "      <th>...</th>\n",
       "      <td>...</td>\n",
       "      <td>...</td>\n",
       "      <td>...</td>\n",
       "      <td>...</td>\n",
       "      <td>...</td>\n",
       "      <td>...</td>\n",
       "      <td>...</td>\n",
       "      <td>...</td>\n",
       "      <td>...</td>\n",
       "      <td>...</td>\n",
       "      <td>...</td>\n",
       "      <td>...</td>\n",
       "      <td>...</td>\n",
       "      <td>...</td>\n",
       "      <td>...</td>\n",
       "      <td>...</td>\n",
       "      <td>...</td>\n",
       "      <td>...</td>\n",
       "      <td>...</td>\n",
       "      <td>...</td>\n",
       "      <td>...</td>\n",
       "      <td>...</td>\n",
       "      <td>...</td>\n",
       "      <td>...</td>\n",
       "      <td>...</td>\n",
       "      <td>...</td>\n",
       "      <td>...</td>\n",
       "      <td>...</td>\n",
       "      <td>...</td>\n",
       "      <td>...</td>\n",
       "      <td>...</td>\n",
       "      <td>...</td>\n",
       "      <td>...</td>\n",
       "      <td>...</td>\n",
       "      <td>...</td>\n",
       "      <td>...</td>\n",
       "      <td>...</td>\n",
       "      <td>...</td>\n",
       "      <td>...</td>\n",
       "      <td>...</td>\n",
       "      <td>...</td>\n",
       "      <td>...</td>\n",
       "      <td>...</td>\n",
       "      <td>...</td>\n",
       "      <td>...</td>\n",
       "      <td>...</td>\n",
       "      <td>...</td>\n",
       "    </tr>\n",
       "    <tr>\n",
       "      <th>2906605</th>\n",
       "      <td>A-2906606</td>\n",
       "      <td>2</td>\n",
       "      <td>2018-06-28 08:49:01</td>\n",
       "      <td>2018-06-28 09:18:51</td>\n",
       "      <td>29.813824</td>\n",
       "      <td>-95.399437</td>\n",
       "      <td>29.813824</td>\n",
       "      <td>-95.399437</td>\n",
       "      <td>0.000</td>\n",
       "      <td>Accident on 30th St at Yale St.</td>\n",
       "      <td>3001.0</td>\n",
       "      <td>Yale St</td>\n",
       "      <td>L</td>\n",
       "      <td>Houston</td>\n",
       "      <td>Harris</td>\n",
       "      <td>TX</td>\n",
       "      <td>77018-8433</td>\n",
       "      <td>US</td>\n",
       "      <td>US/Central</td>\n",
       "      <td>KMCJ</td>\n",
       "      <td>2018-06-28 08:35:00</td>\n",
       "      <td>84.2</td>\n",
       "      <td>NaN</td>\n",
       "      <td>70.0</td>\n",
       "      <td>30.02</td>\n",
       "      <td>9.0</td>\n",
       "      <td>Variable</td>\n",
       "      <td>5.8</td>\n",
       "      <td>NaN</td>\n",
       "      <td>Clear</td>\n",
       "      <td>False</td>\n",
       "      <td>False</td>\n",
       "      <td>False</td>\n",
       "      <td>False</td>\n",
       "      <td>False</td>\n",
       "      <td>False</td>\n",
       "      <td>False</td>\n",
       "      <td>False</td>\n",
       "      <td>False</td>\n",
       "      <td>True</td>\n",
       "      <td>False</td>\n",
       "      <td>False</td>\n",
       "      <td>False</td>\n",
       "      <td>Day</td>\n",
       "      <td>Day</td>\n",
       "      <td>Day</td>\n",
       "      <td>Day</td>\n",
       "    </tr>\n",
       "    <tr>\n",
       "      <th>2906606</th>\n",
       "      <td>A-2906607</td>\n",
       "      <td>2</td>\n",
       "      <td>2019-01-10 02:01:01</td>\n",
       "      <td>2019-01-10 02:30:32</td>\n",
       "      <td>34.068890</td>\n",
       "      <td>-117.342010</td>\n",
       "      <td>34.068890</td>\n",
       "      <td>-117.342010</td>\n",
       "      <td>0.000</td>\n",
       "      <td>At Valley Blvd - Accident.</td>\n",
       "      <td>NaN</td>\n",
       "      <td>Cypress Ave</td>\n",
       "      <td>R</td>\n",
       "      <td>Colton</td>\n",
       "      <td>San Bernardino</td>\n",
       "      <td>CA</td>\n",
       "      <td>92324</td>\n",
       "      <td>US</td>\n",
       "      <td>US/Pacific</td>\n",
       "      <td>KSBD</td>\n",
       "      <td>2019-01-10 02:00:00</td>\n",
       "      <td>46.9</td>\n",
       "      <td>NaN</td>\n",
       "      <td>74.0</td>\n",
       "      <td>30.14</td>\n",
       "      <td>10.0</td>\n",
       "      <td>Calm</td>\n",
       "      <td>NaN</td>\n",
       "      <td>NaN</td>\n",
       "      <td>Clear</td>\n",
       "      <td>False</td>\n",
       "      <td>False</td>\n",
       "      <td>False</td>\n",
       "      <td>False</td>\n",
       "      <td>False</td>\n",
       "      <td>False</td>\n",
       "      <td>False</td>\n",
       "      <td>False</td>\n",
       "      <td>False</td>\n",
       "      <td>False</td>\n",
       "      <td>False</td>\n",
       "      <td>False</td>\n",
       "      <td>False</td>\n",
       "      <td>Night</td>\n",
       "      <td>Night</td>\n",
       "      <td>Night</td>\n",
       "      <td>Night</td>\n",
       "    </tr>\n",
       "    <tr>\n",
       "      <th>2906607</th>\n",
       "      <td>A-2906608</td>\n",
       "      <td>2</td>\n",
       "      <td>2020-11-23 12:52:00</td>\n",
       "      <td>2020-11-24 00:47:37</td>\n",
       "      <td>25.702200</td>\n",
       "      <td>-80.335556</td>\n",
       "      <td>25.703040</td>\n",
       "      <td>-80.334099</td>\n",
       "      <td>0.108</td>\n",
       "      <td>Stationary traffic on County Hwy-913 - FL-986 ...</td>\n",
       "      <td>8798.0</td>\n",
       "      <td>SW 72nd St</td>\n",
       "      <td>L</td>\n",
       "      <td>Miami</td>\n",
       "      <td>Miami-Dade</td>\n",
       "      <td>FL</td>\n",
       "      <td>33173-3512</td>\n",
       "      <td>US</td>\n",
       "      <td>US/Eastern</td>\n",
       "      <td>KTMB</td>\n",
       "      <td>2020-11-23 12:53:00</td>\n",
       "      <td>76.0</td>\n",
       "      <td>76.0</td>\n",
       "      <td>85.0</td>\n",
       "      <td>30.00</td>\n",
       "      <td>10.0</td>\n",
       "      <td>NNW</td>\n",
       "      <td>16.0</td>\n",
       "      <td>0.0</td>\n",
       "      <td>Mostly Cloudy</td>\n",
       "      <td>False</td>\n",
       "      <td>False</td>\n",
       "      <td>False</td>\n",
       "      <td>False</td>\n",
       "      <td>False</td>\n",
       "      <td>False</td>\n",
       "      <td>False</td>\n",
       "      <td>False</td>\n",
       "      <td>False</td>\n",
       "      <td>False</td>\n",
       "      <td>False</td>\n",
       "      <td>False</td>\n",
       "      <td>False</td>\n",
       "      <td>Day</td>\n",
       "      <td>Day</td>\n",
       "      <td>Day</td>\n",
       "      <td>Day</td>\n",
       "    </tr>\n",
       "    <tr>\n",
       "      <th>2906608</th>\n",
       "      <td>A-2906609</td>\n",
       "      <td>2</td>\n",
       "      <td>2019-12-29 22:38:00</td>\n",
       "      <td>2019-12-29 23:38:00</td>\n",
       "      <td>40.660140</td>\n",
       "      <td>-111.952460</td>\n",
       "      <td>40.660140</td>\n",
       "      <td>-111.952460</td>\n",
       "      <td>0.000</td>\n",
       "      <td>At UT-266/4700/Exit 15 - Accident.</td>\n",
       "      <td>NaN</td>\n",
       "      <td>I-215 N</td>\n",
       "      <td>R</td>\n",
       "      <td>Salt Lake City</td>\n",
       "      <td>Salt Lake</td>\n",
       "      <td>UT</td>\n",
       "      <td>84129</td>\n",
       "      <td>US</td>\n",
       "      <td>US/Mountain</td>\n",
       "      <td>KU42</td>\n",
       "      <td>2019-12-29 22:54:00</td>\n",
       "      <td>27.0</td>\n",
       "      <td>19.0</td>\n",
       "      <td>81.0</td>\n",
       "      <td>25.81</td>\n",
       "      <td>10.0</td>\n",
       "      <td>SSE</td>\n",
       "      <td>8.0</td>\n",
       "      <td>0.0</td>\n",
       "      <td>Cloudy</td>\n",
       "      <td>False</td>\n",
       "      <td>False</td>\n",
       "      <td>False</td>\n",
       "      <td>False</td>\n",
       "      <td>False</td>\n",
       "      <td>False</td>\n",
       "      <td>False</td>\n",
       "      <td>False</td>\n",
       "      <td>False</td>\n",
       "      <td>False</td>\n",
       "      <td>False</td>\n",
       "      <td>False</td>\n",
       "      <td>False</td>\n",
       "      <td>Night</td>\n",
       "      <td>Night</td>\n",
       "      <td>Night</td>\n",
       "      <td>Night</td>\n",
       "    </tr>\n",
       "    <tr>\n",
       "      <th>2906609</th>\n",
       "      <td>A-2906610</td>\n",
       "      <td>2</td>\n",
       "      <td>2018-03-26 13:35:03</td>\n",
       "      <td>2018-03-26 14:39:00</td>\n",
       "      <td>38.831749</td>\n",
       "      <td>-104.748161</td>\n",
       "      <td>38.831749</td>\n",
       "      <td>-104.748161</td>\n",
       "      <td>0.000</td>\n",
       "      <td>Accident on Murray Blvd at Byron Dr.</td>\n",
       "      <td>NaN</td>\n",
       "      <td>Byron Dr</td>\n",
       "      <td>R</td>\n",
       "      <td>Colorado Springs</td>\n",
       "      <td>El Paso</td>\n",
       "      <td>CO</td>\n",
       "      <td>80916</td>\n",
       "      <td>US</td>\n",
       "      <td>US/Mountain</td>\n",
       "      <td>KCOS</td>\n",
       "      <td>2018-03-26 13:54:00</td>\n",
       "      <td>51.1</td>\n",
       "      <td>NaN</td>\n",
       "      <td>38.0</td>\n",
       "      <td>29.77</td>\n",
       "      <td>10.0</td>\n",
       "      <td>SE</td>\n",
       "      <td>13.8</td>\n",
       "      <td>NaN</td>\n",
       "      <td>Scattered Clouds</td>\n",
       "      <td>False</td>\n",
       "      <td>False</td>\n",
       "      <td>True</td>\n",
       "      <td>False</td>\n",
       "      <td>False</td>\n",
       "      <td>False</td>\n",
       "      <td>False</td>\n",
       "      <td>False</td>\n",
       "      <td>False</td>\n",
       "      <td>False</td>\n",
       "      <td>False</td>\n",
       "      <td>True</td>\n",
       "      <td>False</td>\n",
       "      <td>Day</td>\n",
       "      <td>Day</td>\n",
       "      <td>Day</td>\n",
       "      <td>Day</td>\n",
       "    </tr>\n",
       "  </tbody>\n",
       "</table>\n",
       "<p>2906610 rows × 47 columns</p>\n",
       "</div>"
      ],
      "text/plain": [
       "                ID  Severity  ... Nautical_Twilight Astronomical_Twilight\n",
       "0              A-1         2  ...               Day                   Day\n",
       "1              A-2         2  ...               Day                   Day\n",
       "2              A-3         2  ...             Night                 Night\n",
       "3              A-4         2  ...               Day                   Day\n",
       "4              A-5         3  ...               Day                   Day\n",
       "...            ...       ...  ...               ...                   ...\n",
       "2906605  A-2906606         2  ...               Day                   Day\n",
       "2906606  A-2906607         2  ...             Night                 Night\n",
       "2906607  A-2906608         2  ...               Day                   Day\n",
       "2906608  A-2906609         2  ...             Night                 Night\n",
       "2906609  A-2906610         2  ...               Day                   Day\n",
       "\n",
       "[2906610 rows x 47 columns]"
      ]
     },
     "execution_count": 10,
     "metadata": {},
     "output_type": "execute_result"
    }
   ],
   "source": [
    "df"
   ]
  },
  {
   "cell_type": "code",
   "execution_count": null,
   "metadata": {
    "colab": {
     "base_uri": "https://localhost:8080/"
    },
    "executionInfo": {
     "elapsed": 416,
     "status": "ok",
     "timestamp": 1629530062517,
     "user": {
      "displayName": "Diya Sabu",
      "photoUrl": "https://lh3.googleusercontent.com/a-/AOh14GhBB5nx_fvvRe-MEMKW6pJ3FcFPyW4VV1QXO8kyLd8=s64",
      "userId": "11455455934392992633"
     },
     "user_tz": -330
    },
    "id": "XQewqwQejmVV",
    "outputId": "23f13a14-94be-412e-90fc-0b3e21036a8b"
   },
   "outputs": [
    {
     "data": {
      "text/plain": [
       "Index(['ID', 'Severity', 'Start_Time', 'End_Time', 'Start_Lat', 'Start_Lng',\n",
       "       'End_Lat', 'End_Lng', 'Distance(mi)', 'Description', 'Number', 'Street',\n",
       "       'Side', 'City', 'County', 'State', 'Zipcode', 'Country', 'Timezone',\n",
       "       'Airport_Code', 'Weather_Timestamp', 'Temperature(F)', 'Wind_Chill(F)',\n",
       "       'Humidity(%)', 'Pressure(in)', 'Visibility(mi)', 'Wind_Direction',\n",
       "       'Wind_Speed(mph)', 'Precipitation(in)', 'Weather_Condition', 'Amenity',\n",
       "       'Bump', 'Crossing', 'Give_Way', 'Junction', 'No_Exit', 'Railway',\n",
       "       'Roundabout', 'Station', 'Stop', 'Traffic_Calming', 'Traffic_Signal',\n",
       "       'Turning_Loop', 'Sunrise_Sunset', 'Civil_Twilight', 'Nautical_Twilight',\n",
       "       'Astronomical_Twilight'],\n",
       "      dtype='object')"
      ]
     },
     "execution_count": 11,
     "metadata": {},
     "output_type": "execute_result"
    }
   ],
   "source": [
    "df.columns"
   ]
  },
  {
   "cell_type": "code",
   "execution_count": null,
   "metadata": {
    "colab": {
     "base_uri": "https://localhost:8080/"
    },
    "executionInfo": {
     "elapsed": 421,
     "status": "ok",
     "timestamp": 1629530091091,
     "user": {
      "displayName": "Diya Sabu",
      "photoUrl": "https://lh3.googleusercontent.com/a-/AOh14GhBB5nx_fvvRe-MEMKW6pJ3FcFPyW4VV1QXO8kyLd8=s64",
      "userId": "11455455934392992633"
     },
     "user_tz": -330
    },
    "id": "d2H5ht-Wjtf0",
    "outputId": "e99c0fe6-6186-4da5-e640-dd53069f240a"
   },
   "outputs": [
    {
     "data": {
      "text/plain": [
       "2906610"
      ]
     },
     "execution_count": 12,
     "metadata": {},
     "output_type": "execute_result"
    }
   ],
   "source": [
    "len(df)"
   ]
  },
  {
   "cell_type": "code",
   "execution_count": null,
   "metadata": {
    "colab": {
     "base_uri": "https://localhost:8080/"
    },
    "executionInfo": {
     "elapsed": 331,
     "status": "ok",
     "timestamp": 1629530152141,
     "user": {
      "displayName": "Diya Sabu",
      "photoUrl": "https://lh3.googleusercontent.com/a-/AOh14GhBB5nx_fvvRe-MEMKW6pJ3FcFPyW4VV1QXO8kyLd8=s64",
      "userId": "11455455934392992633"
     },
     "user_tz": -330
    },
    "id": "x5lJX8gkjtp9",
    "outputId": "c77f4546-b364-4d06-f8ec-fc7384d82a6a"
   },
   "outputs": [
    {
     "name": "stdout",
     "output_type": "stream",
     "text": [
      "<class 'pandas.core.frame.DataFrame'>\n",
      "RangeIndex: 2906610 entries, 0 to 2906609\n",
      "Data columns (total 47 columns):\n",
      " #   Column                 Dtype  \n",
      "---  ------                 -----  \n",
      " 0   ID                     object \n",
      " 1   Severity               int64  \n",
      " 2   Start_Time             object \n",
      " 3   End_Time               object \n",
      " 4   Start_Lat              float64\n",
      " 5   Start_Lng              float64\n",
      " 6   End_Lat                float64\n",
      " 7   End_Lng                float64\n",
      " 8   Distance(mi)           float64\n",
      " 9   Description            object \n",
      " 10  Number                 float64\n",
      " 11  Street                 object \n",
      " 12  Side                   object \n",
      " 13  City                   object \n",
      " 14  County                 object \n",
      " 15  State                  object \n",
      " 16  Zipcode                object \n",
      " 17  Country                object \n",
      " 18  Timezone               object \n",
      " 19  Airport_Code           object \n",
      " 20  Weather_Timestamp      object \n",
      " 21  Temperature(F)         float64\n",
      " 22  Wind_Chill(F)          float64\n",
      " 23  Humidity(%)            float64\n",
      " 24  Pressure(in)           float64\n",
      " 25  Visibility(mi)         float64\n",
      " 26  Wind_Direction         object \n",
      " 27  Wind_Speed(mph)        float64\n",
      " 28  Precipitation(in)      float64\n",
      " 29  Weather_Condition      object \n",
      " 30  Amenity                bool   \n",
      " 31  Bump                   bool   \n",
      " 32  Crossing               bool   \n",
      " 33  Give_Way               bool   \n",
      " 34  Junction               bool   \n",
      " 35  No_Exit                bool   \n",
      " 36  Railway                bool   \n",
      " 37  Roundabout             bool   \n",
      " 38  Station                bool   \n",
      " 39  Stop                   bool   \n",
      " 40  Traffic_Calming        bool   \n",
      " 41  Traffic_Signal         bool   \n",
      " 42  Turning_Loop           bool   \n",
      " 43  Sunrise_Sunset         object \n",
      " 44  Civil_Twilight         object \n",
      " 45  Nautical_Twilight      object \n",
      " 46  Astronomical_Twilight  object \n",
      "dtypes: bool(13), float64(13), int64(1), object(20)\n",
      "memory usage: 790.0+ MB\n"
     ]
    }
   ],
   "source": [
    "df.info()"
   ]
  },
  {
   "cell_type": "code",
   "execution_count": null,
   "metadata": {
    "colab": {
     "base_uri": "https://localhost:8080/",
     "height": 317
    },
    "executionInfo": {
     "elapsed": 1856,
     "status": "ok",
     "timestamp": 1629530239270,
     "user": {
      "displayName": "Diya Sabu",
      "photoUrl": "https://lh3.googleusercontent.com/a-/AOh14GhBB5nx_fvvRe-MEMKW6pJ3FcFPyW4VV1QXO8kyLd8=s64",
      "userId": "11455455934392992633"
     },
     "user_tz": -330
    },
    "id": "HC63-ebWkGtH",
    "outputId": "65ba1597-413b-4ed5-d8fd-83a78882f248"
   },
   "outputs": [
    {
     "data": {
      "text/html": [
       "<div>\n",
       "<style scoped>\n",
       "    .dataframe tbody tr th:only-of-type {\n",
       "        vertical-align: middle;\n",
       "    }\n",
       "\n",
       "    .dataframe tbody tr th {\n",
       "        vertical-align: top;\n",
       "    }\n",
       "\n",
       "    .dataframe thead th {\n",
       "        text-align: right;\n",
       "    }\n",
       "</style>\n",
       "<table border=\"1\" class=\"dataframe\">\n",
       "  <thead>\n",
       "    <tr style=\"text-align: right;\">\n",
       "      <th></th>\n",
       "      <th>Severity</th>\n",
       "      <th>Start_Lat</th>\n",
       "      <th>Start_Lng</th>\n",
       "      <th>End_Lat</th>\n",
       "      <th>End_Lng</th>\n",
       "      <th>Distance(mi)</th>\n",
       "      <th>Number</th>\n",
       "      <th>Temperature(F)</th>\n",
       "      <th>Wind_Chill(F)</th>\n",
       "      <th>Humidity(%)</th>\n",
       "      <th>Pressure(in)</th>\n",
       "      <th>Visibility(mi)</th>\n",
       "      <th>Wind_Speed(mph)</th>\n",
       "      <th>Precipitation(in)</th>\n",
       "    </tr>\n",
       "  </thead>\n",
       "  <tbody>\n",
       "    <tr>\n",
       "      <th>count</th>\n",
       "      <td>2.906610e+06</td>\n",
       "      <td>2.906610e+06</td>\n",
       "      <td>2.906610e+06</td>\n",
       "      <td>2.623789e+06</td>\n",
       "      <td>2.623789e+06</td>\n",
       "      <td>2.906610e+06</td>\n",
       "      <td>1.014938e+06</td>\n",
       "      <td>2.839386e+06</td>\n",
       "      <td>1.722751e+06</td>\n",
       "      <td>2.835340e+06</td>\n",
       "      <td>2.849702e+06</td>\n",
       "      <td>2.834532e+06</td>\n",
       "      <td>2.599447e+06</td>\n",
       "      <td>1.605284e+06</td>\n",
       "    </tr>\n",
       "    <tr>\n",
       "      <th>mean</th>\n",
       "      <td>2.288649e+00</td>\n",
       "      <td>3.653027e+01</td>\n",
       "      <td>-9.642676e+01</td>\n",
       "      <td>3.651733e+01</td>\n",
       "      <td>-9.620367e+01</td>\n",
       "      <td>3.980541e-01</td>\n",
       "      <td>6.789728e+03</td>\n",
       "      <td>6.098873e+01</td>\n",
       "      <td>5.499048e+01</td>\n",
       "      <td>6.537758e+01</td>\n",
       "      <td>2.965685e+01</td>\n",
       "      <td>9.116766e+00</td>\n",
       "      <td>7.818111e+00</td>\n",
       "      <td>1.119459e-02</td>\n",
       "    </tr>\n",
       "    <tr>\n",
       "      <th>std</th>\n",
       "      <td>5.541618e-01</td>\n",
       "      <td>5.013964e+00</td>\n",
       "      <td>1.775412e+01</td>\n",
       "      <td>5.016609e+00</td>\n",
       "      <td>1.765971e+01</td>\n",
       "      <td>1.592556e+00</td>\n",
       "      <td>1.697225e+04</td>\n",
       "      <td>1.845258e+01</td>\n",
       "      <td>2.219542e+01</td>\n",
       "      <td>2.287854e+01</td>\n",
       "      <td>9.094133e-01</td>\n",
       "      <td>2.837271e+00</td>\n",
       "      <td>5.431171e+00</td>\n",
       "      <td>1.540812e-01</td>\n",
       "    </tr>\n",
       "    <tr>\n",
       "      <th>min</th>\n",
       "      <td>1.000000e+00</td>\n",
       "      <td>2.455527e+01</td>\n",
       "      <td>-1.246238e+02</td>\n",
       "      <td>2.455527e+01</td>\n",
       "      <td>-1.246238e+02</td>\n",
       "      <td>0.000000e+00</td>\n",
       "      <td>0.000000e+00</td>\n",
       "      <td>-8.900000e+01</td>\n",
       "      <td>-8.900000e+01</td>\n",
       "      <td>1.000000e+00</td>\n",
       "      <td>0.000000e+00</td>\n",
       "      <td>0.000000e+00</td>\n",
       "      <td>0.000000e+00</td>\n",
       "      <td>0.000000e+00</td>\n",
       "    </tr>\n",
       "    <tr>\n",
       "      <th>25%</th>\n",
       "      <td>2.000000e+00</td>\n",
       "      <td>3.366453e+01</td>\n",
       "      <td>-1.178232e+02</td>\n",
       "      <td>3.364659e+01</td>\n",
       "      <td>-1.177020e+02</td>\n",
       "      <td>0.000000e+00</td>\n",
       "      <td>9.650000e+02</td>\n",
       "      <td>4.890000e+01</td>\n",
       "      <td>3.900000e+01</td>\n",
       "      <td>4.900000e+01</td>\n",
       "      <td>2.959000e+01</td>\n",
       "      <td>1.000000e+01</td>\n",
       "      <td>4.600000e+00</td>\n",
       "      <td>0.000000e+00</td>\n",
       "    </tr>\n",
       "    <tr>\n",
       "      <th>50%</th>\n",
       "      <td>2.000000e+00</td>\n",
       "      <td>3.609977e+01</td>\n",
       "      <td>-9.116690e+01</td>\n",
       "      <td>3.605898e+01</td>\n",
       "      <td>-9.105163e+01</td>\n",
       "      <td>0.000000e+00</td>\n",
       "      <td>3.093000e+03</td>\n",
       "      <td>6.300000e+01</td>\n",
       "      <td>5.800000e+01</td>\n",
       "      <td>6.800000e+01</td>\n",
       "      <td>2.992000e+01</td>\n",
       "      <td>1.000000e+01</td>\n",
       "      <td>7.000000e+00</td>\n",
       "      <td>0.000000e+00</td>\n",
       "    </tr>\n",
       "    <tr>\n",
       "      <th>75%</th>\n",
       "      <td>3.000000e+00</td>\n",
       "      <td>4.037505e+01</td>\n",
       "      <td>-8.085814e+01</td>\n",
       "      <td>4.033133e+01</td>\n",
       "      <td>-8.084679e+01</td>\n",
       "      <td>2.790000e-01</td>\n",
       "      <td>7.976000e+03</td>\n",
       "      <td>7.500000e+01</td>\n",
       "      <td>7.200000e+01</td>\n",
       "      <td>8.500000e+01</td>\n",
       "      <td>3.007000e+01</td>\n",
       "      <td>1.000000e+01</td>\n",
       "      <td>1.040000e+01</td>\n",
       "      <td>0.000000e+00</td>\n",
       "    </tr>\n",
       "    <tr>\n",
       "      <th>max</th>\n",
       "      <td>4.000000e+00</td>\n",
       "      <td>4.900220e+01</td>\n",
       "      <td>-6.711317e+01</td>\n",
       "      <td>4.907500e+01</td>\n",
       "      <td>-6.710924e+01</td>\n",
       "      <td>3.336300e+02</td>\n",
       "      <td>9.999997e+06</td>\n",
       "      <td>2.030000e+02</td>\n",
       "      <td>1.740000e+02</td>\n",
       "      <td>1.000000e+02</td>\n",
       "      <td>5.804000e+01</td>\n",
       "      <td>1.400000e+02</td>\n",
       "      <td>9.840000e+02</td>\n",
       "      <td>2.400000e+01</td>\n",
       "    </tr>\n",
       "  </tbody>\n",
       "</table>\n",
       "</div>"
      ],
      "text/plain": [
       "           Severity     Start_Lat  ...  Wind_Speed(mph)  Precipitation(in)\n",
       "count  2.906610e+06  2.906610e+06  ...     2.599447e+06       1.605284e+06\n",
       "mean   2.288649e+00  3.653027e+01  ...     7.818111e+00       1.119459e-02\n",
       "std    5.541618e-01  5.013964e+00  ...     5.431171e+00       1.540812e-01\n",
       "min    1.000000e+00  2.455527e+01  ...     0.000000e+00       0.000000e+00\n",
       "25%    2.000000e+00  3.366453e+01  ...     4.600000e+00       0.000000e+00\n",
       "50%    2.000000e+00  3.609977e+01  ...     7.000000e+00       0.000000e+00\n",
       "75%    3.000000e+00  4.037505e+01  ...     1.040000e+01       0.000000e+00\n",
       "max    4.000000e+00  4.900220e+01  ...     9.840000e+02       2.400000e+01\n",
       "\n",
       "[8 rows x 14 columns]"
      ]
     },
     "execution_count": 15,
     "metadata": {},
     "output_type": "execute_result"
    }
   ],
   "source": [
    "df.describe()"
   ]
  },
  {
   "cell_type": "code",
   "execution_count": null,
   "metadata": {
    "colab": {
     "base_uri": "https://localhost:8080/"
    },
    "executionInfo": {
     "elapsed": 412,
     "status": "ok",
     "timestamp": 1629530577111,
     "user": {
      "displayName": "Diya Sabu",
      "photoUrl": "https://lh3.googleusercontent.com/a-/AOh14GhBB5nx_fvvRe-MEMKW6pJ3FcFPyW4VV1QXO8kyLd8=s64",
      "userId": "11455455934392992633"
     },
     "user_tz": -330
    },
    "id": "gIvMB62MkibS",
    "outputId": "c1b1b7b3-e0f3-4e42-d085-6bc82f4883b7"
   },
   "outputs": [
    {
     "data": {
      "text/plain": [
       "14"
      ]
     },
     "execution_count": 16,
     "metadata": {},
     "output_type": "execute_result"
    }
   ],
   "source": [
    "numerics = ['int16', 'int32', 'int64', 'float16', 'float32', 'float64']\n",
    "\n",
    "numeric_df = df.select_dtypes(include=numerics)\n",
    "len(numeric_df.columns)"
   ]
  },
  {
   "cell_type": "markdown",
   "metadata": {
    "id": "SYku4qCTmhFa"
   },
   "source": [
    "Percentage of missing values per column"
   ]
  },
  {
   "cell_type": "code",
   "execution_count": null,
   "metadata": {
    "colab": {
     "base_uri": "https://localhost:8080/"
    },
    "executionInfo": {
     "elapsed": 2831,
     "status": "ok",
     "timestamp": 1629530881523,
     "user": {
      "displayName": "Diya Sabu",
      "photoUrl": "https://lh3.googleusercontent.com/a-/AOh14GhBB5nx_fvvRe-MEMKW6pJ3FcFPyW4VV1QXO8kyLd8=s64",
      "userId": "11455455934392992633"
     },
     "user_tz": -330
    },
    "id": "razAGDssmOjS",
    "outputId": "6007a0f8-77d5-4f9f-a144-337c1446256f"
   },
   "outputs": [
    {
     "data": {
      "text/plain": [
       "Number                   0.650817\n",
       "Precipitation(in)        0.447713\n",
       "Wind_Chill(F)            0.407299\n",
       "Wind_Speed(mph)          0.105677\n",
       "End_Lat                  0.097303\n",
       "End_Lng                  0.097303\n",
       "Visibility(mi)           0.024798\n",
       "Weather_Condition        0.024720\n",
       "Humidity(%)              0.024520\n",
       "Temperature(F)           0.023128\n",
       "Wind_Direction           0.021838\n",
       "Pressure(in)             0.019579\n",
       "Weather_Timestamp        0.016141\n",
       "Airport_Code             0.002273\n",
       "Timezone                 0.001180\n",
       "Zipcode                  0.000383\n",
       "Nautical_Twilight        0.000038\n",
       "Astronomical_Twilight    0.000038\n",
       "Civil_Twilight           0.000038\n",
       "Sunrise_Sunset           0.000038\n",
       "City                     0.000037\n",
       "Amenity                  0.000000\n",
       "Severity                 0.000000\n",
       "Start_Time               0.000000\n",
       "End_Time                 0.000000\n",
       "Start_Lat                0.000000\n",
       "Start_Lng                0.000000\n",
       "Distance(mi)             0.000000\n",
       "Description              0.000000\n",
       "Turning_Loop             0.000000\n",
       "Street                   0.000000\n",
       "Side                     0.000000\n",
       "County                   0.000000\n",
       "Bump                     0.000000\n",
       "State                    0.000000\n",
       "Traffic_Signal           0.000000\n",
       "Country                  0.000000\n",
       "Traffic_Calming          0.000000\n",
       "Stop                     0.000000\n",
       "Station                  0.000000\n",
       "Roundabout               0.000000\n",
       "Railway                  0.000000\n",
       "No_Exit                  0.000000\n",
       "Junction                 0.000000\n",
       "Give_Way                 0.000000\n",
       "Crossing                 0.000000\n",
       "ID                       0.000000\n",
       "dtype: float64"
      ]
     },
     "execution_count": 22,
     "metadata": {},
     "output_type": "execute_result"
    }
   ],
   "source": [
    "missing_percentages= df.isna().sum().sort_values(ascending=False)/len(df)\n",
    "missing_percentages"
   ]
  },
  {
   "cell_type": "code",
   "execution_count": null,
   "metadata": {
    "colab": {
     "base_uri": "https://localhost:8080/",
     "height": 282
    },
    "executionInfo": {
     "elapsed": 418,
     "status": "ok",
     "timestamp": 1629531101015,
     "user": {
      "displayName": "Diya Sabu",
      "photoUrl": "https://lh3.googleusercontent.com/a-/AOh14GhBB5nx_fvvRe-MEMKW6pJ3FcFPyW4VV1QXO8kyLd8=s64",
      "userId": "11455455934392992633"
     },
     "user_tz": -330
    },
    "id": "sCDI4ZIamPtj",
    "outputId": "b9e4a310-60a5-4683-eacf-ed874dd23350"
   },
   "outputs": [
    {
     "data": {
      "text/plain": [
       "<matplotlib.axes._subplots.AxesSubplot at 0x7fa3d4cc0e90>"
      ]
     },
     "execution_count": 24,
     "metadata": {},
     "output_type": "execute_result"
    },
    {
     "data": {
      "image/png": "[encoded data removed]",
      "text/plain": [
       "<Figure size 432x288 with 1 Axes>"
      ]
     },
     "metadata": {
      "needs_background": "light"
     },
     "output_type": "display_data"
    }
   ],
   "source": [
    "missing_percentages[missing_percentages!=0].plot(kind='barh')"
   ]
  },
  {
   "cell_type": "markdown",
   "metadata": {
    "id": "O10G9BSPoD2Z"
   },
   "source": [
    "## Exploratory analysis and Visualization\n",
    "1. City\n",
    "2. Start time\n",
    "3. Start lat, long\n",
    "4. Temperature\n",
    "5. Weather conditions"
   ]
  },
  {
   "cell_type": "code",
   "execution_count": null,
   "metadata": {
    "colab": {
     "base_uri": "https://localhost:8080/"
    },
    "executionInfo": {
     "elapsed": 334,
     "status": "ok",
     "timestamp": 1629531429740,
     "user": {
      "displayName": "Diya Sabu",
      "photoUrl": "https://lh3.googleusercontent.com/a-/AOh14GhBB5nx_fvvRe-MEMKW6pJ3FcFPyW4VV1QXO8kyLd8=s64",
      "userId": "11455455934392992633"
     },
     "user_tz": -330
    },
    "id": "1zJlclhxnTkc",
    "outputId": "a77f3fd2-bcac-429c-8391-386845fba44c"
   },
   "outputs": [
    {
     "data": {
      "text/plain": [
       "11790"
      ]
     },
     "execution_count": 28,
     "metadata": {},
     "output_type": "execute_result"
    }
   ],
   "source": [
    "cities=df.City.unique()\n",
    "len(cities)"
   ]
  },
  {
   "cell_type": "markdown",
   "metadata": {
    "id": "HGl9eu-vu-ID"
   },
   "source": [
    "### City"
   ]
  },
  {
   "cell_type": "code",
   "execution_count": null,
   "metadata": {
    "colab": {
     "base_uri": "https://localhost:8080/"
    },
    "executionInfo": {
     "elapsed": 328,
     "status": "ok",
     "timestamp": 1629531613923,
     "user": {
      "displayName": "Diya Sabu",
      "photoUrl": "https://lh3.googleusercontent.com/a-/AOh14GhBB5nx_fvvRe-MEMKW6pJ3FcFPyW4VV1QXO8kyLd8=s64",
      "userId": "11455455934392992633"
     },
     "user_tz": -330
    },
    "id": "WNPw7W7Go4pJ",
    "outputId": "a50776a0-e55e-4506-d32b-714a10839755"
   },
   "outputs": [
    {
     "data": {
      "text/plain": [
       "Los Angeles      68411\n",
       "Houston          68265\n",
       "Charlotte        56176\n",
       "Miami            49965\n",
       "Dallas           48525\n",
       "                 ...  \n",
       "Wannaska             1\n",
       "Tahoka               1\n",
       "Brownsdale           1\n",
       "Krotz Springs        1\n",
       "Vashon Island        1\n",
       "Name: City, Length: 11789, dtype: int64"
      ]
     },
     "execution_count": 30,
     "metadata": {},
     "output_type": "execute_result"
    }
   ],
   "source": [
    "cities_by_accident=df.City.value_counts()\n",
    "cities_by_accident"
   ]
  },
  {
   "cell_type": "code",
   "execution_count": null,
   "metadata": {
    "colab": {
     "base_uri": "https://localhost:8080/"
    },
    "executionInfo": {
     "elapsed": 415,
     "status": "ok",
     "timestamp": 1629531668795,
     "user": {
      "displayName": "Diya Sabu",
      "photoUrl": "https://lh3.googleusercontent.com/a-/AOh14GhBB5nx_fvvRe-MEMKW6pJ3FcFPyW4VV1QXO8kyLd8=s64",
      "userId": "11455455934392992633"
     },
     "user_tz": -330
    },
    "id": "k1w4RYbPpvfc",
    "outputId": "af9ea75c-3471-49e9-cd7d-360a9efbb6b7"
   },
   "outputs": [
    {
     "data": {
      "text/plain": [
       "Los Angeles      68411\n",
       "Houston          68265\n",
       "Charlotte        56176\n",
       "Miami            49965\n",
       "Dallas           48525\n",
       "Austin           38808\n",
       "Raleigh          31355\n",
       "Atlanta          29244\n",
       "Sacramento       28984\n",
       "Orlando          28092\n",
       "Nashville        25277\n",
       "Baton Rouge      25080\n",
       "Minneapolis      22469\n",
       "San Diego        22329\n",
       "Phoenix          21370\n",
       "Oklahoma City    21292\n",
       "Portland         19432\n",
       "Richmond         18343\n",
       "Seattle          17384\n",
       "Saint Paul       17266\n",
       "Name: City, dtype: int64"
      ]
     },
     "execution_count": 32,
     "metadata": {},
     "output_type": "execute_result"
    }
   ],
   "source": [
    "cities_by_accident[:20]"
   ]
  },
  {
   "cell_type": "code",
   "execution_count": null,
   "metadata": {
    "colab": {
     "base_uri": "https://localhost:8080/"
    },
    "executionInfo": {
     "elapsed": 416,
     "status": "ok",
     "timestamp": 1629531802834,
     "user": {
      "displayName": "Diya Sabu",
      "photoUrl": "https://lh3.googleusercontent.com/a-/AOh14GhBB5nx_fvvRe-MEMKW6pJ3FcFPyW4VV1QXO8kyLd8=s64",
      "userId": "11455455934392992633"
     },
     "user_tz": -330
    },
    "id": "M_h-i7Aap-DN",
    "outputId": "8c36ecc3-7b14-4a44-b2b1-170d0d6a8930"
   },
   "outputs": [
    {
     "data": {
      "text/plain": [
       "False"
      ]
     },
     "execution_count": 34,
     "metadata": {},
     "output_type": "execute_result"
    }
   ],
   "source": [
    "'New York' in df.State"
   ]
  },
  {
   "cell_type": "code",
   "execution_count": null,
   "metadata": {
    "colab": {
     "base_uri": "https://localhost:8080/",
     "height": 282
    },
    "executionInfo": {
     "elapsed": 412,
     "status": "ok",
     "timestamp": 1629531984492,
     "user": {
      "displayName": "Diya Sabu",
      "photoUrl": "https://lh3.googleusercontent.com/a-/AOh14GhBB5nx_fvvRe-MEMKW6pJ3FcFPyW4VV1QXO8kyLd8=s64",
      "userId": "11455455934392992633"
     },
     "user_tz": -330
    },
    "id": "2glABN1Wq_bG",
    "outputId": "2f0cf9d2-a242-4492-9b3f-e1fa873a2686"
   },
   "outputs": [
    {
     "data": {
      "text/plain": [
       "<matplotlib.axes._subplots.AxesSubplot at 0x7fa3c6307dd0>"
      ]
     },
     "execution_count": 36,
     "metadata": {},
     "output_type": "execute_result"
    },
    {
     "data": {
      "image/png": "[encoded data removed]",
      "text/plain": [
       "<Figure size 432x288 with 1 Axes>"
      ]
     },
     "metadata": {
      "needs_background": "light"
     },
     "output_type": "display_data"
    }
   ],
   "source": [
    "cities_by_accident[:20].plot(kind='barh')"
   ]
  },
  {
   "cell_type": "code",
   "execution_count": null,
   "metadata": {
    "id": "MoTX8F17rMv-"
   },
   "outputs": [],
   "source": [
    "import seaborn as sns\n",
    "sns.set_style(\"darkgrid\")"
   ]
  },
  {
   "cell_type": "code",
   "execution_count": null,
   "metadata": {
    "colab": {
     "base_uri": "https://localhost:8080/",
     "height": 300
    },
    "executionInfo": {
     "elapsed": 1523,
     "status": "ok",
     "timestamp": 1629532679726,
     "user": {
      "displayName": "Diya Sabu",
      "photoUrl": "https://lh3.googleusercontent.com/a-/AOh14GhBB5nx_fvvRe-MEMKW6pJ3FcFPyW4VV1QXO8kyLd8=s64",
      "userId": "11455455934392992633"
     },
     "user_tz": -330
    },
    "id": "vGK8NNMar0QN",
    "outputId": "3cd8a3d6-9132-4cf8-8671-e3f8bce926fe"
   },
   "outputs": [
    {
     "data": {
      "text/plain": [
       "<matplotlib.axes._subplots.AxesSubplot at 0x7fa3a8202d10>"
      ]
     },
     "execution_count": 45,
     "metadata": {},
     "output_type": "execute_result"
    },
    {
     "data": {
      "image/png": "[encoded data removed]",
      "text/plain": [
       "<Figure size 432x288 with 1 Axes>"
      ]
     },
     "metadata": {},
     "output_type": "display_data"
    }
   ],
   "source": [
    "sns.histplot(cities_by_accident,log_scale=True)"
   ]
  },
  {
   "cell_type": "code",
   "execution_count": null,
   "metadata": {
    "id": "8vCZT-_Er_01"
   },
   "outputs": [],
   "source": [
    "high_accident_cities=cities_by_accident[cities_by_accident>=1000]\n",
    "low_accident_cities=cities_by_accident[cities_by_accident<1000]"
   ]
  },
  {
   "cell_type": "code",
   "execution_count": null,
   "metadata": {
    "colab": {
     "base_uri": "https://localhost:8080/"
    },
    "executionInfo": {
     "elapsed": 23,
     "status": "ok",
     "timestamp": 1629532456481,
     "user": {
      "displayName": "Diya Sabu",
      "photoUrl": "https://lh3.googleusercontent.com/a-/AOh14GhBB5nx_fvvRe-MEMKW6pJ3FcFPyW4VV1QXO8kyLd8=s64",
      "userId": "11455455934392992633"
     },
     "user_tz": -330
    },
    "id": "Eea6ynrBsqvN",
    "outputId": "ec2bb4b7-4e44-467e-eb83-0b7fb1422a4a"
   },
   "outputs": [
    {
     "data": {
      "text/plain": [
       "0.04351145038167939"
      ]
     },
     "execution_count": 41,
     "metadata": {},
     "output_type": "execute_result"
    }
   ],
   "source": [
    "len(high_accident_cities)/len(cities)"
   ]
  },
  {
   "cell_type": "code",
   "execution_count": null,
   "metadata": {
    "colab": {
     "base_uri": "https://localhost:8080/",
     "height": 300
    },
    "executionInfo": {
     "elapsed": 940,
     "status": "ok",
     "timestamp": 1629532646176,
     "user": {
      "displayName": "Diya Sabu",
      "photoUrl": "https://lh3.googleusercontent.com/a-/AOh14GhBB5nx_fvvRe-MEMKW6pJ3FcFPyW4VV1QXO8kyLd8=s64",
      "userId": "11455455934392992633"
     },
     "user_tz": -330
    },
    "id": "arQ4PxozsznC",
    "outputId": "eaecd47d-9824-44f9-c36d-52f6da0d0720"
   },
   "outputs": [
    {
     "data": {
      "text/plain": [
       "<matplotlib.axes._subplots.AxesSubplot at 0x7fa3a8574550>"
      ]
     },
     "execution_count": 44,
     "metadata": {},
     "output_type": "execute_result"
    },
    {
     "data": {
      "image/png": "[encoded data removed]",
      "text/plain": [
       "<Figure size 432x288 with 1 Axes>"
      ]
     },
     "metadata": {},
     "output_type": "display_data"
    }
   ],
   "source": [
    "sns.histplot(high_accident_cities,log_scale=True)"
   ]
  },
  {
   "cell_type": "code",
   "execution_count": null,
   "metadata": {
    "colab": {
     "base_uri": "https://localhost:8080/",
     "height": 350
    },
    "executionInfo": {
     "elapsed": 1204,
     "status": "ok",
     "timestamp": 1629532548554,
     "user": {
      "displayName": "Diya Sabu",
      "photoUrl": "https://lh3.googleusercontent.com/a-/AOh14GhBB5nx_fvvRe-MEMKW6pJ3FcFPyW4VV1QXO8kyLd8=s64",
      "userId": "11455455934392992633"
     },
     "user_tz": -330
    },
    "id": "SzeTJ7Vwszwc",
    "outputId": "a61f5404-0dd9-4f02-f39e-f1641f74ddc1"
   },
   "outputs": [
    {
     "name": "stderr",
     "output_type": "stream",
     "text": [
      "/usr/local/lib/python3.7/dist-packages/seaborn/distributions.py:2557: FutureWarning: `distplot` is a deprecated function and will be removed in a future version. Please adapt your code to use either `displot` (a figure-level function with similar flexibility) or `histplot` (an axes-level function for histograms).\n",
      "  warnings.warn(msg, FutureWarning)\n"
     ]
    },
    {
     "data": {
      "text/plain": [
       "<matplotlib.axes._subplots.AxesSubplot at 0x7fa3a8847ad0>"
      ]
     },
     "execution_count": 43,
     "metadata": {},
     "output_type": "execute_result"
    },
    {
     "data": {
      "image/png": "[encoded data removed]",
      "text/plain": [
       "<Figure size 432x288 with 1 Axes>"
      ]
     },
     "metadata": {},
     "output_type": "display_data"
    }
   ],
   "source": [
    "sns.distplot(low_accident_cities)"
   ]
  },
  {
   "cell_type": "markdown",
   "metadata": {
    "id": "AycXTBppvBKf"
   },
   "source": [
    "### Start time"
   ]
  },
  {
   "cell_type": "code",
   "execution_count": null,
   "metadata": {
    "colab": {
     "base_uri": "https://localhost:8080/"
    },
    "executionInfo": {
     "elapsed": 419,
     "status": "ok",
     "timestamp": 1629533029758,
     "user": {
      "displayName": "Diya Sabu",
      "photoUrl": "https://lh3.googleusercontent.com/a-/AOh14GhBB5nx_fvvRe-MEMKW6pJ3FcFPyW4VV1QXO8kyLd8=s64",
      "userId": "11455455934392992633"
     },
     "user_tz": -330
    },
    "id": "_K0yQZfTusFA",
    "outputId": "15edcc12-058c-4461-eeb6-7406cc028d3c"
   },
   "outputs": [
    {
     "data": {
      "text/plain": [
       "0          2019-05-21 08:29:55\n",
       "1          2019-10-07 17:43:09\n",
       "2          2020-12-13 21:53:00\n",
       "3          2018-04-17 16:51:23\n",
       "4          2016-08-31 17:40:49\n",
       "                  ...         \n",
       "2906605    2018-06-28 08:49:01\n",
       "2906606    2019-01-10 02:01:01\n",
       "2906607    2020-11-23 12:52:00\n",
       "2906608    2019-12-29 22:38:00\n",
       "2906609    2018-03-26 13:35:03\n",
       "Name: Start_Time, Length: 2906610, dtype: object"
      ]
     },
     "execution_count": 47,
     "metadata": {},
     "output_type": "execute_result"
    }
   ],
   "source": [
    "df.Start_Time"
   ]
  },
  {
   "cell_type": "code",
   "execution_count": null,
   "metadata": {
    "colab": {
     "base_uri": "https://localhost:8080/",
     "height": 37
    },
    "executionInfo": {
     "elapsed": 415,
     "status": "ok",
     "timestamp": 1629533046964,
     "user": {
      "displayName": "Diya Sabu",
      "photoUrl": "https://lh3.googleusercontent.com/a-/AOh14GhBB5nx_fvvRe-MEMKW6pJ3FcFPyW4VV1QXO8kyLd8=s64",
      "userId": "11455455934392992633"
     },
     "user_tz": -330
    },
    "id": "LDb82gcJvNG0",
    "outputId": "70e24952-0e2b-4af3-c248-8949e2caea25"
   },
   "outputs": [
    {
     "data": {
      "application/vnd.google.colaboratory.intrinsic+json": {
       "type": "string"
      },
      "text/plain": [
       "'2019-05-21 08:29:55'"
      ]
     },
     "execution_count": 48,
     "metadata": {},
     "output_type": "execute_result"
    }
   ],
   "source": [
    "df.Start_Time[0]"
   ]
  },
  {
   "cell_type": "code",
   "execution_count": null,
   "metadata": {
    "id": "ZbBzLa7Mvl2v"
   },
   "outputs": [],
   "source": [
    "df.Start_Time=pd.to_datetime(df.Start_Time)"
   ]
  },
  {
   "cell_type": "code",
   "execution_count": null,
   "metadata": {
    "colab": {
     "base_uri": "https://localhost:8080/"
    },
    "executionInfo": {
     "elapsed": 330,
     "status": "ok",
     "timestamp": 1629533182108,
     "user": {
      "displayName": "Diya Sabu",
      "photoUrl": "https://lh3.googleusercontent.com/a-/AOh14GhBB5nx_fvvRe-MEMKW6pJ3FcFPyW4VV1QXO8kyLd8=s64",
      "userId": "11455455934392992633"
     },
     "user_tz": -330
    },
    "id": "Dx0YJmOhvmHv",
    "outputId": "76b9b73a-a4c3-466b-e80d-d1a126286537"
   },
   "outputs": [
    {
     "data": {
      "text/plain": [
       "Timestamp('2019-05-21 08:29:55')"
      ]
     },
     "execution_count": 50,
     "metadata": {},
     "output_type": "execute_result"
    }
   ],
   "source": [
    "df.Start_Time[0]"
   ]
  },
  {
   "cell_type": "code",
   "execution_count": null,
   "metadata": {
    "colab": {
     "base_uri": "https://localhost:8080/"
    },
    "executionInfo": {
     "elapsed": 422,
     "status": "ok",
     "timestamp": 1629533446336,
     "user": {
      "displayName": "Diya Sabu",
      "photoUrl": "https://lh3.googleusercontent.com/a-/AOh14GhBB5nx_fvvRe-MEMKW6pJ3FcFPyW4VV1QXO8kyLd8=s64",
      "userId": "11455455934392992633"
     },
     "user_tz": -330
    },
    "id": "zWx18xYhvmTd",
    "outputId": "adfa85fe-ca84-4aad-fa7a-5d7ad51d852d"
   },
   "outputs": [
    {
     "data": {
      "text/plain": [
       "0           8\n",
       "1          17\n",
       "2          21\n",
       "3          16\n",
       "4          17\n",
       "           ..\n",
       "2906605     8\n",
       "2906606     2\n",
       "2906607    12\n",
       "2906608    22\n",
       "2906609    13\n",
       "Name: Start_Time, Length: 2906610, dtype: int64"
      ]
     },
     "execution_count": 51,
     "metadata": {},
     "output_type": "execute_result"
    }
   ],
   "source": [
    "df.Start_Time.dt.hour"
   ]
  },
  {
   "cell_type": "code",
   "execution_count": null,
   "metadata": {
    "colab": {
     "base_uri": "https://localhost:8080/",
     "height": 297
    },
    "executionInfo": {
     "elapsed": 2567,
     "status": "ok",
     "timestamp": 1629533487397,
     "user": {
      "displayName": "Diya Sabu",
      "photoUrl": "https://lh3.googleusercontent.com/a-/AOh14GhBB5nx_fvvRe-MEMKW6pJ3FcFPyW4VV1QXO8kyLd8=s64",
      "userId": "11455455934392992633"
     },
     "user_tz": -330
    },
    "id": "y_Ak62JBwzP5",
    "outputId": "25fbf3a4-59db-4dae-8063-e696516a7cce"
   },
   "outputs": [
    {
     "data": {
      "text/plain": [
       "<matplotlib.axes._subplots.AxesSubplot at 0x7fa3a88f7f90>"
      ]
     },
     "execution_count": 53,
     "metadata": {},
     "output_type": "execute_result"
    },
    {
     "data": {
      "image/png": "[encoded data removed]",
      "text/plain": [
       "<Figure size 432x288 with 1 Axes>"
      ]
     },
     "metadata": {},
     "output_type": "display_data"
    }
   ],
   "source": [
    "sns.histplot(df.Start_Time.dt.hour,bins=24)"
   ]
  },
  {
   "cell_type": "code",
   "execution_count": null,
   "metadata": {
    "colab": {
     "base_uri": "https://localhost:8080/",
     "height": 351
    },
    "executionInfo": {
     "elapsed": 1371,
     "status": "ok",
     "timestamp": 1629534106555,
     "user": {
      "displayName": "Diya Sabu",
      "photoUrl": "https://lh3.googleusercontent.com/a-/AOh14GhBB5nx_fvvRe-MEMKW6pJ3FcFPyW4VV1QXO8kyLd8=s64",
      "userId": "11455455934392992633"
     },
     "user_tz": -330
    },
    "id": "mx4Bpv7yzDEK",
    "outputId": "3bb2fef4-63d4-48f9-b379-d280ddaa330f"
   },
   "outputs": [
    {
     "name": "stderr",
     "output_type": "stream",
     "text": [
      "/usr/local/lib/python3.7/dist-packages/seaborn/distributions.py:2557: FutureWarning: `distplot` is a deprecated function and will be removed in a future version. Please adapt your code to use either `displot` (a figure-level function with similar flexibility) or `histplot` (an axes-level function for histograms).\n",
      "  warnings.warn(msg, FutureWarning)\n"
     ]
    },
    {
     "data": {
      "text/plain": [
       "<matplotlib.axes._subplots.AxesSubplot at 0x7fa3a56df390>"
      ]
     },
     "execution_count": 55,
     "metadata": {},
     "output_type": "execute_result"
    },
    {
     "data": {
      "image/png": "[encoded data removed]",
      "text/plain": [
       "<Figure size 432x288 with 1 Axes>"
      ]
     },
     "metadata": {},
     "output_type": "display_data"
    }
   ],
   "source": [
    "sns.distplot(df.Start_Time.dt.dayofweek, bins=7, kde=False, norm_hist=True)"
   ]
  },
  {
   "cell_type": "code",
   "execution_count": null,
   "metadata": {
    "colab": {
     "base_uri": "https://localhost:8080/",
     "height": 351
    },
    "executionInfo": {
     "elapsed": 995,
     "status": "ok",
     "timestamp": 1629534580947,
     "user": {
      "displayName": "Diya Sabu",
      "photoUrl": "https://lh3.googleusercontent.com/a-/AOh14GhBB5nx_fvvRe-MEMKW6pJ3FcFPyW4VV1QXO8kyLd8=s64",
      "userId": "11455455934392992633"
     },
     "user_tz": -330
    },
    "id": "5NGGxVoR0VeT",
    "outputId": "f28c9917-743b-42cc-ffc4-f784bd9f2b8a"
   },
   "outputs": [
    {
     "name": "stderr",
     "output_type": "stream",
     "text": [
      "/usr/local/lib/python3.7/dist-packages/seaborn/distributions.py:2557: FutureWarning: `distplot` is a deprecated function and will be removed in a future version. Please adapt your code to use either `displot` (a figure-level function with similar flexibility) or `histplot` (an axes-level function for histograms).\n",
      "  warnings.warn(msg, FutureWarning)\n"
     ]
    },
    {
     "data": {
      "text/plain": [
       "<matplotlib.axes._subplots.AxesSubplot at 0x7fa3a5597f10>"
      ]
     },
     "execution_count": 62,
     "metadata": {},
     "output_type": "execute_result"
    },
    {
     "data": {
      "image/png": "[encoded data removed]",
      "text/plain": [
       "<Figure size 432x288 with 1 Axes>"
      ]
     },
     "metadata": {},
     "output_type": "display_data"
    }
   ],
   "source": [
    "sundays_start_time=df.Start_Time[df.Start_Time.dt.dayofweek==6]\n",
    "sns.distplot(sundays_start_time.dt.hour, bins=7, kde=False, norm_hist=True)"
   ]
  },
  {
   "cell_type": "code",
   "execution_count": null,
   "metadata": {
    "colab": {
     "base_uri": "https://localhost:8080/",
     "height": 351
    },
    "executionInfo": {
     "elapsed": 1280,
     "status": "ok",
     "timestamp": 1629544128560,
     "user": {
      "displayName": "Diya Sabu",
      "photoUrl": "https://lh3.googleusercontent.com/a-/AOh14GhBB5nx_fvvRe-MEMKW6pJ3FcFPyW4VV1QXO8kyLd8=s64",
      "userId": "11455455934392992633"
     },
     "user_tz": -330
    },
    "id": "5k8BWFh00q5e",
    "outputId": "6365d4cd-78a2-474c-d09f-a4efe7e39b35"
   },
   "outputs": [
    {
     "name": "stderr",
     "output_type": "stream",
     "text": [
      "/usr/local/lib/python3.7/dist-packages/seaborn/distributions.py:2557: FutureWarning: `distplot` is a deprecated function and will be removed in a future version. Please adapt your code to use either `displot` (a figure-level function with similar flexibility) or `histplot` (an axes-level function for histograms).\n",
      "  warnings.warn(msg, FutureWarning)\n"
     ]
    },
    {
     "data": {
      "text/plain": [
       "<matplotlib.axes._subplots.AxesSubplot at 0x7fa3a539e9d0>"
      ]
     },
     "execution_count": 70,
     "metadata": {},
     "output_type": "execute_result"
    },
    {
     "data": {
      "image/png": "[encoded data removed]",
      "text/plain": [
       "<Figure size 432x288 with 1 Axes>"
      ]
     },
     "metadata": {},
     "output_type": "display_data"
    }
   ],
   "source": [
    "mondays_start_time=df.Start_Time[df.Start_Time.dt.dayofweek==0]\n",
    "sns.distplot(mondays_start_time.dt.hour, bins=7, kde=False, norm_hist=True)"
   ]
  },
  {
   "cell_type": "code",
   "execution_count": null,
   "metadata": {
    "colab": {
     "base_uri": "https://localhost:8080/"
    },
    "executionInfo": {
     "elapsed": 900,
     "status": "ok",
     "timestamp": 1629544093425,
     "user": {
      "displayName": "Diya Sabu",
      "photoUrl": "https://lh3.googleusercontent.com/a-/AOh14GhBB5nx_fvvRe-MEMKW6pJ3FcFPyW4VV1QXO8kyLd8=s64",
      "userId": "11455455934392992633"
     },
     "user_tz": -330
    },
    "id": "rqLQmI5aZVOK",
    "outputId": "f7f14407-aac2-4cd6-ce4c-01fe1bed9395"
   },
   "outputs": [
    {
     "data": {
      "text/plain": [
       "0          2019\n",
       "1          2019\n",
       "2          2020\n",
       "3          2018\n",
       "4          2016\n",
       "           ... \n",
       "2906605    2018\n",
       "2906606    2019\n",
       "2906607    2020\n",
       "2906608    2019\n",
       "2906609    2018\n",
       "Name: Start_Time, Length: 2906610, dtype: int64"
      ]
     },
     "execution_count": 68,
     "metadata": {},
     "output_type": "execute_result"
    }
   ],
   "source": [
    "df.Start_Time.dt.year"
   ]
  },
  {
   "cell_type": "markdown",
   "metadata": {
    "id": "tWhszWOHa8cu"
   },
   "source": [
    "## Start Lat and Start Long"
   ]
  },
  {
   "cell_type": "code",
   "execution_count": null,
   "metadata": {
    "colab": {
     "base_uri": "https://localhost:8080/"
    },
    "executionInfo": {
     "elapsed": 457,
     "status": "ok",
     "timestamp": 1629544548719,
     "user": {
      "displayName": "Diya Sabu",
      "photoUrl": "https://lh3.googleusercontent.com/a-/AOh14GhBB5nx_fvvRe-MEMKW6pJ3FcFPyW4VV1QXO8kyLd8=s64",
      "userId": "11455455934392992633"
     },
     "user_tz": -330
    },
    "id": "tfWBL6tjZygm",
    "outputId": "723adf22-1b65-4f34-b235-b11c3760a9ed"
   },
   "outputs": [
    {
     "data": {
      "text/plain": [
       "(0          34.808868\n",
       " 1          35.090080\n",
       " 2          37.145730\n",
       " 3          39.110390\n",
       " 4          26.102942\n",
       "              ...    \n",
       " 2906605    29.813824\n",
       " 2906606    34.068890\n",
       " 2906607    25.702200\n",
       " 2906608    40.660140\n",
       " 2906609    38.831749\n",
       " Name: Start_Lat, Length: 2906610, dtype: float64, 0          -82.269157\n",
       " 1          -80.745560\n",
       " 2         -121.985052\n",
       " 3         -119.773781\n",
       " 4          -80.265091\n",
       "               ...    \n",
       " 2906605    -95.399437\n",
       " 2906606   -117.342010\n",
       " 2906607    -80.335556\n",
       " 2906608   -111.952460\n",
       " 2906609   -104.748161\n",
       " Name: Start_Lng, Length: 2906610, dtype: float64)"
      ]
     },
     "execution_count": 77,
     "metadata": {},
     "output_type": "execute_result"
    }
   ],
   "source": [
    "df.Start_Lat, df.Start_Lng"
   ]
  },
  {
   "cell_type": "code",
   "execution_count": null,
   "metadata": {
    "colab": {
     "base_uri": "https://localhost:8080/",
     "height": 300
    },
    "executionInfo": {
     "elapsed": 16672,
     "status": "ok",
     "timestamp": 1629544905131,
     "user": {
      "displayName": "Diya Sabu",
      "photoUrl": "https://lh3.googleusercontent.com/a-/AOh14GhBB5nx_fvvRe-MEMKW6pJ3FcFPyW4VV1QXO8kyLd8=s64",
      "userId": "11455455934392992633"
     },
     "user_tz": -330
    },
    "id": "CPd3O3YyZyxm",
    "outputId": "e47c6b46-6639-48e4-eac0-3c6b6ca3625f"
   },
   "outputs": [
    {
     "data": {
      "text/plain": [
       "<matplotlib.axes._subplots.AxesSubplot at 0x7fa3a526e250>"
      ]
     },
     "execution_count": 81,
     "metadata": {},
     "output_type": "execute_result"
    },
    {
     "data": {
      "image/png": "[encoded data removed]",
      "text/plain": [
       "<Figure size 432x288 with 1 Axes>"
      ]
     },
     "metadata": {},
     "output_type": "display_data"
    }
   ],
   "source": [
    "sample_df=df.sample(int(0.1*len(df)))\n",
    "sns.scatterplot(x=sample_df.Start_Lng, y=sample_df.Start_Lat,size=0.001)"
   ]
  },
  {
   "cell_type": "code",
   "execution_count": null,
   "metadata": {
    "id": "gsXonPHIZy8N"
   },
   "outputs": [],
   "source": [
    "import folium"
   ]
  },
  {
   "cell_type": "code",
   "execution_count": null,
   "metadata": {
    "id": "Css2FOmCcsiY"
   },
   "outputs": [],
   "source": [
    "map=folium.Map()"
   ]
  },
  {
   "cell_type": "code",
   "execution_count": null,
   "metadata": {
    "colab": {
     "base_uri": "https://localhost:8080/"
    },
    "executionInfo": {
     "elapsed": 577,
     "status": "ok",
     "timestamp": 1629545226670,
     "user": {
      "displayName": "Diya Sabu",
      "photoUrl": "https://lh3.googleusercontent.com/a-/AOh14GhBB5nx_fvvRe-MEMKW6pJ3FcFPyW4VV1QXO8kyLd8=s64",
      "userId": "11455455934392992633"
     },
     "user_tz": -330
    },
    "id": "vZOy0KCpcstr",
    "outputId": "0628d224-3780-4c9f-f3bc-a7607b631462"
   },
   "outputs": [
    {
     "data": {
      "text/plain": [
       "(34.808868, -82.26915699999998)"
      ]
     },
     "execution_count": 91,
     "metadata": {},
     "output_type": "execute_result"
    }
   ],
   "source": [
    "lat, lon=df.Start_Lat[0], df.Start_Lng[0]\n",
    "lat,lon"
   ]
  },
  {
   "cell_type": "code",
   "execution_count": null,
   "metadata": {
    "colab": {
     "base_uri": "https://localhost:8080/",
     "height": 627
    },
    "executionInfo": {
     "elapsed": 419,
     "status": "ok",
     "timestamp": 1629545232403,
     "user": {
      "displayName": "Diya Sabu",
      "photoUrl": "https://lh3.googleusercontent.com/a-/AOh14GhBB5nx_fvvRe-MEMKW6pJ3FcFPyW4VV1QXO8kyLd8=s64",
      "userId": "11455455934392992633"
     },
     "user_tz": -330
    },
    "id": "Rs2ZpMX7dN1R",
    "outputId": "b1682e82-cf71-46bf-9b83-87b98ba568c6"
   },
   "outputs": [
    {
     "data": {
      "text/html": [
       "<div style=\"width:100%;\"><div style=\"position:relative;width:100%;height:0;padding-bottom:60%;\"><span style=\"color:#565656\">Make this Notebook Trusted to load map: File -> Trust Notebook</span><iframe src=\"about:blank\" style=\"position:absolute;width:100%;height:100%;left:0;top:0;border:none !important;\" data-html=%3C%21DOCTYPE%20html%3E%0A%3Chead%3E%20%20%20%20%0A%20%20%20%20%3Cmeta%20http-equiv%3D%22content-type%22%20content%3D%22text/html%3B%20charset%3DUTF-8%22%20/%3E%0A%20%20%20%20%3Cscript%3EL_PREFER_CANVAS%3Dfalse%3B%20L_NO_TOUCH%3Dfalse%3B%20L_DISABLE_3D%3Dfalse%3B%3C/script%3E%0A%20%20%20%20%3Cscript%20src%3D%22https%3A//cdn.jsdelivr.net/npm/leaflet%401.4.0/dist/leaflet.js%22%3E%3C/script%3E%0A%20%20%20%20%3Cscript%20src%3D%22https%3A//code.jquery.com/jquery-1.12.4.min.js%22%3E%3C/script%3E%0A%20%20%20%20%3Cscript%20src%3D%22https%3A//maxcdn.bootstrapcdn.com/bootstrap/3.2.0/js/bootstrap.min.js%22%3E%3C/script%3E%0A%20%20%20%20%3Cscript%20src%3D%22https%3A//cdnjs.cloudflare.com/ajax/libs/Leaflet.awesome-markers/2.0.2/leaflet.awesome-markers.js%22%3E%3C/script%3E%0A%20%20%20%20%3Clink%20rel%3D%22stylesheet%22%20href%3D%22https%3A//cdn.jsdelivr.net/npm/leaflet%401.4.0/dist/leaflet.css%22/%3E%0A%20%20%20%20%3Clink%20rel%3D%22stylesheet%22%20href%3D%22https%3A//maxcdn.bootstrapcdn.com/bootstrap/3.2.0/css/bootstrap.min.css%22/%3E%0A%20%20%20%20%3Clink%20rel%3D%22stylesheet%22%20href%3D%22https%3A//maxcdn.bootstrapcdn.com/bootstrap/3.2.0/css/bootstrap-theme.min.css%22/%3E%0A%20%20%20%20%3Clink%20rel%3D%22stylesheet%22%20href%3D%22https%3A//maxcdn.bootstrapcdn.com/font-awesome/4.6.3/css/font-awesome.min.css%22/%3E%0A%20%20%20%20%3Clink%20rel%3D%22stylesheet%22%20href%3D%22https%3A//cdnjs.cloudflare.com/ajax/libs/Leaflet.awesome-markers/2.0.2/leaflet.awesome-markers.css%22/%3E%0A%20%20%20%20%3Clink%20rel%3D%22stylesheet%22%20href%3D%22https%3A//rawcdn.githack.com/python-visualization/folium/master/folium/templates/leaflet.awesome.rotate.css%22/%3E%0A%20%20%20%20%3Cstyle%3Ehtml%2C%20body%20%7Bwidth%3A%20100%25%3Bheight%3A%20100%25%3Bmargin%3A%200%3Bpadding%3A%200%3B%7D%3C/style%3E%0A%20%20%20%20%3Cstyle%3E%23map%20%7Bposition%3Aabsolute%3Btop%3A0%3Bbottom%3A0%3Bright%3A0%3Bleft%3A0%3B%7D%3C/style%3E%0A%20%20%20%20%0A%20%20%20%20%3Cmeta%20name%3D%22viewport%22%20content%3D%22width%3Ddevice-width%2C%0A%20%20%20%20%20%20%20%20initial-scale%3D1.0%2C%20maximum-scale%3D1.0%2C%20user-scalable%3Dno%22%20/%3E%0A%20%20%20%20%3Cstyle%3E%23map_4967d82217d6489b92b95a83f4895fd4%20%7B%0A%20%20%20%20%20%20%20%20position%3A%20relative%3B%0A%20%20%20%20%20%20%20%20width%3A%20100.0%25%3B%0A%20%20%20%20%20%20%20%20height%3A%20100.0%25%3B%0A%20%20%20%20%20%20%20%20left%3A%200.0%25%3B%0A%20%20%20%20%20%20%20%20top%3A%200.0%25%3B%0A%20%20%20%20%20%20%20%20%7D%0A%20%20%20%20%3C/style%3E%0A%3C/head%3E%0A%3Cbody%3E%20%20%20%20%0A%20%20%20%20%0A%20%20%20%20%3Cdiv%20class%3D%22folium-map%22%20id%3D%22map_4967d82217d6489b92b95a83f4895fd4%22%20%3E%3C/div%3E%0A%3C/body%3E%0A%3Cscript%3E%20%20%20%20%0A%20%20%20%20%0A%20%20%20%20%0A%20%20%20%20%20%20%20%20var%20bounds%20%3D%20null%3B%0A%20%20%20%20%0A%0A%20%20%20%20var%20map_4967d82217d6489b92b95a83f4895fd4%20%3D%20L.map%28%0A%20%20%20%20%20%20%20%20%27map_4967d82217d6489b92b95a83f4895fd4%27%2C%20%7B%0A%20%20%20%20%20%20%20%20center%3A%20%5B0%2C%200%5D%2C%0A%20%20%20%20%20%20%20%20zoom%3A%201%2C%0A%20%20%20%20%20%20%20%20maxBounds%3A%20bounds%2C%0A%20%20%20%20%20%20%20%20layers%3A%20%5B%5D%2C%0A%20%20%20%20%20%20%20%20worldCopyJump%3A%20false%2C%0A%20%20%20%20%20%20%20%20crs%3A%20L.CRS.EPSG3857%2C%0A%20%20%20%20%20%20%20%20zoomControl%3A%20true%2C%0A%20%20%20%20%20%20%20%20%7D%29%3B%0A%0A%0A%20%20%20%20%0A%20%20%20%20var%20tile_layer_e49e2ea93cf94600a67ba0c4b52291ac%20%3D%20L.tileLayer%28%0A%20%20%20%20%20%20%20%20%27https%3A//%7Bs%7D.tile.openstreetmap.org/%7Bz%7D/%7Bx%7D/%7By%7D.png%27%2C%0A%20%20%20%20%20%20%20%20%7B%0A%20%20%20%20%20%20%20%20%22attribution%22%3A%20null%2C%0A%20%20%20%20%20%20%20%20%22detectRetina%22%3A%20false%2C%0A%20%20%20%20%20%20%20%20%22maxNativeZoom%22%3A%2018%2C%0A%20%20%20%20%20%20%20%20%22maxZoom%22%3A%2018%2C%0A%20%20%20%20%20%20%20%20%22minZoom%22%3A%200%2C%0A%20%20%20%20%20%20%20%20%22noWrap%22%3A%20false%2C%0A%20%20%20%20%20%20%20%20%22opacity%22%3A%201%2C%0A%20%20%20%20%20%20%20%20%22subdomains%22%3A%20%22abc%22%2C%0A%20%20%20%20%20%20%20%20%22tms%22%3A%20false%0A%7D%29.addTo%28map_4967d82217d6489b92b95a83f4895fd4%29%3B%0A%20%20%20%20%0A%20%20%20%20%20%20%20%20var%20marker_a23303a136194716ac52e083010fbbd2%20%3D%20L.marker%28%0A%20%20%20%20%20%20%20%20%20%20%20%20%5B34.808868%2C%20-82.26915699999998%5D%2C%0A%20%20%20%20%20%20%20%20%20%20%20%20%7B%0A%20%20%20%20%20%20%20%20%20%20%20%20%20%20%20%20icon%3A%20new%20L.Icon.Default%28%29%2C%0A%20%20%20%20%20%20%20%20%20%20%20%20%20%20%20%20%7D%0A%20%20%20%20%20%20%20%20%20%20%20%20%29.addTo%28map_4967d82217d6489b92b95a83f4895fd4%29%3B%0A%20%20%20%20%20%20%20%20%0A%20%20%20%20%0A%20%20%20%20%20%20%20%20var%20marker_f7dc4f95f8e64002a294a35af36abf48%20%3D%20L.marker%28%0A%20%20%20%20%20%20%20%20%20%20%20%20%5B34.808868%2C%20-82.26915699999998%5D%2C%0A%20%20%20%20%20%20%20%20%20%20%20%20%7B%0A%20%20%20%20%20%20%20%20%20%20%20%20%20%20%20%20icon%3A%20new%20L.Icon.Default%28%29%2C%0A%20%20%20%20%20%20%20%20%20%20%20%20%20%20%20%20%7D%0A%20%20%20%20%20%20%20%20%20%20%20%20%29.addTo%28map_4967d82217d6489b92b95a83f4895fd4%29%3B%0A%20%20%20%20%20%20%20%20%0A%3C/script%3E onload=\"this.contentDocument.open();this.contentDocument.write(    decodeURIComponent(this.getAttribute('data-html')));this.contentDocument.close();\" allowfullscreen webkitallowfullscreen mozallowfullscreen></iframe></div></div>"
      ],
      "text/plain": [
       "<folium.folium.Map at 0x7fa3a51d84d0>"
      ]
     },
     "execution_count": 92,
     "metadata": {},
     "output_type": "execute_result"
    }
   ],
   "source": [
    "marker=folium.Marker((lat,lon))\n",
    "marker.add_to(map)\n",
    "map"
   ]
  },
  {
   "cell_type": "code",
   "execution_count": null,
   "metadata": {
    "id": "fVqvF8_2e1BU"
   },
   "outputs": [],
   "source": [
    "from folium.plugins import HeatMap"
   ]
  },
  {
   "cell_type": "code",
   "execution_count": null,
   "metadata": {
    "colab": {
     "base_uri": "https://localhost:8080/"
    },
    "executionInfo": {
     "elapsed": 333,
     "status": "ok",
     "timestamp": 1629545929767,
     "user": {
      "displayName": "Diya Sabu",
      "photoUrl": "https://lh3.googleusercontent.com/a-/AOh14GhBB5nx_fvvRe-MEMKW6pJ3FcFPyW4VV1QXO8kyLd8=s64",
      "userId": "11455455934392992633"
     },
     "user_tz": -330
    },
    "id": "FcZh4ZjGfksC",
    "outputId": "0395afa2-c5da-4036-93a8-039485cf7bd2"
   },
   "outputs": [
    {
     "data": {
      "text/plain": [
       "<zip at 0x7fa3924fdaa0>"
      ]
     },
     "execution_count": 101,
     "metadata": {},
     "output_type": "execute_result"
    }
   ],
   "source": [
    "zip(list(df.Start_Lat), list(df.Start_Lng))"
   ]
  },
  {
   "cell_type": "code",
   "execution_count": null,
   "metadata": {
    "id": "TJczNDClgq83"
   },
   "outputs": [],
   "source": [
    "sample_df=df.sample(int(0.001*len(df)))\n",
    "lat_lon_pairs=list(zip(list(sample_df.Start_Lat), list(df.Start_Lng)))"
   ]
  },
  {
   "cell_type": "code",
   "execution_count": null,
   "metadata": {
    "colab": {
     "base_uri": "https://localhost:8080/",
     "height": 627
    },
    "executionInfo": {
     "elapsed": 969,
     "status": "ok",
     "timestamp": 1629546339556,
     "user": {
      "displayName": "Diya Sabu",
      "photoUrl": "https://lh3.googleusercontent.com/a-/AOh14GhBB5nx_fvvRe-MEMKW6pJ3FcFPyW4VV1QXO8kyLd8=s64",
      "userId": "11455455934392992633"
     },
     "user_tz": -330
    },
    "id": "E0-edwouf0ZD",
    "outputId": "9c749972-feed-447b-e564-0280be4100f0"
   },
   "outputs": [
    {
     "data": {
      "text/html": [
       "<div style=\"width:100%;\"><div style=\"position:relative;width:100%;height:0;padding-bottom:60%;\"><span style=\"color:#565656\">Make this Notebook Trusted to load map: File -> Trust Notebook</span><iframe src=\"about:blank\" style=\"position:absolute;width:100%;height:100%;left:0;top:0;border:none !important;\" data-html=%3C%21DOCTYPE%20html%3E%0A%3Chead%3E%20%20%20%20%0A%20%20%20%20%3Cmeta%20http-equiv%3D%22content-type%22%20content%3D%22text/html%3B%20charset%3DUTF-8%22%20/%3E%0A%20%20%20%20%3Cscript%3EL_PREFER_CANVAS%3Dfalse%3B%20L_NO_TOUCH%3Dfalse%3B%20L_DISABLE_3D%3Dfalse%3B%3C/script%3E%0A%20%20%20%20%3Cscript%20src%3D%22https%3A//cdn.jsdelivr.net/npm/leaflet%401.4.0/dist/leaflet.js%22%3E%3C/script%3E%0A%20%20%20%20%3Cscript%20src%3D%22https%3A//code.jquery.com/jquery-1.12.4.min.js%22%3E%3C/script%3E%0A%20%20%20%20%3Cscript%20src%3D%22https%3A//maxcdn.bootstrapcdn.com/bootstrap/3.2.0/js/bootstrap.min.js%22%3E%3C/script%3E%0A%20%20%20%20%3Cscript%20src%3D%22https%3A//cdnjs.cloudflare.com/ajax/libs/Leaflet.awesome-markers/2.0.2/leaflet.awesome-markers.js%22%3E%3C/script%3E%0A%20%20%20%20%3Clink%20rel%3D%22stylesheet%22%20href%3D%22https%3A//cdn.jsdelivr.net/npm/leaflet%401.4.0/dist/leaflet.css%22/%3E%0A%20%20%20%20%3Clink%20rel%3D%22stylesheet%22%20href%3D%22https%3A//maxcdn.bootstrapcdn.com/bootstrap/3.2.0/css/bootstrap.min.css%22/%3E%0A%20%20%20%20%3Clink%20rel%3D%22stylesheet%22%20href%3D%22https%3A//maxcdn.bootstrapcdn.com/bootstrap/3.2.0/css/bootstrap-theme.min.css%22/%3E%0A%20%20%20%20%3Clink%20rel%3D%22stylesheet%22%20href%3D%22https%3A//maxcdn.bootstrapcdn.com/font-awesome/4.6.3/css/font-awesome.min.css%22/%3E%0A%20%20%20%20%3Clink%20rel%3D%22stylesheet%22%20href%3D%22https%3A//cdnjs.cloudflare.com/ajax/libs/Leaflet.awesome-markers/2.0.2/leaflet.awesome-markers.css%22/%3E%0A%20%20%20%20%3Clink%20rel%3D%22stylesheet%22%20href%3D%22https%3A//rawcdn.githack.com/python-visualization/folium/master/folium/templates/leaflet.awesome.rotate.css%22/%3E%0A%20%20%20%20%3Cstyle%3Ehtml%2C%20body%20%7Bwidth%3A%20100%25%3Bheight%3A%20100%25%3Bmargin%3A%200%3Bpadding%3A%200%3B%7D%3C/style%3E%0A%20%20%20%20%3Cstyle%3E%23map%20%7Bposition%3Aabsolute%3Btop%3A0%3Bbottom%3A0%3Bright%3A0%3Bleft%3A0%3B%7D%3C/style%3E%0A%20%20%20%20%0A%20%20%20%20%3Cmeta%20name%3D%22viewport%22%20content%3D%22width%3Ddevice-width%2C%0A%20%20%20%20%20%20%20%20initial-scale%3D1.0%2C%20maximum-scale%3D1.0%2C%20user-scalable%3Dno%22%20/%3E%0A%20%20%20%20%3Cstyle%3E%23map_6c6c3008fca0467db40a4b1f494a8643%20%7B%0A%20%20%20%20%20%20%20%20position%3A%20relative%3B%0A%20%20%20%20%20%20%20%20width%3A%20100.0%25%3B%0A%20%20%20%20%20%20%20%20height%3A%20100.0%25%3B%0A%20%20%20%20%20%20%20%20left%3A%200.0%25%3B%0A%20%20%20%20%20%20%20%20top%3A%200.0%25%3B%0A%20%20%20%20%20%20%20%20%7D%0A%20%20%20%20%3C/style%3E%0A%20%20%20%20%3Cscript%20src%3D%22https%3A//leaflet.github.io/Leaflet.heat/dist/leaflet-heat.js%22%3E%3C/script%3E%0A%3C/head%3E%0A%3Cbody%3E%20%20%20%20%0A%20%20%20%20%0A%20%20%20%20%3Cdiv%20class%3D%22folium-map%22%20id%3D%22map_6c6c3008fca0467db40a4b1f494a8643%22%20%3E%3C/div%3E%0A%3C/body%3E%0A%3Cscript%3E%20%20%20%20%0A%20%20%20%20%0A%20%20%20%20%0A%20%20%20%20%20%20%20%20var%20bounds%20%3D%20null%3B%0A%20%20%20%20%0A%0A%20%20%20%20var%20map_6c6c3008fca0467db40a4b1f494a8643%20%3D%20L.map%28%0A%20%20%20%20%20%20%20%20%27map_6c6c3008fca0467db40a4b1f494a8643%27%2C%20%7B%0A%20%20%20%20%20%20%20%20center%3A%20%5B0%2C%200%5D%2C%0A%20%20%20%20%20%20%20%20zoom%3A%201%2C%0A%20%20%20%20%20%20%20%20maxBounds%3A%20bounds%2C%0A%20%20%20%20%20%20%20%20layers%3A%20%5B%5D%2C%0A%20%20%20%20%20%20%20%20worldCopyJump%3A%20false%2C%0A%20%20%20%20%20%20%20%20crs%3A%20L.CRS.EPSG3857%2C%0A%20%20%20%20%20%20%20%20zoomControl%3A%20true%2C%0A%20%20%20%20%20%20%20%20%7D%29%3B%0A%0A%0A%20%20%20%20%0A%20%20%20%20var%20tile_layer_34f1e838f3fb43b68467873db80a0594%20%3D%20L.tileLayer%28%0A%20%20%20%20%20%20%20%20%27https%3A//%7Bs%7D.tile.openstreetmap.org/%7Bz%7D/%7Bx%7D/%7By%7D.png%27%2C%0A%20%20%20%20%20%20%20%20%7B%0A%20%20%20%20%20%20%20%20%22attribution%22%3A%20null%2C%0A%20%20%20%20%20%20%20%20%22detectRetina%22%3A%20false%2C%0A%20%20%20%20%20%20%20%20%22maxNativeZoom%22%3A%2018%2C%0A%20%20%20%20%20%20%20%20%22maxZoom%22%3A%2018%2C%0A%20%20%20%20%20%20%20%20%22minZoom%22%3A%200%2C%0A%20%20%20%20%20%20%20%20%22noWrap%22%3A%20false%2C%0A%20%20%20%20%20%20%20%20%22opacity%22%3A%201%2C%0A%20%20%20%20%20%20%20%20%22subdomains%22%3A%20%22abc%22%2C%0A%20%20%20%20%20%20%20%20%22tms%22%3A%20false%0A%7D%29.addTo%28map_6c6c3008fca0467db40a4b1f494a8643%29%3B%0A%20%20%20%20%0A%20%20%20%20%20%20%20%20%20%20%20%20var%20heat_map_e1098fd2d2c74f7498b9df109c7bac31%20%3D%20L.heatLayer%28%0A%20%20%20%20%20%20%20%20%20%20%20%20%20%20%20%20%5B%5B30.23703%2C%20-82.26915699999998%5D%2C%20%5B29.602940000000004%2C%20-80.74556%5D%2C%20%5B38.892042%2C%20-121.985052%5D%2C%20%5B41.80862800000001%2C%20-119.773781%5D%2C%20%5B41.540508%2C%20-80.265091%5D%2C%20%5B27.436569%2C%20-80.84722099999998%5D%2C%20%5B43.603558%2C%20-107.777%5D%2C%20%5B29.681682%2C%20-118.026972%5D%2C%20%5B38.539059%2C%20-86.83168%5D%2C%20%5B36.779335%2C%20-118.5851%5D%2C%20%5B40.60042%2C%20-82.203583%5D%2C%20%5B35.35338%2C%20-73.875099%5D%2C%20%5B33.88182800000001%2C%20-96.66617%5D%2C%20%5B29.9969%2C%20-110.90358700000002%5D%2C%20%5B30.286549%2C%20-74.25092%5D%2C%20%5B42.48554%2C%20-95.497337%5D%2C%20%5B43.226139%2C%20-118.249969%5D%2C%20%5B33.787833%2C%20-117.439427%5D%2C%20%5B45.218025%2C%20-82.918056%5D%2C%20%5B38.636855%2C%20-73.779556%5D%2C%20%5B40.83734000000001%2C%20-84.33802800000002%5D%2C%20%5B32.177741999999995%2C%20-78.759743%5D%2C%20%5B37.30324%2C%20-95.482445%5D%2C%20%5B41.75396%2C%20-79.913933%5D%2C%20%5B34.811195%2C%20-73.88461%5D%2C%20%5B36.265279%2C%20-122.069885%5D%2C%20%5B35.835064%2C%20-80.010628%5D%2C%20%5B33.872064%2C%20-97.753906%5D%2C%20%5B34.016396%2C%20-118.049783%5D%2C%20%5B40.831711%2C%20-85.500961%5D%2C%20%5B34.07918%2C%20-80.445924%5D%2C%20%5B42.029062%2C%20-78.412064%5D%2C%20%5B32.738171%2C%20-86.11689%5D%2C%20%5B28.611652000000007%2C%20-91.140549%5D%2C%20%5B36.10437%2C%20-80.856415%5D%2C%20%5B32.779655%2C%20-80.85037%5D%2C%20%5B39.77443%2C%20-117.320625%5D%2C%20%5B41.23427%2C%20-77.084549%5D%2C%20%5B33.846317%2C%20-111.9432%5D%2C%20%5B33.703537%2C%20-77.547005%5D%2C%20%5B29.918158%2C%20-79.92677900000002%5D%2C%20%5B38.939567%2C%20-121.464525%5D%2C%20%5B42.465687%2C%20-73.760338%5D%2C%20%5B33.94504000000001%2C%20-82.451477%5D%2C%20%5B38.630802%2C%20-97.25763%5D%2C%20%5B35.263084%2C%20-122.365844%5D%2C%20%5B28.874474%2C%20-118.143219%5D%2C%20%5B39.40506%2C%20-93.247139%5D%2C%20%5B33.67823%2C%20-95.417068%5D%2C%20%5B34.877228%2C%20-118.274465%5D%2C%20%5B40.721523%2C%20-80.068784%5D%2C%20%5B43.156582%2C%20-85.677254%5D%2C%20%5B33.936846%2C%20-80.414796%5D%2C%20%5B41.663204%2C%20-94.962033%5D%2C%20%5B40.852872%2C%20-84.908905%5D%2C%20%5B39.327073%2C%20-121.383059%5D%2C%20%5B33.60717%2C%20-80.77776%5D%2C%20%5B41.712868%2C%20-83.134422%5D%2C%20%5B37.454559%2C%20-77.38915%5D%2C%20%5B47.881916%2C%20-77.453568%5D%2C%20%5B34.081720000000004%2C%20-83.684975%5D%2C%20%5B33.876938%2C%20-85.683899%5D%2C%20%5B40.06807%2C%20-73.831128%5D%2C%20%5B37.743949%2C%20-117.957603%5D%2C%20%5B39.484238%2C%20-74.472659%5D%2C%20%5B40.009354%2C%20-96.79058%5D%2C%20%5B36.650905%2C%20-106.484001%5D%2C%20%5B37.05961%2C%20-96.651512%5D%2C%20%5B40.87089%2C%20-81.670998%5D%2C%20%5B33.615116%2C%20-117.249238%5D%2C%20%5B41.849022%2C%20-81.98734300000002%5D%2C%20%5B39.25086%2C%20-112.26643%5D%2C%20%5B39.020641%2C%20-117.156586%5D%2C%20%5B38.61127000000001%2C%20-76.846793%5D%2C%20%5B35.551521%2C%20-72.650444%5D%2C%20%5B37.303727%2C%20-122.116587%5D%2C%20%5B26.52157%2C%20-120.591355%5D%2C%20%5B37.82801%2C%20-121.908821%5D%2C%20%5B33.968159%2C%20-84.447914%5D%2C%20%5B38.62161%2C%20-83.691177%5D%2C%20%5B41.232788%2C%20-84.219994%5D%2C%20%5B28.55204%2C%20-87.993965%5D%2C%20%5B31.659990000000004%2C%20-121.111046%5D%2C%20%5B40.128189%2C%20-93.09934%5D%2C%20%5B40.76063900000001%2C%20-117.52449%5D%2C%20%5B43.354798%2C%20-80.090312%5D%2C%20%5B25.550732%2C%20-80.794762%5D%2C%20%5B44.79102%2C%20-77.11725%5D%2C%20%5B33.677559%2C%20-119.030632%5D%2C%20%5B25.906084%2C%20-75.422516%5D%2C%20%5B25.785129%2C%20-122.308882%5D%2C%20%5B32.662409999999994%2C%20-92.645325%5D%2C%20%5B31.778019%2C%20-73.566048%5D%2C%20%5B33.779076%2C%20-77.546585%5D%2C%20%5B38.559511%2C%20-95.359451%5D%2C%20%5B37.332996%2C%20-88.16736999999998%5D%2C%20%5B37.685589%2C%20-73.77409399999998%5D%2C%20%5B33.316765000000004%2C%20-90.06555%5D%2C%20%5B38.562541%2C%20-88.144798%5D%2C%20%5B30.343472%2C%20-73.857185%5D%2C%20%5B42.927357%2C%20-118.42585%5D%2C%20%5B32.13387%2C%20-94.548073%5D%2C%20%5B41.551414%2C%20-75.09758000000002%5D%2C%20%5B34.066175%2C%20-122.47999%5D%2C%20%5B29.965405%2C%20-111.987923%5D%2C%20%5B32.922352000000004%2C%20-111.011978%5D%2C%20%5B26.21282%2C%20-95.940956%5D%2C%20%5B35.52206%2C%20-73.64304%5D%2C%20%5B33.572947%2C%20-95.411613%5D%2C%20%5B29.961275%2C%20-121.671249%5D%2C%20%5B33.408584999999995%2C%20-118.495922%5D%2C%20%5B32.896759%2C%20-85.131248%5D%2C%20%5B38.928879%2C%20-118.6521%5D%2C%20%5B38.12863%2C%20-104.87226%5D%2C%20%5B34.914902000000005%2C%20-93.14115%5D%2C%20%5B42.38513%2C%20-73.855896%5D%2C%20%5B30.169268%2C%20-95.113021%5D%2C%20%5B32.875374%2C%20-121.260314%5D%2C%20%5B39.128757%2C%20-121.29229%5D%2C%20%5B41.48653%2C%20-82.919205%5D%2C%20%5B33.951219%2C%20-121.525634%5D%2C%20%5B35.2003%2C%20-118.00026%5D%2C%20%5B29.57248%2C%20-112.285217%5D%2C%20%5B33.867744%2C%20-97.491463%5D%2C%20%5B33.87659%2C%20-95.25416%5D%2C%20%5B37.330799%2C%20-81.22747%5D%2C%20%5B29.972690000000004%2C%20-79.018662%5D%2C%20%5B38.6974%2C%20-98.503296%5D%2C%20%5B33.232365%2C%20-117.548149%5D%2C%20%5B42.912647%2C%20-118.249306%5D%2C%20%5B32.841331%2C%20-78.01289799999998%5D%2C%20%5B32.710491%2C%20-111.94854%5D%2C%20%5B40.797634%2C%20-78.63269%5D%2C%20%5B34.03797%2C%20-77.59918%5D%2C%20%5B45.57235%2C%20-122.148785%5D%2C%20%5B38.640461%2C%20-80.20109599999998%5D%2C%20%5B36.671665%2C%20-77.598946%5D%2C%20%5B41.658535%2C%20-75.151593%5D%2C%20%5B29.75375%2C%20-105.08863999999998%5D%2C%20%5B33.8847%2C%20-122.434761%5D%2C%20%5B35.2643%2C%20-118.176035%5D%2C%20%5B25.566509%2C%20-76.705742%5D%2C%20%5B35.15867%2C%20-86.740997%5D%2C%20%5B30.232386%2C%20-118.351929%5D%2C%20%5B32.833012%2C%20-120.867759%5D%2C%20%5B44.261955%2C%20-118.26597%5D%2C%20%5B39.138695%2C%20-75.42576%5D%2C%20%5B30.277278000000006%2C%20-122.05225%5D%2C%20%5B37.82481%2C%20-80.979507%5D%2C%20%5B33.94932%2C%20-86.869011%5D%2C%20%5B27.337803000000005%2C%20-118.17972%5D%2C%20%5B41.029002%2C%20-118.378448%5D%2C%20%5B42.040958%2C%20-97.671585%5D%2C%20%5B34.049107%2C%20-117.872309%5D%2C%20%5B43.187363%2C%20-88.737572%5D%2C%20%5B42.24084000000001%2C%20-71.10301199999998%5D%2C%20%5B32.885841%2C%20-122.67851%5D%2C%20%5B33.99475%2C%20-71.06367%5D%2C%20%5B41.28508%2C%20-118.931871%5D%2C%20%5B37.955562%2C%20-81.564785%5D%2C%20%5B39.81208400000001%2C%20-118.473406%5D%2C%20%5B42.941029%2C%20-122.61118%5D%2C%20%5B41.811608%2C%20-122.347412%5D%2C%20%5B42.808886%2C%20-123.86201%5D%2C%20%5B30.521402%2C%20-80.37943299999998%5D%2C%20%5B32.691429%2C%20-86.58699399999998%5D%2C%20%5B40.735764%2C%20-76.95503199999997%5D%2C%20%5B41.88567000000001%2C%20-84.02081%5D%2C%20%5B32.13394%2C%20-80.089449%5D%2C%20%5B48.74532%2C%20-96.043098%5D%2C%20%5B34.06508%2C%20-73.17304200000002%5D%2C%20%5B38.273472%2C%20-77.48455%5D%2C%20%5B43.01223%2C%20-90.917725%5D%2C%20%5B35.786819%2C%20-122.484029%5D%2C%20%5B40.009975%2C%20-88.9207%5D%2C%20%5B39.62951%2C%20-121.894058%5D%2C%20%5B28.49478%2C%20-97.666321%5D%2C%20%5B34.02049%2C%20-72.970589%5D%2C%20%5B38.06849%2C%20-93.33902%5D%2C%20%5B35.080132%2C%20-118.132591%5D%2C%20%5B44.97069000000001%2C%20-75.404449%5D%2C%20%5B47.462715%2C%20-118.492347%5D%2C%20%5B36.230618%2C%20-122.565521%5D%2C%20%5B25.9274%2C%20-121.934029%5D%2C%20%5B35.794914%2C%20-97.5672%5D%2C%20%5B41.39228%2C%20-82.768204%5D%2C%20%5B40.02039%2C%20-111.90618%5D%2C%20%5B37.645321%2C%20-78.836472%5D%2C%20%5B29.484087%2C%20-117.993202%5D%2C%20%5B37.907397%2C%20-74.10131%5D%2C%20%5B33.04161%2C%20-81.677643%5D%2C%20%5B38.559142%2C%20-121.90886%5D%2C%20%5B38.1796%2C%20-80.828453%5D%2C%20%5B38.767199%2C%20-95.688347%5D%2C%20%5B35.94483%2C%20-93.99379%5D%2C%20%5B32.391361%2C%20-97.14342%5D%2C%20%5B40.042831%2C%20-117.11757%5D%2C%20%5B44.059585%2C%20-76.56695%5D%2C%20%5B39.178711%2C%20-112.28829%5D%2C%20%5B34.17033%2C%20-74.15786700000002%5D%2C%20%5B38.249872%2C%20-117.87666000000002%5D%2C%20%5B39.527428%2C%20-82.733963%5D%2C%20%5B35.73932999999999%2C%20-81.10059%5D%2C%20%5B34.60813%2C%20-82.29406%5D%2C%20%5B33.47073%2C%20-104.906487%5D%2C%20%5B40.188133%2C%20-83.2251%5D%2C%20%5B35.220928%2C%20-75.198631%5D%2C%20%5B38.558932%2C%20-78.836011%5D%2C%20%5B44.88181%2C%20-121.363862%5D%2C%20%5B29.678841%2C%20-94.709862%5D%2C%20%5B34.34461%2C%20-80.13744200000002%5D%2C%20%5B37.075527%2C%20-118.43854%5D%2C%20%5B29.58125%2C%20-86.330162%5D%2C%20%5B37.613601%2C%20-95.031898%5D%2C%20%5B27.940882%2C%20-81.669167%5D%2C%20%5B34.368118%2C%20-81.306679%5D%2C%20%5B25.785983%2C%20-121.44837%5D%2C%20%5B45.432186%2C%20-84.263733%5D%2C%20%5B25.62749%2C%20-93.29896%5D%2C%20%5B45.35099%2C%20-96.674858%5D%2C%20%5B34.206866%2C%20-80.251918%5D%2C%20%5B47.3384%2C%20-82.30504599999998%5D%2C%20%5B29.65576%2C%20-95.579627%5D%2C%20%5B33.76774%2C%20-84.497727%5D%2C%20%5B28.64997%2C%20-121.300972%5D%2C%20%5B36.18874%2C%20-94.398103%5D%2C%20%5B33.972493%2C%20-117.74564%5D%2C%20%5B41.28806%2C%20-118.21791%5D%2C%20%5B36.75759%2C%20-82.185303%5D%2C%20%5B41.109734%2C%20-76.379272%5D%2C%20%5B38.96305%2C%20-93.796127%5D%2C%20%5B36.99601%2C%20-82.42554%5D%2C%20%5B40.39152%2C%20-122.086945%5D%2C%20%5B43.175606%2C%20-74.302049%5D%2C%20%5B33.663589%2C%20-117.931015%5D%2C%20%5B34.010308%2C%20-121.291099%5D%2C%20%5B40.64455%2C%20-86.12572%5D%2C%20%5B35.805412%2C%20-122.843275%5D%2C%20%5B42.485429%2C%20-81.56498%5D%2C%20%5B34.1553%2C%20-122.29391499999998%5D%2C%20%5B35.371231%2C%20-85.61639%5D%2C%20%5B39.715614%2C%20-80.117207%5D%2C%20%5B30.082111%2C%20-74.3014%5D%2C%20%5B33.826840000000004%2C%20-80.970139%5D%2C%20%5B37.09515%2C%20-81.729156%5D%2C%20%5B37.663329%2C%20-117.846367%5D%2C%20%5B27.857734000000004%2C%20-117.989329%5D%2C%20%5B35.051735%2C%20-119.784837%5D%2C%20%5B33.974651%2C%20-117.974474%5D%2C%20%5B32.16132%2C%20-118.437836%5D%2C%20%5B34.027565%2C%20-84.194923%5D%2C%20%5B28.55253%2C%20-122.715965%5D%2C%20%5B42.16773%2C%20-77.457741%5D%2C%20%5B38.605225%2C%20-88.972939%5D%2C%20%5B32.81198%2C%20-97.618668%5D%2C%20%5B38.564735%2C%20-122.115387%5D%2C%20%5B36.684686%2C%20-86.05403100000002%5D%2C%20%5B34.037216%2C%20-77.582863%5D%2C%20%5B30.270027%2C%20-93.28492%5D%2C%20%5B38.587001%2C%20-118.457189%5D%2C%20%5B37.616093%2C%20-72.899661%5D%2C%20%5B34.06736%2C%20-119.191689%5D%2C%20%5B28.339936%2C%20-124.12115%5D%2C%20%5B34.045381%2C%20-80.08927%5D%2C%20%5B38.95593%2C%20-80.84886%5D%2C%20%5B34.0137%2C%20-117.47298%5D%2C%20%5B34.034948%2C%20-121.871205%5D%2C%20%5B34.15592%2C%20-80.608664%5D%2C%20%5B39.750195%2C%20-83.280821%5D%2C%20%5B37.035339%2C%20-122.425995%5D%2C%20%5B32.784717%2C%20-117.882774%5D%2C%20%5B34.071325%2C%20-69.925377%5D%2C%20%5B33.902747999999995%2C%20-92.488159%5D%2C%20%5B45.50071%2C%20-97.601158%5D%2C%20%5B43.13007%2C%20-73.836497%5D%2C%20%5B38.9305%2C%20-80.958282%5D%2C%20%5B32.925911%2C%20-93.718437%5D%2C%20%5B41.97981%2C%20-97.638351%5D%2C%20%5B36.553766%2C%20-112.151688%5D%2C%20%5B28.42485%2C%20-122.45233%5D%2C%20%5B34.31414%2C%20-74.007675%5D%2C%20%5B40.15258%2C%20-86.87468%5D%2C%20%5B35.050602000000005%2C%20-97.844037%5D%2C%20%5B32.694514%2C%20-83.723338%5D%2C%20%5B39.964317%2C%20-80.11098%5D%2C%20%5B30.158777%2C%20-76.108688%5D%2C%20%5B28.53401%2C%20-121.487221%5D%2C%20%5B45.479252%2C%20-94.6259%5D%2C%20%5B27.727636%2C%20-120.337151%5D%2C%20%5B39.870857%2C%20-86.76619699999998%5D%2C%20%5B28.07881%2C%20-78.76647%5D%2C%20%5B37.80086%2C%20-95.347444%5D%2C%20%5B41.93914%2C%20-118.368512%5D%2C%20%5B40.711109%2C%20-97.565651%5D%2C%20%5B32.791453000000004%2C%20-83.07294%5D%2C%20%5B34.051362%2C%20-118.75722%5D%2C%20%5B30.241757%2C%20-121.36068%5D%2C%20%5B27.716272%2C%20-77.35896%5D%2C%20%5B47.279598%2C%20-73.191683%5D%2C%20%5B34.835732%2C%20-74.189888%5D%2C%20%5B34.94814%2C%20-75.635788%5D%2C%20%5B36.32446%2C%20-118.385757%5D%2C%20%5B38.43245%2C%20-81.38871999999998%5D%2C%20%5B42.159756%2C%20-123.18217%5D%2C%20%5B34.117828%2C%20-81.854828%5D%2C%20%5B30.099941%2C%20-71.937218%5D%2C%20%5B33.361614%2C%20-93.571083%5D%2C%20%5B36.27944%2C%20-112.186234%5D%2C%20%5B37.740322%2C%20-111.93896%5D%2C%20%5B29.761366%2C%20-97.108223%5D%2C%20%5B33.960152%2C%20-118.217363%5D%2C%20%5B33.876853999999994%2C%20-121.419965%5D%2C%20%5B32.864216%2C%20-86.244186%5D%2C%20%5B36.173534%2C%20-76.392044%5D%2C%20%5B44.42155800000001%2C%20-117.514503%5D%2C%20%5B36.140518%2C%20-85.765343%5D%2C%20%5B45.374386%2C%20-77.169777%5D%2C%20%5B28.552982%2C%20-117.575703%5D%2C%20%5B33.83071%2C%20-73.677544%5D%2C%20%5B35.40860900000001%2C%20-82.160202%5D%2C%20%5B35.549733%2C%20-117.92722%5D%2C%20%5B33.856705%2C%20-73.172539%5D%2C%20%5B33.818447%2C%20-85.672958%5D%2C%20%5B32.749520000000004%2C%20-77.60041%5D%2C%20%5B32.163719%2C%20-111.904217%5D%2C%20%5B35.990219%2C%20-81.978729%5D%2C%20%5B26.1457%2C%20-73.75489%5D%2C%20%5B42.05940800000001%2C%20-122.97781299999998%5D%2C%20%5B45.238991%2C%20-97.500694%5D%2C%20%5B37.166683%2C%20-117.301628%5D%2C%20%5B39.55525%2C%20-81.08152%5D%2C%20%5B38.86554%2C%20-81.856346%5D%2C%20%5B32.175529%2C%20-121.50469%5D%2C%20%5B39.783268%2C%20-96.899732%5D%2C%20%5B33.200393%2C%20-82.68933100000002%5D%2C%20%5B33.872746%2C%20-76.626846%5D%2C%20%5B47.803902%2C%20-118.411911%5D%2C%20%5B37.507813%2C%20-75.320206%5D%2C%20%5B34.72262%2C%20-77.443588%5D%2C%20%5B29.80316%2C%20-90.06726%5D%2C%20%5B37.545007%2C%20-80.923485%5D%2C%20%5B35.779846%2C%20-82.267323%5D%2C%20%5B32.25016%2C%20-90.5242%5D%2C%20%5B35.084014%2C%20-118.169844%5D%2C%20%5B38.15518%2C%20-121.72836%5D%2C%20%5B35.83119%2C%20-123.91922%5D%2C%20%5B30.498039%2C%20-81.248032%5D%2C%20%5B38.288677%2C%20-87.988268%5D%2C%20%5B45.55502%2C%20-76.681099%5D%2C%20%5B44.943083%2C%20-94.49073%5D%2C%20%5B37.633026%2C%20-91.0401%5D%2C%20%5B45.127167%2C%20-79.39363%5D%2C%20%5B38.279888%2C%20-72.844148%5D%2C%20%5B44.968815%2C%20-73.467088%5D%2C%20%5B25.685183%2C%20-93.797218%5D%2C%20%5B34.178413%2C%20-73.678947%5D%2C%20%5B29.78497%2C%20-82.276009%5D%2C%20%5B30.534241%2C%20-81.66879%5D%2C%20%5B34.40646%2C%20-80.20888000000002%5D%2C%20%5B35.221252%2C%20-77.333116%5D%2C%20%5B43.67296%2C%20-84.201233%5D%2C%20%5B35.196663%2C%20-84.267738%5D%2C%20%5B37.67868%2C%20-76.68930999999998%5D%2C%20%5B40.849135%2C%20-95.317154%5D%2C%20%5B30.37097%2C%20-75.24481%5D%2C%20%5B26.17427%2C%20-87.9702%5D%2C%20%5B36.04433%2C%20-88.23516%5D%2C%20%5B38.702316%2C%20-121.835043%5D%2C%20%5B29.937648%2C%20-96.729103%5D%2C%20%5B36.086037%2C%20-117.509277%5D%2C%20%5B28.690254%2C%20-80.186628%5D%2C%20%5B34.068787%2C%20-76.821141%5D%2C%20%5B37.68795%2C%20-121.071808%5D%2C%20%5B43.027639%2C%20-118.18644%5D%2C%20%5B40.70906%2C%20-121.88498%5D%2C%20%5B33.920155%2C%20-81.27516899999998%5D%2C%20%5B33.441913%2C%20-77.49722%5D%2C%20%5B41.752499%2C%20-74.39267%5D%2C%20%5B33.998361%2C%20-76.283592%5D%2C%20%5B44.08169%2C%20-118.370316%5D%2C%20%5B45.14963%2C%20-117.79493%5D%2C%20%5B36.003124%2C%20-94.23755%5D%2C%20%5B34.07785%2C%20-95.41274%5D%2C%20%5B37.830694%2C%20-93.402077%5D%2C%20%5B33.73096%2C%20-97.49846%5D%2C%20%5B40.696113%2C%20-118.757423%5D%2C%20%5B26.08522%2C%20-90.412605%5D%2C%20%5B33.47596%2C%20-121.808708%5D%2C%20%5B39.486569%2C%20-118.402353%5D%2C%20%5B33.982603000000005%2C%20-117.789865%5D%2C%20%5B41.484451%2C%20-121.47398%5D%2C%20%5B34.57247%2C%20-121.422653%5D%2C%20%5B27.444340000000004%2C%20-73.870201%5D%2C%20%5B36.874905%2C%20-122.590408%5D%2C%20%5B37.999695%2C%20-122.26836000000002%5D%2C%20%5B34.086183%2C%20-80.723656%5D%2C%20%5B35.134621%2C%20-80.318649%5D%2C%20%5B40.98677%2C%20-83.12684%5D%2C%20%5B29.706129%2C%20-117.689803%5D%2C%20%5B33.854236%2C%20-94.72042%5D%2C%20%5B38.659767%2C%20-75.575129%5D%2C%20%5B40.030914%2C%20-78.884323%5D%2C%20%5B34.018459%2C%20-123.010934%5D%2C%20%5B44.592531%2C%20-74.09959%5D%2C%20%5B40.524291%2C%20-95.990227%5D%2C%20%5B38.464099%2C%20-82.75910999999998%5D%2C%20%5B34.02397%2C%20-73.83776%5D%2C%20%5B41.337353%2C%20-86.77624499999997%5D%2C%20%5B38.885441%2C%20-117.28183%5D%2C%20%5B32.93987%2C%20-84.599029%5D%2C%20%5B25.880626%2C%20-95.31073%5D%2C%20%5B35.239773%2C%20-95.352493%5D%2C%20%5B40.168341%2C%20-82.487072%5D%2C%20%5B33.204390000000004%2C%20-76.60065%5D%2C%20%5B36.967091%2C%20-88.044342%5D%2C%20%5B35.072571%2C%20-81.537231%5D%2C%20%5B30.476522%2C%20-118.36934%5D%2C%20%5B41.212269%2C%20-112.047433%5D%2C%20%5B40.744353%2C%20-117.396399%5D%2C%20%5B42.38272%2C%20-77.56276700000002%5D%2C%20%5B36.09219%2C%20-118.346886%5D%2C%20%5B41.06258%2C%20-110.975853%5D%2C%20%5B32.48473%2C%20-117.112515%5D%2C%20%5B36.988523%2C%20-120.236236%5D%2C%20%5B38.670311%2C%20-94.175552%5D%2C%20%5B33.729227%2C%20-80.05695300000002%5D%2C%20%5B25.760921%2C%20-122.034061%5D%2C%20%5B32.766781%2C%20-122.99738%5D%2C%20%5B47.48695%2C%20-75.005981%5D%2C%20%5B40.853148%2C%20-83.71045%5D%2C%20%5B39.27367%2C%20-86.654488%5D%2C%20%5B39.696%2C%20-118.338249%5D%2C%20%5B33.655151000000004%2C%20-88.27771%5D%2C%20%5B33.95591%2C%20-106.46249%5D%2C%20%5B40.633408%2C%20-80.920937%5D%2C%20%5B47.26047%2C%20-86.97020699999999%5D%2C%20%5B30.198587%2C%20-80.141755%5D%2C%20%5B47.674399%2C%20-77.39779%5D%2C%20%5B47.36964%2C%20-94.733157%5D%2C%20%5B34.870971999999995%2C%20-122.47563%5D%2C%20%5B28.436%2C%20-96.014259%5D%2C%20%5B45.30534%2C%20-90.447556%5D%2C%20%5B41.68225%2C%20-77.339744%5D%2C%20%5B36.743649%2C%20-95.38967%5D%2C%20%5B37.660374%2C%20-96.90086%5D%2C%20%5B34.188576%2C%20-122.56884%5D%2C%20%5B28.21878%2C%20-117.672981%5D%2C%20%5B45.035976%2C%20-80.790314%5D%2C%20%5B41.82958%2C%20-71.199%5D%2C%20%5B25.776227%2C%20-82.354057%5D%2C%20%5B34.069901%2C%20-121.57576%5D%2C%20%5B34.237858%2C%20-122.48667%5D%2C%20%5B43.155981%2C%20-94.587209%5D%2C%20%5B40.5774%2C%20-77.17886999999997%5D%2C%20%5B36.7598%2C%20-112.481903%5D%2C%20%5B29.675085%2C%20-121.94223999999998%5D%2C%20%5B44.889355%2C%20-87.87095%5D%2C%20%5B29.780581%2C%20-87.86792%5D%2C%20%5B40.18559000000001%2C%20-104.81505%5D%2C%20%5B33.138737%2C%20-122.287979%5D%2C%20%5B40.121021%2C%20-81.301735%5D%2C%20%5B34.0946%2C%20-95.605909%5D%2C%20%5B33.167149%2C%20-86.664017%5D%2C%20%5B34.097266999999995%2C%20-89.98331999999998%5D%2C%20%5B41.800106%2C%20-117.806824%5D%2C%20%5B38.296555%2C%20-93.25941%5D%2C%20%5B34.15438%2C%20-85.64375%5D%2C%20%5B37.741854%2C%20-96.916878%5D%2C%20%5B30.216019%2C%20-86.14495%5D%2C%20%5B34.029495000000004%2C%20-118.12106%5D%2C%20%5B25.97825%2C%20-74.07123100000003%5D%2C%20%5B27.9104%2C%20-118.31263%5D%2C%20%5B47.648502%2C%20-110.909508%5D%2C%20%5B37.128367%2C%20-93.101265%5D%2C%20%5B43.223419%2C%20-73.764015%5D%2C%20%5B34.16098%2C%20-93.085258%5D%2C%20%5B41.495171%2C%20-118.285871%5D%2C%20%5B34.542721%2C%20-80.169012%5D%2C%20%5B41.16729%2C%20-87.845528%5D%2C%20%5B40.63468%2C%20-77.729827%5D%2C%20%5B34.038971000000004%2C%20-122.391823%5D%2C%20%5B40.04546%2C%20-87.904834%5D%2C%20%5B37.79246%2C%20-73.8672%5D%2C%20%5B35.165401%2C%20-87.87854%5D%2C%20%5B38.500847%2C%20-81.93167%5D%2C%20%5B37.95971%2C%20-75.33734%5D%2C%20%5B41.702264%2C%20-77.920006%5D%2C%20%5B41.57468400000001%2C%20-117.28601%5D%2C%20%5B33.88465%2C%20-86.662178%5D%2C%20%5B38.971164%2C%20-73.82396700000002%5D%2C%20%5B28.697083000000006%2C%20-78.744987%5D%2C%20%5B41.75071%2C%20-83.878075%5D%2C%20%5B33.448082%2C%20-79.81309499999998%5D%2C%20%5B42.40815900000001%2C%20-122.057755%5D%2C%20%5B26.368029%2C%20-80.04954000000002%5D%2C%20%5B34.075562%2C%20-78.787849%5D%2C%20%5B33.45561%2C%20-122.34946399999998%5D%2C%20%5B34.155733000000005%2C%20-122.376221%5D%2C%20%5B34.115611%2C%20-72.774369%5D%2C%20%5B41.13258%2C%20-77.40599%5D%2C%20%5B32.674881%2C%20-118.4685%5D%2C%20%5B33.494869%2C%20-96.08139%5D%2C%20%5B32.20641%2C%20-77.327789%5D%2C%20%5B30.752872%2C%20-74.31774899999998%5D%2C%20%5B33.922315000000005%2C%20-118.470243%5D%2C%20%5B27.310484%2C%20-80.09659%5D%2C%20%5B26.61682%2C%20-73.995041%5D%2C%20%5B39.274341%2C%20-90.530266%5D%2C%20%5B38.697332%2C%20-96.817413%5D%2C%20%5B45.52991%2C%20-73.94493%5D%2C%20%5B39.20297%2C%20-97.681252%5D%2C%20%5B43.923287%2C%20-122.30963%5D%2C%20%5B30.462158%2C%20-97.776615%5D%2C%20%5B34.219612%2C%20-81.793472%5D%2C%20%5B35.47818%2C%20-111.90229%5D%2C%20%5B32.206951000000004%2C%20-85.657928%5D%2C%20%5B38.81737%2C%20-117.65341200000002%5D%2C%20%5B33.01862%2C%20-78.620354%5D%2C%20%5B34.57953%2C%20-118.469818%5D%2C%20%5B34.095592%2C%20-116.92968799999998%5D%2C%20%5B43.18165%2C%20-95.349144%5D%2C%20%5B32.909496000000004%2C%20-80.836258%5D%2C%20%5B40.727966%2C%20-121.557852%5D%2C%20%5B40.180531%2C%20-73.60991%5D%2C%20%5B27.882601%2C%20-93.78126%5D%2C%20%5B41.297403%2C%20-121.92906200000002%5D%2C%20%5B41.260712%2C%20-93.029099%5D%2C%20%5B34.14114%2C%20-120.842419%5D%2C%20%5B40.785057%2C%20-119.42112%5D%2C%20%5B33.5485%2C%20-87.905559%5D%2C%20%5B26.725389%2C%20-118.173354%5D%2C%20%5B34.023926%2C%20-121.922081%5D%2C%20%5B33.38783%2C%20-80.23935999999998%5D%2C%20%5B29.600216%2C%20-119.807961%5D%2C%20%5B42.694115%2C%20-86.82158000000003%5D%2C%20%5B33.65699%2C%20-73.724091%5D%2C%20%5B40.725599%2C%20-77.293184%5D%2C%20%5B25.8444%2C%20-121.743866%5D%2C%20%5B34.108909999999995%2C%20-118.209961%5D%2C%20%5B34.010239%2C%20-81.387535%5D%2C%20%5B25.920771%2C%20-76.181976%5D%2C%20%5B30.334675%2C%20-91.153587%5D%2C%20%5B40.53756%2C%20-73.48705%5D%2C%20%5B39.594913%2C%20-118.029207%5D%2C%20%5B38.84773300000001%2C%20-117.446456%5D%2C%20%5B46.09999000000001%2C%20-122.070733%5D%2C%20%5B45.647896%2C%20-82.64201%5D%2C%20%5B40.064915%2C%20-71.14894699999998%5D%2C%20%5B28.449924%2C%20-79.142303%5D%2C%20%5B40.826557%2C%20-96.856499%5D%2C%20%5B39.512532%2C%20-95.183022%5D%2C%20%5B40.947887%2C%20-118.227524%5D%2C%20%5B37.766461%2C%20-104.862534%5D%2C%20%5B28.533468%2C%20-76.873456%5D%2C%20%5B29.455448%2C%20-119.83921%5D%2C%20%5B26.94233%2C%20-86.620613%5D%2C%20%5B47.462715%2C%20-87.984047%5D%2C%20%5B47.79681%2C%20-84.176109%5D%2C%20%5B36.890102%2C%20-78.71189100000002%5D%2C%20%5B29.738722%2C%20-117.6716%5D%2C%20%5B37.60535%2C%20-98.403954%5D%2C%20%5B41.752499%2C%20-92.009377%5D%2C%20%5B35.126499%2C%20-73.762527%5D%2C%20%5B35.785168%2C%20-76.62316%5D%2C%20%5B37.631772%2C%20-95.15798%5D%2C%20%5B33.910623%2C%20-121.58608999999998%5D%2C%20%5B41.05751%2C%20-76.91265899999998%5D%2C%20%5B37.64657800000001%2C%20-77.460447%5D%2C%20%5B32.709446%2C%20-75.64179200000002%5D%2C%20%5B36.736829%2C%20-76.59236999999997%5D%2C%20%5B41.147129%2C%20-96.897476%5D%2C%20%5B34.858978%2C%20-95.956635%5D%2C%20%5B42.34494%2C%20-81.465019%5D%2C%20%5B40.269637%2C%20-71.17735%5D%2C%20%5B44.99903%2C%20-122.51485%5D%2C%20%5B34.718352%2C%20-75.28514100000002%5D%2C%20%5B28.309937%2C%20-95.381279%5D%2C%20%5B33.538609%2C%20-122.32862%5D%2C%20%5B33.789241%2C%20-84.328194%5D%2C%20%5B33.81171%2C%20-96.823269%5D%2C%20%5B33.97149%2C%20-85.647102%5D%2C%20%5B47.67583%2C%20-122.32485%5D%2C%20%5B35.335297%2C%20-119.662682%5D%2C%20%5B37.523209%2C%20-77.419726%5D%2C%20%5B45.592287%2C%20-104.719327%5D%2C%20%5B33.617878000000005%2C%20-119.829788%5D%2C%20%5B37.828011%2C%20-72.922841%5D%2C%20%5B35.542793%2C%20-122.20279%5D%2C%20%5B33.966927%2C%20-118.422203%5D%2C%20%5B39.0124%2C%20-91.550224%5D%2C%20%5B33.76759000000001%2C%20-76.266922%5D%2C%20%5B33.928652%2C%20-76.98875%5D%2C%20%5B39.30565%2C%20-117.47285%5D%2C%20%5B42.703252%2C%20-87.98835%5D%2C%20%5B41.756969%2C%20-82.545387%5D%2C%20%5B33.457069%2C%20-76.831834%5D%2C%20%5B40.05671%2C%20-121.756935%5D%2C%20%5B43.35266%2C%20-84.064949%5D%2C%20%5B32.336559%2C%20-73.739655%5D%2C%20%5B28.486987%2C%20-118.185081%5D%2C%20%5B33.774322%2C%20-71.095314%5D%2C%20%5B30.367392%2C%20-73.40007%5D%2C%20%5B39.159084%2C%20-121.036942%5D%2C%20%5B38.7974%2C%20-121.32546%5D%2C%20%5B40.142906%2C%20-82.104239%5D%2C%20%5B40.849973%2C%20-117.38871%5D%2C%20%5B39.242788%2C%20-76.70889%5D%2C%20%5B45.6041%2C%20-84.33232%5D%2C%20%5B43.06189000000001%2C%20-118.29126%5D%2C%20%5B40.811445%2C%20-118.823372%5D%2C%20%5B33.855991%2C%20-84.446114%5D%2C%20%5B34.437055%2C%20-118.47299%5D%2C%20%5B44.837361%2C%20-117.656415%5D%2C%20%5B34.065578%2C%20-87.81624000000002%5D%2C%20%5B34.035315999999995%2C%20-84.21929%5D%2C%20%5B33.856010999999995%2C%20-85.658455%5D%2C%20%5B41.62282%2C%20-121.007109%5D%2C%20%5B47.441555%2C%20-88.01263%5D%2C%20%5B42.35878%2C%20-118.856812%5D%2C%20%5B35.47506%2C%20-118.300323%5D%2C%20%5B38.909357%2C%20-86.76417%5D%2C%20%5B34.07208%2C%20-83.742805%5D%2C%20%5B30.341311%2C%20-71.25882%5D%2C%20%5B39.98560300000001%2C%20-122.625526%5D%2C%20%5B33.123055%2C%20-85.18820699999998%5D%2C%20%5B35.011371999999994%2C%20-121.636625%5D%2C%20%5B30.388281%2C%20-93.276695%5D%2C%20%5B35.281559%2C%20-76.493042%5D%2C%20%5B45.075863%2C%20-121.887871%5D%2C%20%5B43.003315%2C%20-95.455971%5D%2C%20%5B30.33588%2C%20-95.605743%5D%2C%20%5B34.29332%2C%20-82.4642%5D%2C%20%5B33.893299%2C%20-84.384727%5D%2C%20%5B40.64286%2C%20-82.938179%5D%2C%20%5B26.53433%2C%20-122.166817%5D%2C%20%5B38.98928%2C%20-80.888672%5D%2C%20%5B35.401328%2C%20-80.166826%5D%2C%20%5B36.151157%2C%20-95.468704%5D%2C%20%5B36.988121%2C%20-82.787019%5D%2C%20%5B39.005681%2C%20-81.609154%5D%2C%20%5B41.101665%2C%20-83.36969%5D%2C%20%5B35.466484%2C%20-81.66866999999998%5D%2C%20%5B30.262125%2C%20-93.748596%5D%2C%20%5B30.385798%2C%20-97.554581%5D%2C%20%5B35.120815%2C%20-84.49068%5D%2C%20%5B43.93426%2C%20-118.03068%5D%2C%20%5B37.707146%2C%20-81.23786199999998%5D%2C%20%5B36.297043%2C%20-80.35164499999998%5D%2C%20%5B34.040539%2C%20-118.853742%5D%2C%20%5B41.995083%2C%20-78.834824%5D%2C%20%5B34.713306%2C%20-80.15353499999998%5D%2C%20%5B40.737487%2C%20-117.324977%5D%2C%20%5B40.759106%2C%20-87.95227%5D%2C%20%5B39.38479%2C%20-89.871643%5D%2C%20%5B30.260139%2C%20-79.33326%5D%2C%20%5B34.089329%2C%20-73.802017%5D%2C%20%5B40.8213%2C%20-93.265116%5D%2C%20%5B39.864444%2C%20-83.271271%5D%2C%20%5B41.947015%2C%20-112.047539%5D%2C%20%5B35.42988%2C%20-117.23262%5D%2C%20%5B40.492653%2C%20-77.670395%5D%2C%20%5B42.553341%2C%20-118.13109%5D%2C%20%5B37.86644%2C%20-86.678698%5D%2C%20%5B38.410707%2C%20-121.401497%5D%2C%20%5B30.252023%2C%20-121.86622%5D%2C%20%5B34.72116%2C%20-118.35237%5D%2C%20%5B26.528181%2C%20-82.459595%5D%2C%20%5B38.49581%2C%20-122.112747%5D%2C%20%5B44.891048%2C%20-122.064285%5D%2C%20%5B33.87549%2C%20-121.935356%5D%2C%20%5B30.222597%2C%20-117.906548%5D%2C%20%5B39.75098%2C%20-93.002742%5D%2C%20%5B34.365108%2C%20-75.233482%5D%2C%20%5B34.031665999999994%2C%20-83.604378%5D%2C%20%5B28.359919%2C%20-78.64441%5D%2C%20%5B44.8863%2C%20-111.823003%5D%2C%20%5B40.757117%2C%20-82.530411%5D%2C%20%5B36.614775%2C%20-85.845001%5D%2C%20%5B33.90511%2C%20-80.82399000000002%5D%2C%20%5B34.067412%2C%20-84.391693%5D%2C%20%5B39.03699%2C%20-77.176147%5D%2C%20%5B37.879204%2C%20-122.198219%5D%2C%20%5B37.711136%2C%20-117.13446%5D%2C%20%5B45.151031%2C%20-112.043892%5D%2C%20%5B34.291688%2C%20-75.42732%5D%2C%20%5B42.461308%2C%20-86.82634%5D%2C%20%5B35.046741%2C%20-82.557404%5D%2C%20%5B37.755856%2C%20-118.468437%5D%2C%20%5B39.866981%2C%20-111.904762%5D%2C%20%5B37.356194%2C%20-82.324852%5D%2C%20%5B39.530499%2C%20-119.976631%5D%2C%20%5B31.759912%2C%20-87.89508000000002%5D%2C%20%5B29.123781%2C%20-119.793557%5D%2C%20%5B30.323437%2C%20-77.576782%5D%2C%20%5B41.181553%2C%20-82.50083199999997%5D%2C%20%5B35.51556400000001%2C%20-84.516632%5D%2C%20%5B36.79715%2C%20-80.361758%5D%2C%20%5B39.96095%2C%20-92.066566%5D%2C%20%5B33.724224%2C%20-73.48571%5D%2C%20%5B38.81057%2C%20-122.0606%5D%2C%20%5B41.253448%2C%20-77.232529%5D%2C%20%5B33.939910999999995%2C%20-93.288506%5D%2C%20%5B40.739637%2C%20-120.502127%5D%2C%20%5B32.934917%2C%20-68.80843%5D%2C%20%5B34.932598%2C%20-122.027931%5D%2C%20%5B33.87084%2C%20-87.830811%5D%2C%20%5B40.74414%2C%20-86.176788%5D%2C%20%5B37.572907%2C%20-87.678116%5D%2C%20%5B37.083864%2C%20-118.47654%5D%2C%20%5B27.474218%2C%20-75.10239%5D%2C%20%5B29.453735%2C%20-77.07574%5D%2C%20%5B33.428272%2C%20-73.440099%5D%2C%20%5B39.5133%2C%20-106.377172%5D%2C%20%5B38.58874%2C%20-120.783464%5D%2C%20%5B29.744865%2C%20-80.206795%5D%2C%20%5B33.728817%2C%20-86.687416%5D%2C%20%5B33.751511%2C%20-117.908268%5D%2C%20%5B33.975128000000005%2C%20-74.208412%5D%2C%20%5B42.973869%2C%20-73.51018%5D%2C%20%5B38.65607%2C%20-82.66069%5D%2C%20%5B44.896648%2C%20-118.773637%5D%2C%20%5B40.691212%2C%20-118.361083%5D%2C%20%5B35.861282%2C%20-112.14472%5D%2C%20%5B34.362328000000005%2C%20-77.24828199999997%5D%2C%20%5B30.270988%2C%20-75.10212%5D%2C%20%5B32.812393%2C%20-97.696831%5D%2C%20%5B34.134003%2C%20-121.744728%5D%2C%20%5B41.13022%2C%20-83.91631%5D%2C%20%5B45.1157%2C%20-111.98176200000002%5D%2C%20%5B37.216297%2C%20-95.484161%5D%2C%20%5B39.952179%2C%20-80.865356%5D%2C%20%5B42.20011%2C%20-86.41124%5D%2C%20%5B41.298154%2C%20-76.359779%5D%2C%20%5B41.81148%2C%20-91.111308%5D%2C%20%5B32.760876%2C%20-87.63048%5D%2C%20%5B38.629848%2C%20-86.666557%5D%2C%20%5B38.786861%2C%20-118.413408%5D%2C%20%5B33.462219%2C%20-73.19519%5D%2C%20%5B32.798786%2C%20-117.698196%5D%2C%20%5B29.674463%2C%20-117.380767%5D%2C%20%5B29.699890000000003%2C%20-81.40438%5D%2C%20%5B34.438568%2C%20-95.550169%5D%2C%20%5B40.297768%2C%20-71.340848%5D%2C%20%5B40.741505%2C%20-91.028587%5D%2C%20%5B33.777%2C%20-112.11437%5D%2C%20%5B33.98323%2C%20-75.388733%5D%2C%20%5B45.067535%2C%20-122.002274%5D%2C%20%5B40.127026%2C%20-75.32122%5D%2C%20%5B44.00734%2C%20-121.382879%5D%2C%20%5B44.972896%2C%20-81.73946%5D%2C%20%5B42.199799%2C%20-118.228828%5D%2C%20%5B32.694%2C%20-118.276449%5D%2C%20%5B34.00977%2C%20-82.429283%5D%2C%20%5B39.71102%2C%20-93.07786%5D%2C%20%5B34.770473%2C%20-76.30364399999998%5D%2C%20%5B34.600868%2C%20-95.4883%5D%2C%20%5B26.678745000000006%2C%20-73.96579%5D%2C%20%5B35.20932%2C%20-122.110379%5D%2C%20%5B33.42221%2C%20-117.933701%5D%2C%20%5B37.52849000000001%2C%20-111.83617%5D%2C%20%5B26.274832%2C%20-74.71434%5D%2C%20%5B34.63145%2C%20-117.091906%5D%2C%20%5B42.878878%2C%20-80.708903%5D%2C%20%5B25.580839%2C%20-118.195198%5D%2C%20%5B33.741161%2C%20-93.146957%5D%2C%20%5B30.73256%2C%20-96.769188%5D%2C%20%5B30.203409000000004%2C%20-78.35730699999998%5D%2C%20%5B40.989391%2C%20-104.802345%5D%2C%20%5B34.08363%2C%20-82.28967%5D%2C%20%5B42.491627%2C%20-96.6922%5D%2C%20%5B41.61843%2C%20-80.563202%5D%2C%20%5B30.663248%2C%20-120.895759%5D%2C%20%5B37.09524%2C%20-118.102577%5D%2C%20%5B34.033461%2C%20-80.64431%5D%2C%20%5B34.06565%2C%20-118.46961%5D%2C%20%5B36.929142%2C%20-73.65686%5D%2C%20%5B28.48259%2C%20-118.00633%5D%2C%20%5B38.629734%2C%20-82.433279%5D%2C%20%5B33.764576%2C%20-118.19254%5D%2C%20%5B42.984756%2C%20-78.560852%5D%2C%20%5B32.76101%2C%20-117.880076%5D%2C%20%5B37.31687%2C%20-120.93174%5D%2C%20%5B42.387808%2C%20-94.267719%5D%2C%20%5B39.78738%2C%20-104.83529%5D%2C%20%5B41.78322%2C%20-88.089287%5D%2C%20%5B28.503590000000006%2C%20-73.819822%5D%2C%20%5B43.089532%2C%20-75.280905%5D%2C%20%5B29.968451%2C%20-93.703514%5D%2C%20%5B43.094161%2C%20-93.041512%5D%2C%20%5B33.918217%2C%20-118.149963%5D%2C%20%5B30.41213%2C%20-72.66427%5D%2C%20%5B38.86491%2C%20-118.472832%5D%2C%20%5B33.810326%2C%20-82.288048%5D%2C%20%5B44.965589%2C%20-91.196554%5D%2C%20%5B38.564736%2C%20-117.392105%5D%2C%20%5B47.325737%2C%20-117.509501%5D%2C%20%5B33.03335%2C%20-82.636016%5D%2C%20%5B41.121393%2C%20-86.80720500000002%5D%2C%20%5B38.65361%2C%20-122.059106%5D%2C%20%5B41.411949%2C%20-90.219955%5D%2C%20%5B41.097534%2C%20-86.73288000000002%5D%2C%20%5B32.80847%2C%20-74.312302%5D%2C%20%5B27.26927%2C%20-80.211472%5D%2C%20%5B42.941658%2C%20-79.798828%5D%2C%20%5B30.335978000000004%2C%20-81.66854000000002%5D%2C%20%5B39.58993%2C%20-84.658953%5D%2C%20%5B28.568384%2C%20-117.174211%5D%2C%20%5B34.858849%2C%20-92.871927%5D%2C%20%5B33.89952%2C%20-116.657%5D%2C%20%5B29.729715%2C%20-117.50985%5D%2C%20%5B35.814922%2C%20-95.410675%5D%2C%20%5B32.436034%2C%20-95.64492%5D%2C%20%5B36.970425%2C%20-121.82597%5D%2C%20%5B38.702091%2C%20-121.192345%5D%2C%20%5B42.31909%2C%20-121.94071%5D%2C%20%5B39.76637%2C%20-70.94408%5D%2C%20%5B40.68746%2C%20-117.8384%5D%2C%20%5B39.3587%2C%20-116.448243%5D%2C%20%5B28.02137%2C%20-75.18283000000002%5D%2C%20%5B45.03556%2C%20-83.15387700000002%5D%2C%20%5B36.168252%2C%20-81.310112%5D%2C%20%5B45.129913%2C%20-120.999881%5D%2C%20%5B35.11547%2C%20-121.138657%5D%2C%20%5B45.50682000000001%2C%20-84.50253000000002%5D%2C%20%5B40.249092%2C%20-121.498053%5D%2C%20%5B36.327511%2C%20-81.260651%5D%2C%20%5B34.228375%2C%20-85.65168%5D%2C%20%5B32.940063%2C%20-87.067521%5D%2C%20%5B33.121939000000005%2C%20-97.024734%5D%2C%20%5B42.44107%2C%20-84.38578199999998%5D%2C%20%5B34.123718%2C%20-120.39026%5D%2C%20%5B30.141642%2C%20-83.06276700000002%5D%2C%20%5B33.939674%2C%20-88.29720999999998%5D%2C%20%5B32.206951000000004%2C%20-122.111336%5D%2C%20%5B38.455892%2C%20-84.36068%5D%2C%20%5B41.13463%2C%20-117.000073%5D%2C%20%5B27.857181%2C%20-120.382422%5D%2C%20%5B38.878208%2C%20-97.794464%5D%2C%20%5B29.424948%2C%20-118.00388%5D%2C%20%5B37.516701%2C%20-84.498451%5D%2C%20%5B36.75986%2C%20-96.97586%5D%2C%20%5B35.251171%2C%20-96.688438%5D%2C%20%5B42.398205%2C%20-93.51108%5D%2C%20%5B29.50436%2C%20-121.810371%5D%2C%20%5B41.745277%2C%20-78.58413399999998%5D%2C%20%5B29.767640000000004%2C%20-118.41371200000002%5D%2C%20%5B33.971931%2C%20-121.24282%5D%2C%20%5B37.672176%2C%20-78.587456%5D%2C%20%5B41.737751%2C%20-122.068192%5D%2C%20%5B40.824448%2C%20-118.291702%5D%2C%20%5B33.38626%2C%20-79.880839%5D%2C%20%5B37.75034%2C%20-77.6064%5D%2C%20%5B35.105156%2C%20-88.16093000000002%5D%2C%20%5B33.947899%2C%20-73.904137%5D%2C%20%5B35.360458%2C%20-74.50895%5D%2C%20%5B41.85265%2C%20-94.124184%5D%2C%20%5B33.89185%2C%20-104.81922%5D%2C%20%5B47.64045%2C%20-119.784885%5D%2C%20%5B43.01123%2C%20-123.625681%5D%2C%20%5B43.16592%2C%20-122.58606%5D%2C%20%5B32.787792%2C%20-118.223022%5D%2C%20%5B39.42972%2C%20-77.800186%5D%2C%20%5B28.308189%2C%20-76.490997%5D%2C%20%5B30.427069%2C%20-96.770355%5D%2C%20%5B44.625767%2C%20-79.98790699999998%5D%2C%20%5B36.15138%2C%20-84.137787%5D%2C%20%5B30.201111%2C%20-111.256042%5D%2C%20%5B44.984486%2C%20-122.11238%5D%2C%20%5B29.819332%2C%20-87.66059%5D%2C%20%5B39.76331%2C%20-118.25041%5D%2C%20%5B35.52640200000001%2C%20-95.41623%5D%2C%20%5B29.790785%2C%20-94.892532%5D%2C%20%5B34.023869%2C%20-73.916061%5D%2C%20%5B40.610584%2C%20-82.00431800000001%5D%2C%20%5B35.24679000000001%2C%20-90.11367%5D%2C%20%5B30.403645%2C%20-80.76664699999998%5D%2C%20%5B42.12104%2C%20-74.251366%5D%2C%20%5B32.77199%2C%20-84.494003%5D%2C%20%5B38.842731%2C%20-93.26431%5D%2C%20%5B35.25203300000001%2C%20-118.291693%5D%2C%20%5B33.90965%2C%20-122.336151%5D%2C%20%5B35.815159%2C%20-121.297215%5D%2C%20%5B40.01377%2C%20-93.159867%5D%2C%20%5B30.015539%2C%20-76.196342%5D%2C%20%5B33.51762%2C%20-97.30658%5D%2C%20%5B33.88901%2C%20-84.40289%5D%2C%20%5B41.203224%2C%20-97.062378%5D%2C%20%5B33.72425%2C%20-76.52409%5D%2C%20%5B40.405628%2C%20-82.558578%5D%2C%20%5B37.74384000000001%2C%20-72.883698%5D%2C%20%5B37.496956%2C%20-118.16787%5D%2C%20%5B42.483475%2C%20-96.82267%5D%2C%20%5B44.97346%2C%20-117.34403%5D%2C%20%5B35.757378%2C%20-80.924461%5D%2C%20%5B39.7834%2C%20-82.30246%5D%2C%20%5B34.000642%2C%20-96.685028%5D%2C%20%5B33.895729%2C%20-80.76953%5D%2C%20%5B40.76278%2C%20-122.006729%5D%2C%20%5B34.434986%2C%20-117.10351%5D%2C%20%5B31.244488%2C%20-77.978882%5D%2C%20%5B47.27765%2C%20-117.73398%5D%2C%20%5B41.769859%2C%20-80.573437%5D%2C%20%5B35.34552100000001%2C%20-118.040102%5D%2C%20%5B37.752502%2C%20-93.052864%5D%2C%20%5B32.841429999999995%2C%20-123.87196000000002%5D%2C%20%5B47.30392%2C%20-74.051147%5D%2C%20%5B34.303383000000004%2C%20-84.4963%5D%2C%20%5B33.766376%2C%20-92.8301%5D%2C%20%5B35.779918%2C%20-117.83391%5D%2C%20%5B43.359005%2C%20-117.984634%5D%2C%20%5B33.733143%2C%20-80.34227%5D%2C%20%5B41.37669%2C%20-94.85307%5D%2C%20%5B34.168741%2C%20-92.833131%5D%2C%20%5B47.23488%2C%20-118.431236%5D%2C%20%5B42.443005%2C%20-122.82353%5D%2C%20%5B29.59798%2C%20-95.435562%5D%2C%20%5B39.984295%2C%20-96.110283%5D%2C%20%5B38.687291%2C%20-118.69888600000002%5D%2C%20%5B33.813427000000004%2C%20-122.159524%5D%2C%20%5B28.266481%2C%20-118.192258%5D%2C%20%5B29.671154%2C%20-118.474275%5D%2C%20%5B33.465981%2C%20-83.09566%5D%2C%20%5B35.75936%2C%20-121.47773%5D%2C%20%5B43.1851%2C%20-74.44404%5D%2C%20%5B33.916672%2C%20-118.291794%5D%2C%20%5B41.61776%2C%20-120.37615%5D%2C%20%5B34.844086%2C%20-86.738043%5D%2C%20%5B38.947155%2C%20-119.117767%5D%2C%20%5B34.04365%2C%20-76.160831%5D%2C%20%5B39.73793%2C%20-79.38226%5D%2C%20%5B43.00637800000001%2C%20-73.816696%5D%2C%20%5B34.135124%2C%20-80.41471800000002%5D%2C%20%5B42.248676%2C%20-87.74721%5D%2C%20%5B38.567451%2C%20-80.302995%5D%2C%20%5B44.99817%2C%20-82.361328%5D%2C%20%5B38.476143%2C%20-121.471695%5D%2C%20%5B37.66449%2C%20-77.192484%5D%2C%20%5B30.512981%2C%20-111.758102%5D%2C%20%5B41.22237%2C%20-84.43203000000003%5D%2C%20%5B43.12627%2C%20-82.42546999999998%5D%2C%20%5B38.62954000000001%2C%20-76.579894%5D%2C%20%5B34.068589%2C%20-118.284809%5D%2C%20%5B29.997862%2C%20-73.68463100000002%5D%2C%20%5B39.02254%2C%20-77.369875%5D%2C%20%5B39.09489600000001%2C%20-122.29628%5D%2C%20%5B35.815907%2C%20-122.392258%5D%2C%20%5B33.860957%2C%20-118.293724%5D%2C%20%5B31.186352000000007%2C%20-95.953331%5D%2C%20%5B34.173641%2C%20-117.906235%5D%2C%20%5B33.945467%2C%20-123.047989%5D%2C%20%5B42.341053%2C%20-117.92028%5D%2C%20%5B40.868015%2C%20-121.991977%5D%2C%20%5B33.441334000000005%2C%20-92.052452%5D%2C%20%5B37.863945%2C%20-118.319696%5D%2C%20%5B37.761818%2C%20-86.782036%5D%2C%20%5B47.04603%2C%20-80.774117%5D%2C%20%5B37.321574%2C%20-95.262558%5D%2C%20%5B40.904403%2C%20-118.478905%5D%2C%20%5B34.601704%2C%20-120.208637%5D%2C%20%5B30.332319%2C%20-118.451965%5D%2C%20%5B35.21881099999999%2C%20-118.375259%5D%2C%20%5B34.043739%2C%20-78.736099%5D%2C%20%5B26.633261%2C%20-73.96011%5D%2C%20%5B35.841625%2C%20-77.319283%5D%2C%20%5B43.152168%2C%20-81.637291%5D%2C%20%5B42.283928%2C%20-93.058029%5D%2C%20%5B40.743294%2C%20-78.620384%5D%2C%20%5B33.900018%2C%20-82.568765%5D%2C%20%5B41.06271%2C%20-81.747263%5D%2C%20%5B37.833263%2C%20-86.07985%5D%2C%20%5B33.748508%2C%20-73.483921%5D%2C%20%5B27.388443%2C%20-83.62281800000002%5D%2C%20%5B40.10197700000001%2C%20-82.32975%5D%2C%20%5B41.818772%2C%20-81.740948%5D%2C%20%5B34.14324000000001%2C%20-77.613722%5D%2C%20%5B38.29763%2C%20-93.288147%5D%2C%20%5B45.566229%2C%20-117.86739%5D%2C%20%5B34.500469%2C%20-95.430809%5D%2C%20%5B38.655533%2C%20-91.010925%5D%2C%20%5B44.817389%2C%20-118.4122%5D%2C%20%5B42.313526%2C%20-81.60181%5D%2C%20%5B34.592758%2C%20-77.42849%5D%2C%20%5B28.057655%2C%20-80.219009%5D%2C%20%5B37.539282%2C%20-118.002724%5D%2C%20%5B36.845558%2C%20-81.71521%5D%2C%20%5B41.259624%2C%20-80.917374%5D%2C%20%5B41.671306%2C%20-122.20299%5D%2C%20%5B33.7991%2C%20-93.20884%5D%2C%20%5B38.884548%2C%20-122.27629%5D%2C%20%5B34.029003%2C%20-80.17444%5D%2C%20%5B28.75614%2C%20-73.854675%5D%2C%20%5B44.44476%2C%20-81.448527%5D%2C%20%5B26.089537%2C%20-77.223%5D%2C%20%5B39.135872%2C%20-77.8545%5D%2C%20%5B27.32286%2C%20-78.60642%5D%2C%20%5B43.93153%2C%20-88.22333499999998%5D%2C%20%5B25.7766%2C%20-93.285942%5D%2C%20%5B34.127033000000004%2C%20-122.227669%5D%2C%20%5B35.063422%2C%20-85.626609%5D%2C%20%5B33.404148%2C%20-122.670754%5D%2C%20%5B41.50986500000001%2C%20-89.86500500000002%5D%2C%20%5B39.78375%2C%20-84.76605%5D%2C%20%5B29.674845%2C%20-80.20711999999997%5D%2C%20%5B28.538113%2C%20-87.76841999999998%5D%2C%20%5B35.015925%2C%20-121.890991%5D%2C%20%5B41.14871%2C%20-94.281667%5D%2C%20%5B37.607045%2C%20-76.60749799999998%5D%2C%20%5B37.728561%2C%20-81.310634%5D%2C%20%5B37.93136%2C%20-88.349982%5D%2C%20%5B42.381122%2C%20-81.35797099999998%5D%2C%20%5B33.854588%2C%20-71.500519%5D%2C%20%5B31.727657%2C%20-95.399246%5D%2C%20%5B34.293418%2C%20-119.862518%5D%2C%20%5B39.88615%2C%20-121.30719%5D%2C%20%5B34.597366%2C%20-93.28855%5D%2C%20%5B30.139816%2C%20-117.21285%5D%2C%20%5B40.771721%2C%20-85.63958000000002%5D%2C%20%5B32.66411%2C%20-92.90996%5D%2C%20%5B45.020611%2C%20-75.35133%5D%2C%20%5B32.83292%2C%20-80.06908%5D%2C%20%5B36.0464%2C%20-118.47159%5D%2C%20%5B38.74410200000001%2C%20-97.735016%5D%2C%20%5B36.19916%2C%20-79.99508%5D%2C%20%5B44.939541%2C%20-93.905888%5D%2C%20%5B34.913952%2C%20-119.014128%5D%2C%20%5B26.10659%2C%20-80.734627%5D%2C%20%5B34.828705%2C%20-111.00724%5D%2C%20%5B40.79017%2C%20-118.788132%5D%2C%20%5B42.701317%2C%20-104.99205%5D%2C%20%5B37.714728%2C%20-97.785385%5D%2C%20%5B37.749413%2C%20-78.593727%5D%2C%20%5B35.293598%2C%20-122.550697%5D%2C%20%5B30.566833000000006%2C%20-111.916862%5D%2C%20%5B28.19264%2C%20-121.725673%5D%2C%20%5B45.48549000000001%2C%20-117.553088%5D%2C%20%5B33.87471%2C%20-76.90570100000002%5D%2C%20%5B35.17905%2C%20-87.802818%5D%2C%20%5B47.499153%2C%20-96.711884%5D%2C%20%5B25.78101%2C%20-90.644264%5D%2C%20%5B42.140151%2C%20-82.734215%5D%2C%20%5B37.945572%2C%20-94.352144%5D%2C%20%5B33.885075%2C%20-75.14161%5D%2C%20%5B34.338035999999995%2C%20-117.15751000000002%5D%2C%20%5B37.59836%2C%20-82.586533%5D%2C%20%5B42.502224%2C%20-95.24968%5D%2C%20%5B40.696609%2C%20-94.785278%5D%2C%20%5B35.100001%2C%20-86.04643399999998%5D%2C%20%5B29.412445%2C%20-76.349358%5D%2C%20%5B40.206075%2C%20-112.12121%5D%2C%20%5B30.418235%2C%20-76.730766%5D%2C%20%5B43.10424%2C%20-117.437588%5D%2C%20%5B41.942822%2C%20-82.115158%5D%2C%20%5B41.715729%2C%20-121.862441%5D%2C%20%5B44.89784%2C%20-87.88868000000002%5D%2C%20%5B38.190258%2C%20-83.09201800000002%5D%2C%20%5B40.72476%2C%20-95.384644%5D%2C%20%5B30.289778%2C%20-118.237843%5D%2C%20%5B36.16481%2C%20-81.141899%5D%2C%20%5B39.358745%2C%20-84.259003%5D%2C%20%5B42.97229%2C%20-84.20464%5D%2C%20%5B32.36161%2C%20-78.46779699999998%5D%2C%20%5B34.054359000000005%2C%20-118.44152%5D%2C%20%5B33.457003%2C%20-118.023258%5D%2C%20%5B41.833942%2C%20-121.977211%5D%2C%20%5B36.53564%2C%20-121.666695%5D%2C%20%5B34.038418%2C%20-122.68265%5D%2C%20%5B30.408035%2C%20-122.19638799999998%5D%2C%20%5B40.718971%2C%20-118.565791%5D%2C%20%5B40.45373%2C%20-90.44958%5D%2C%20%5B38.86837%2C%20-72.65770699999999%5D%2C%20%5B37.535431%2C%20-83.852592%5D%2C%20%5B41.424259%2C%20-123.012573%5D%2C%20%5B35.305315%2C%20-80.358795%5D%2C%20%5B32.655196999999994%2C%20-97.543488%5D%2C%20%5B39.418183%2C%20-73.828407%5D%2C%20%5B33.746761%2C%20-119.252731%5D%2C%20%5B40.114613%2C%20-73.872375%5D%2C%20%5B34.154007%2C%20-85.37113000000002%5D%2C%20%5B47.575916%2C%20-74.098811%5D%2C%20%5B39.04097%2C%20-121.590682%5D%2C%20%5B40.68716%2C%20-78.6207%5D%2C%20%5B35.23288%2C%20-122.676239%5D%2C%20%5B25.941481%2C%20-75.014931%5D%2C%20%5B41.268089%2C%20-84.27399399999999%5D%2C%20%5B33.934372%2C%20-122.351639%5D%2C%20%5B26.062872%2C%20-106.29393%5D%2C%20%5B42.34%2C%20-84.29265600000002%5D%2C%20%5B42.908993%2C%20-116.95111%5D%2C%20%5B41.57114%2C%20-117.8627%5D%2C%20%5B41.81943%2C%20-84.492813%5D%2C%20%5B40.701691%2C%20-121.9478%5D%2C%20%5B40.709019%2C%20-121.17815%5D%2C%20%5B33.586731%2C%20-117.82267%5D%2C%20%5B41.740099%2C%20-80.188591%5D%2C%20%5B34.21521%2C%20-71.305649%5D%2C%20%5B44.89266%2C%20-82.21063199999998%5D%2C%20%5B47.163231%2C%20-117.757042%5D%2C%20%5B34.067448%2C%20-86.64872700000002%5D%2C%20%5B45.52301%2C%20-118.280975%5D%2C%20%5B29.854252%2C%20-90.404152%5D%2C%20%5B36.085766%2C%20-110.971123%5D%2C%20%5B41.8521%2C%20-73.98107900000002%5D%2C%20%5B28.22591%2C%20-119.116432%5D%2C%20%5B38.79573%2C%20-82.435356%5D%2C%20%5B38.678759%2C%20-98.50498%5D%2C%20%5B33.735594%2C%20-90.179%5D%2C%20%5B35.040539%2C%20-123.37726%5D%2C%20%5B40.967949%2C%20-80.884651%5D%2C%20%5B25.811613%2C%20-72.86785%5D%2C%20%5B41.290447%2C%20-73.64399999999998%5D%2C%20%5B32.274082%2C%20-73.93365%5D%2C%20%5B32.460381%2C%20-84.380333%5D%2C%20%5B33.28067%2C%20-121.413483%5D%2C%20%5B40.17617%2C%20-85.777229%5D%2C%20%5B35.773769%2C%20-104.895339%5D%2C%20%5B36.156864%2C%20-91.720505%5D%2C%20%5B33.654408000000004%2C%20-80.023544%5D%2C%20%5B28.493990000000004%2C%20-97.742889%5D%2C%20%5B36.593388%2C%20-76.65045%5D%2C%20%5B43.598858%2C%20-106.35586%5D%2C%20%5B34.071915000000004%2C%20-73.27259000000002%5D%2C%20%5B44.536%2C%20-86.824066%5D%2C%20%5B44.999386%2C%20-88.31397199999998%5D%2C%20%5B39.734039%2C%20-80.383634%5D%2C%20%5B36.576439%2C%20-93.13646%5D%2C%20%5B30.20296%2C%20-73.477165%5D%2C%20%5B42.140509%2C%20-117.98172%5D%2C%20%5B41.740662%2C%20-97.65107%5D%2C%20%5B34.106784999999995%2C%20-74.2533%5D%2C%20%5B33.427532%2C%20-93.13871%5D%2C%20%5B41.869122%2C%20-123.06192%5D%2C%20%5B35.31021%2C%20-97.759789%5D%2C%20%5B33.917602%2C%20-92.992439%5D%2C%20%5B30.462458%2C%20-122.605046%5D%2C%20%5B35.33237000000001%2C%20-76.957138%5D%2C%20%5B33.749458000000004%2C%20-117.933687%5D%2C%20%5B40.10936%2C%20-74.586975%5D%2C%20%5B41.750256%2C%20-77.6138%5D%2C%20%5B34.056465%2C%20-122.348907%5D%2C%20%5B32.909046000000004%2C%20-118.335857%5D%2C%20%5B34.186034%2C%20-117.394245%5D%2C%20%5B37.825237%2C%20-83.18109399999999%5D%2C%20%5B25.891071%2C%20-73.394508%5D%2C%20%5B33.885911%2C%20-80.44429000000002%5D%2C%20%5B33.710947999999995%2C%20-79.055367%5D%2C%20%5B28.00331%2C%20-118.291%5D%2C%20%5B38.685644%2C%20-82.37001%5D%2C%20%5B32.778828000000004%2C%20-75.38334%5D%2C%20%5B34.12151%2C%20-112.111572%5D%2C%20%5B38.948932%2C%20-80.208157%5D%2C%20%5B42.553108%2C%20-80.25251300000002%5D%2C%20%5B29.89585%2C%20-93.347702%5D%2C%20%5B44.99905%2C%20-97.673523%5D%2C%20%5B26.581753000000006%2C%20-84.138931%5D%2C%20%5B36.962863%2C%20-121.32856%5D%2C%20%5B25.946466%2C%20-93.009193%5D%2C%20%5B32.39609%2C%20-76.96994000000002%5D%2C%20%5B42.94421%2C%20-82.237228%5D%2C%20%5B33.44656%2C%20-117.687989%5D%2C%20%5B29.730656%2C%20-123.35201%5D%2C%20%5B34.701683%2C%20-80.077957%5D%2C%20%5B32.783543%2C%20-93.948921%5D%2C%20%5B45.33351%2C%20-80.385262%5D%2C%20%5B30.437993%2C%20-84.42971999999997%5D%2C%20%5B34.0872%2C%20-97.631737%5D%2C%20%5B33.415945%2C%20-96.004425%5D%2C%20%5B36.243144%2C%20-121.71756%5D%2C%20%5B37.770949%2C%20-80.09215%5D%2C%20%5B45.61438%2C%20-94.14055%5D%2C%20%5B33.741463%2C%20-120.671105%5D%2C%20%5B36.07538%2C%20-80.162247%5D%2C%20%5B38.89568%2C%20-118.967499%5D%2C%20%5B35.164841%2C%20-117.906786%5D%2C%20%5B40.75966%2C%20-121.363421%5D%2C%20%5B32.902497%2C%20-97.935478%5D%2C%20%5B38.885506%2C%20-88.119659%5D%2C%20%5B29.676029%2C%20-83.80281%5D%2C%20%5B34.871971%2C%20-118.36826299999998%5D%2C%20%5B41.62082%2C%20-117.869706%5D%2C%20%5B33.890293%2C%20-82.99355%5D%2C%20%5B37.848997%2C%20-118.616142%5D%2C%20%5B44.626325%2C%20-71.04619%5D%2C%20%5B47.597301%2C%20-75.362167%5D%2C%20%5B39.563084%2C%20-118.17645%5D%2C%20%5B25.790081%2C%20-90.017138%5D%2C%20%5B35.71673%2C%20-98.462029%5D%2C%20%5B38.885555%2C%20-121.382729%5D%2C%20%5B28.353571%2C%20-82.96705%5D%2C%20%5B41.177375%2C%20-119.601289%5D%2C%20%5B33.42297%2C%20-76.88041700000002%5D%2C%20%5B32.935394%2C%20-91.471602%5D%2C%20%5B25.8829%2C%20-76.26649499999998%5D%2C%20%5B38.878944%2C%20-106.8293%5D%2C%20%5B34.17054%2C%20-110.928209%5D%2C%20%5B38.71107%2C%20-80.99041700000002%5D%2C%20%5B30.321564%2C%20-80.735336%5D%2C%20%5B31.409842%2C%20-81.06914%5D%2C%20%5B32.514839%2C%20-91.102074%5D%2C%20%5B35.25834000000001%2C%20-111.029251%5D%2C%20%5B43.034779%2C%20-122.0869%5D%2C%20%5B35.123829%2C%20-87.95787%5D%2C%20%5B38.444628%2C%20-77.39223%5D%2C%20%5B32.789535%2C%20-91.089218%5D%2C%20%5B42.01858%2C%20-118.230216%5D%2C%20%5B34.86914%2C%20-88.208687%5D%2C%20%5B37.764816%2C%20-106.31762%5D%2C%20%5B38.587349%2C%20-88.251503%5D%2C%20%5B40.335514%2C%20-93.64224%5D%2C%20%5B33.441387%2C%20-75.48291%5D%2C%20%5B33.504131%2C%20-80.08528000000003%5D%2C%20%5B33.994259%2C%20-77.42905999999998%5D%2C%20%5B37.536068%2C%20-122.224735%5D%2C%20%5B33.963494%2C%20-117.88462%5D%2C%20%5B40.76306%2C%20-87.957657%5D%2C%20%5B35.667561%2C%20-117.215976%5D%2C%20%5B44.06162%2C%20-121.88553%5D%2C%20%5B27.9999%2C%20-97.726631%5D%2C%20%5B34.049561%2C%20-77.711235%5D%2C%20%5B43.05815%2C%20-74.199546%5D%2C%20%5B37.316881%2C%20-73.74840999999998%5D%2C%20%5B30.229502%2C%20-95.36895%5D%2C%20%5B44.92927%2C%20-117.7524%5D%2C%20%5B32.669514%2C%20-96.697949%5D%2C%20%5B33.334671%2C%20-78.616547%5D%2C%20%5B43.837581%2C%20-109.663773%5D%2C%20%5B41.741145%2C%20-117.9463%5D%2C%20%5B37.63975900000001%2C%20-83.65948%5D%2C%20%5B41.51835%2C%20-80.896477%5D%2C%20%5B28.540048%2C%20-118.20751%5D%2C%20%5B42.183382%2C%20-118.326524%5D%2C%20%5B32.146512%2C%20-73.963769%5D%2C%20%5B37.384074%2C%20-121.384144%5D%2C%20%5B40.163357%2C%20-82.454643%5D%2C%20%5B39.33872%2C%20-118.379409%5D%2C%20%5B41.27515%2C%20-77.528915%5D%2C%20%5B33.75412%2C%20-121.641558%5D%2C%20%5B33.942029%2C%20-80.09902199999998%5D%2C%20%5B32.839218%2C%20-90.11352%5D%2C%20%5B30.553089%2C%20-111.536049%5D%2C%20%5B34.035675%2C%20-95.91938%5D%2C%20%5B28.472389%2C%20-118.914116%5D%2C%20%5B33.233791%2C%20-73.74417%5D%2C%20%5B42.502193%2C%20-122.90313%5D%2C%20%5B33.958469%2C%20-118.28681%5D%2C%20%5B33.84764000000001%2C%20-118.370082%5D%2C%20%5B41.649544%2C%20-119.320419%5D%2C%20%5B34.003716%2C%20-111.87394%5D%2C%20%5B45.483201%2C%20-81.022377%5D%2C%20%5B30.27071%2C%20-111.891159%5D%2C%20%5B38.782192%2C%20-122.29816%5D%2C%20%5B40.665333%2C%20-97.551537%5D%2C%20%5B34.84745%2C%20-121.165503%5D%2C%20%5B26.26534%2C%20-84.507541%5D%2C%20%5B33.714397%2C%20-118.280422%5D%2C%20%5B34.066489000000004%2C%20-74.73680300000002%5D%2C%20%5B45.108672%2C%20-117.124012%5D%2C%20%5B40.737286%2C%20-81.86725899999998%5D%2C%20%5B35.19158200000001%2C%20-122.0734%5D%2C%20%5B34.841905%2C%20-121.308571%5D%2C%20%5B33.746238%2C%20-111.64698%5D%2C%20%5B44.97609%2C%20-75.526207%5D%2C%20%5B47.82624000000001%2C%20-82.464813%5D%2C%20%5B33.248306%2C%20-86.355637%5D%2C%20%5B35.194403%2C%20-121.328255%5D%2C%20%5B29.579121%2C%20-95.279762%5D%2C%20%5B26.09247%2C%20-94.673551%5D%2C%20%5B36.966613%2C%20-84.375221%5D%2C%20%5B33.504394%2C%20-78.58452%5D%2C%20%5B42.445744%2C%20-73.8956%5D%2C%20%5B41.218719%2C%20-75.197609%5D%2C%20%5B40.232524%2C%20-84.372787%5D%2C%20%5B25.957556%2C%20-120.82232%5D%2C%20%5B40.067032%2C%20-118.47327%5D%2C%20%5B28.79916%2C%20-86.489334%5D%2C%20%5B29.488319%2C%20-95.38179%5D%2C%20%5B35.41397100000001%2C%20-77.484605%5D%2C%20%5B27.712124%2C%20-121.914177%5D%2C%20%5B33.80608400000001%2C%20-118.469627%5D%2C%20%5B28.82585%2C%20-96.76553%5D%2C%20%5B36.153809%2C%20-87.87373000000002%5D%2C%20%5B25.8588%2C%20-97.553833%5D%2C%20%5B45.039017%2C%20-86.855804%5D%2C%20%5B34.003265%2C%20-81.00688199999998%5D%2C%20%5B38.650965%2C%20-118.12041%5D%2C%20%5B36.148003%2C%20-73.5448%5D%2C%20%5B41.90271%2C%20-93.289238%5D%2C%20%5B33.852024%2C%20-118.410054%5D%2C%20%5B34.2525%2C%20-78.687118%5D%2C%20%5B34.04842%2C%20-77.077759%5D%2C%20%5B42.025391%2C%20-122.539425%5D%2C%20%5B32.837706%2C%20-74.2775%5D%2C%20%5B40.924541%2C%20-121.373101%5D%2C%20%5B42.476616%2C%20-123.785869%5D%2C%20%5B37.74199%2C%20-96.76337%5D%2C%20%5B38.91188%2C%20-87.313345%5D%2C%20%5B42.954151%2C%20-73.99886%5D%2C%20%5B26.22525%2C%20-120.895532%5D%2C%20%5B38.711516%2C%20-121.557778%5D%2C%20%5B34.923286%2C%20-83.459237%5D%2C%20%5B33.538478999999995%2C%20-111.7697%5D%2C%20%5B39.007935%2C%20-92.981621%5D%2C%20%5B34.034382%2C%20-96.727692%5D%2C%20%5B25.970783%2C%20-77.462738%5D%2C%20%5B29.812983000000006%2C%20-97.58015%5D%2C%20%5B33.79958%2C%20-74.14723199999997%5D%2C%20%5B30.188925%2C%20-118.1339%5D%2C%20%5B34.156244%2C%20-76.343275%5D%2C%20%5B34.037491%2C%20-97.795792%5D%2C%20%5B32.367832%2C%20-117.336071%5D%2C%20%5B40.122799%2C%20-80.13507800000002%5D%2C%20%5B42.944321%2C%20-111.919128%5D%2C%20%5B33.268501%2C%20-111.88575%5D%2C%20%5B33.790863%2C%20-117.272331%5D%2C%20%5B43.027206%2C%20-74.02569%5D%2C%20%5B39.197132%2C%20-80.059787%5D%2C%20%5B32.88421%2C%20-81.367473%5D%2C%20%5B40.66674%2C%20-112.0135%5D%2C%20%5B36.11182%2C%20-104.817748%5D%2C%20%5B38.34875%2C%20-93.247505%5D%2C%20%5B37.430971%2C%20-95.621399%5D%2C%20%5B38.85306%2C%20-121.857722%5D%2C%20%5B32.685390000000005%2C%20-118.18014%5D%2C%20%5B42.84913%2C%20-79.938148%5D%2C%20%5B38.49042100000001%2C%20-90.456341%5D%2C%20%5B42.3772%2C%20-118.191299%5D%2C%20%5B35.300575%2C%20-111.9091%5D%2C%20%5B38.011215%2C%20-124.221241%5D%2C%20%5B29.99762%2C%20-93.562233%5D%2C%20%5B40.824109%2C%20-75.139816%5D%2C%20%5B28.218794%2C%20-84.359383%5D%2C%20%5B33.870401%2C%20-118.98523%5D%2C%20%5B38.663918%2C%20-84.60206%5D%2C%20%5B42.4772%2C%20-94.881981%5D%2C%20%5B34.794829%2C%20-79.76971400000002%5D%2C%20%5B37.317062%2C%20-118.30502%5D%2C%20%5B36.176937%2C%20-92.994598%5D%2C%20%5B44.137908%2C%20-90.592066%5D%2C%20%5B40.180904%2C%20-78.89022800000002%5D%2C%20%5B34.06974%2C%20-111.8109%5D%2C%20%5B42.478127%2C%20-93.500685%5D%2C%20%5B43.525108%2C%20-93.810204%5D%2C%20%5B37.799237%2C%20-118.477219%5D%2C%20%5B28.546013%2C%20-73.873695%5D%2C%20%5B29.864342%2C%20-85.420461%5D%2C%20%5B38.661156%2C%20-118.3697%5D%2C%20%5B36.683681%2C%20-112.215691%5D%2C%20%5B26.922372%2C%20-86.712982%5D%2C%20%5B40.865009%2C%20-74.40699000000002%5D%2C%20%5B34.051662%2C%20-87.82056999999998%5D%2C%20%5B34.021034%2C%20-93.39242%5D%2C%20%5B37.701649%2C%20-80.79435%5D%2C%20%5B39.27539%2C%20-121.316744%5D%2C%20%5B41.30228%2C%20-86.81582%5D%2C%20%5B34.054262%2C%20-75.55323299999998%5D%2C%20%5B40.44137%2C%20-118.62915%5D%2C%20%5B33.863921999999995%2C%20-119.770111%5D%2C%20%5B42.633045%2C%20-81.120802%5D%2C%20%5B34.13393%2C%20-93.47587%5D%2C%20%5B43.38533%2C%20-82.679451%5D%2C%20%5B32.922028000000005%2C%20-76.53398%5D%2C%20%5B34.011383%2C%20-122.745324%5D%2C%20%5B30.226824%2C%20-114.51433%5D%2C%20%5B35.856655%2C%20-76.747833%5D%2C%20%5B43.17421%2C%20-118.14325%5D%2C%20%5B40.91078%2C%20-117.425171%5D%2C%20%5B40.153592%2C%20-122.299644%5D%2C%20%5B39.48630900000001%2C%20-80.08560200000002%5D%2C%20%5B30.391996%2C%20-78.194568%5D%2C%20%5B30.21606%2C%20-106.634307%5D%2C%20%5B34.91668%2C%20-112.052864%5D%2C%20%5B42.70533%2C%20-80.36036999999997%5D%2C%20%5B47.558023%2C%20-78.66757199999998%5D%2C%20%5B32.317633%2C%20-122.221909%5D%2C%20%5B35.4856%2C%20-97.321556%5D%2C%20%5B36.195143%2C%20-118.081421%5D%2C%20%5B25.797006%2C%20-121.350495%5D%2C%20%5B42.402222%2C%20-117.663103%5D%2C%20%5B37.60067700000001%2C%20-93.342995%5D%2C%20%5B30.367790000000007%2C%20-87.410988%5D%2C%20%5B34.060883000000004%2C%20-94.505577%5D%2C%20%5B44.57391%2C%20-111.647051%5D%2C%20%5B32.6726%2C%20-82.58769000000002%5D%2C%20%5B34.065697%2C%20-123.06243%5D%2C%20%5B33.985901%2C%20-122.295181%5D%2C%20%5B38.83566%2C%20-118.30813%5D%2C%20%5B33.238953%2C%20-93.13642%5D%2C%20%5B38.24396%2C%20-121.27828%5D%2C%20%5B40.770645%2C%20-117.89352%5D%2C%20%5B34.14811%2C%20-80.78475999999998%5D%2C%20%5B43.087982%2C%20-93.56324%5D%2C%20%5B34.070251%2C%20-82.459602%5D%2C%20%5B39.44318%2C%20-117.783358%5D%2C%20%5B32.62422%2C%20-116.294968%5D%2C%20%5B32.79207%2C%20-117.863677%5D%2C%20%5B29.499046000000003%2C%20-122.27425%5D%2C%20%5B33.79768%2C%20-82.49928%5D%2C%20%5B39.983677%2C%20-86.34944200000002%5D%2C%20%5B42.87587%2C%20-95.354111%5D%2C%20%5B28.332813%2C%20-123.196557%5D%2C%20%5B45.54079%2C%20-73.62575%5D%2C%20%5B30.261011%2C%20-121.45277%5D%2C%20%5B27.93777%2C%20-118.999803%5D%2C%20%5B34.119549%2C%20-77.4328%5D%2C%20%5B32.23534%2C%20-121.89284%5D%2C%20%5B30.285851%2C%20-117.659889%5D%2C%20%5B25.990566%2C%20-118.21682%5D%2C%20%5B30.335259000000004%2C%20-81.83968399999998%5D%2C%20%5B26.10659%2C%20-74.129871%5D%2C%20%5B30.248053%2C%20-106.371109%5D%2C%20%5B41.797345%2C%20-117.3642%5D%2C%20%5B30.391018%2C%20-97.695374%5D%2C%20%5B36.48957%2C%20-86.106796%5D%2C%20%5B33.068874%2C%20-96.717735%5D%2C%20%5B34.423176%2C%20-117.332191%5D%2C%20%5B26.12938%2C%20-121.360367%5D%2C%20%5B28.871731%2C%20-83.194847%5D%2C%20%5B34.148579%2C%20-94.583378%5D%2C%20%5B32.71761%2C%20-89.109623%5D%2C%20%5B28.121429%2C%20-82.362709%5D%2C%20%5B32.868706%2C%20-81.680038%5D%2C%20%5B34.20478%2C%20-85.77716099999998%5D%2C%20%5B35.885175%2C%20-97.476967%5D%2C%20%5B41.62574%2C%20-82.584969%5D%2C%20%5B43.086171%2C%20-73.96068000000002%5D%2C%20%5B34.14444%2C%20-121.429107%5D%2C%20%5B30.403763%2C%20-97.803558%5D%2C%20%5B38.879488%2C%20-77.689911%5D%2C%20%5B37.318645%2C%20-85.10783%5D%2C%20%5B38.610163%2C%20-97.318161%5D%2C%20%5B39.04887%2C%20-115.07889%5D%2C%20%5B38.882516%2C%20-118.47207%5D%2C%20%5B35.014549%2C%20-121.811607%5D%2C%20%5B41.044167%2C%20-119.03752%5D%2C%20%5B38.606297%2C%20-76.58967%5D%2C%20%5B40.697189%2C%20-117.844971%5D%2C%20%5B40.190304%2C%20-117.851595%5D%2C%20%5B37.751629%2C%20-83.6446%5D%2C%20%5B47.464489%2C%20-122.68583%5D%2C%20%5B43.77102%2C%20-92.001747%5D%2C%20%5B32.2216%2C%20-73.72428000000002%5D%2C%20%5B37.69977%2C%20-77.643602%5D%2C%20%5B34.023540000000004%2C%20-122.660721%5D%2C%20%5B28.597149%2C%20-95.588615%5D%2C%20%5B44.09726%2C%20-122.536996%5D%2C%20%5B37.35247800000001%2C%20-112.270645%5D%2C%20%5B42.974403%2C%20-86.240021%5D%2C%20%5B42.863033%2C%20-82.387367%5D%2C%20%5B40.21455%2C%20-98.599494%5D%2C%20%5B33.781818%2C%20-73.94399%5D%2C%20%5B25.882669%2C%20-119.844333%5D%2C%20%5B33.80537%2C%20-118.45722%5D%2C%20%5B34.109158%2C%20-72.956959%5D%2C%20%5B33.79719%2C%20-77.23661%5D%2C%20%5B34.686852%2C%20-122.200233%5D%2C%20%5B28.002211%2C%20-121.35282%5D%2C%20%5B40.666517%2C%20-84.53133299999998%5D%2C%20%5B40.686806%2C%20-118.453055%5D%2C%20%5B42.484795%2C%20-117.84169%5D%2C%20%5B35.72862999999999%2C%20-76.264587%5D%2C%20%5B33.377739%2C%20-94.198418%5D%2C%20%5B42.762939%2C%20-122.034071%5D%2C%20%5B39.819839%2C%20-80.242627%5D%2C%20%5B37.531986%2C%20-84.39241%5D%2C%20%5B41.18081%2C%20-96.665253%5D%2C%20%5B40.73525%2C%20-119.367249%5D%2C%20%5B39.28615300000001%2C%20-118.207747%5D%2C%20%5B35.137840000000004%2C%20-80.20699%5D%2C%20%5B42.38632%2C%20-88.025444%5D%2C%20%5B33.876347%2C%20-118.000229%5D%2C%20%5B35.16491%2C%20-80.84749599999998%5D%2C%20%5B39.724957%2C%20-74.30484%5D%2C%20%5B48.964615%2C%20-77.276955%5D%2C%20%5B38.956784000000006%2C%20-121.47367%5D%2C%20%5B26.324338%2C%20-120.821091%5D%2C%20%5B28.0423%2C%20-78.522675%5D%2C%20%5B33.825363%2C%20-80.416702%5D%2C%20%5B29.422531%2C%20-71.43027%5D%2C%20%5B33.816681%2C%20-96.794243%5D%2C%20%5B25.940327%2C%20-85.20186%5D%2C%20%5B33.631567%2C%20-118.23319%5D%2C%20%5B37.015589%2C%20-122.305351%5D%2C%20%5B35.79089000000001%2C%20-87.550961%5D%2C%20%5B29.541105%2C%20-73.94399%5D%2C%20%5B30.157120000000006%2C%20-96.87801%5D%2C%20%5B33.929386%2C%20-97.060905%5D%2C%20%5B33.730919%2C%20-82.42443%5D%2C%20%5B40.179985%2C%20-81.37630300000002%5D%2C%20%5B38.587602%2C%20-122.296127%5D%2C%20%5B34.274879%2C%20-88.190922%5D%2C%20%5B35.19487%2C%20-87.59124%5D%2C%20%5B28.510178000000003%2C%20-117.702164%5D%2C%20%5B36.191788%2C%20-73.86978%5D%2C%20%5B34.430027%2C%20-95.562866%5D%2C%20%5B41.281494%2C%20-72.678347%5D%2C%20%5B33.188599%2C%20-111.810661%5D%2C%20%5B33.972641%2C%20-118.378102%5D%2C%20%5B32.741692%2C%20-118.422135%5D%2C%20%5B38.875622%2C%20-96.897964%5D%2C%20%5B37.952862%2C%20-96.838165%5D%2C%20%5B37.57835%2C%20-122.486125%5D%2C%20%5B41.493721%2C%20-84.222397%5D%2C%20%5B42.334049%2C%20-111.185458%5D%2C%20%5B32.75908%2C%20-74.975342%5D%2C%20%5B30.300127000000003%2C%20-121.81474%5D%2C%20%5B40.64277%2C%20-77.42491899999997%5D%2C%20%5B38.576362%2C%20-119.39498%5D%2C%20%5B33.857405%2C%20-117.086441%5D%2C%20%5B42.270302%2C%20-121.85044%5D%2C%20%5B31.743799%2C%20-122.027528%5D%2C%20%5B33.38564%2C%20-84.502447%5D%2C%20%5B47.712711%2C%20-76.83119%5D%2C%20%5B28.551889000000006%2C%20-77.052673%5D%2C%20%5B37.317062%2C%20-81.801789%5D%2C%20%5B45.470671%2C%20-73.49056999999998%5D%2C%20%5B45.970046%2C%20-105.025093%5D%2C%20%5B42.38592%2C%20-117.338188%5D%2C%20%5B32.92459%2C%20-119.357443%5D%2C%20%5B32.94377%2C%20-95.423477%5D%2C%20%5B37.826344%2C%20-118.050606%5D%2C%20%5B26.008101%2C%20-87.291836%5D%2C%20%5B45.710582%2C%20-79.699898%5D%2C%20%5B36.76791%2C%20-77.451645%5D%2C%20%5B35.94836%2C%20-80.964104%5D%2C%20%5B41.411377%2C%20-78.78475999999998%5D%2C%20%5B36.58918%2C%20-122.180334%5D%2C%20%5B34.320281%2C%20-89.902344%5D%2C%20%5B48.470737%2C%20-80.917999%5D%2C%20%5B45.39474000000001%2C%20-71.465198%5D%2C%20%5B34.893537%2C%20-84.504543%5D%2C%20%5B34.026792%2C%20-121.93402%5D%2C%20%5B33.931362%2C%20-95.307476%5D%2C%20%5B28.00331%2C%20-110.738022%5D%2C%20%5B32.148631%2C%20-117.86119%5D%2C%20%5B29.134482%2C%20-72.71993%5D%2C%20%5B39.11614%2C%20-81.981148%5D%2C%20%5B41.719688%2C%20-80.500854%5D%2C%20%5B43.41597%2C%20-122.297042%5D%2C%20%5B35.211449%2C%20-84.226051%5D%2C%20%5B29.753147%2C%20-86.462662%5D%2C%20%5B39.34184000000001%2C%20-118.442192%5D%2C%20%5B41.02729%2C%20-88.05793%5D%2C%20%5B36.73719000000001%2C%20-121.51444%5D%2C%20%5B33.80523%2C%20-77.161236%5D%2C%20%5B34.91273%2C%20-84.571922%5D%2C%20%5B42.99584%2C%20-107.335188%5D%2C%20%5B33.741177%2C%20-75.799126%5D%2C%20%5B40.32933%2C%20-87.65909%5D%2C%20%5B42.988857%2C%20-118.261651%5D%2C%20%5B40.778395%2C%20-85.681374%5D%2C%20%5B25.78639%2C%20-73.862903%5D%2C%20%5B39.868141%2C%20-121.805634%5D%2C%20%5B34.02185%2C%20-81.593506%5D%2C%20%5B36.113033%2C%20-76.82427%5D%2C%20%5B38.18144%2C%20-84.88051%5D%2C%20%5B34.753899%2C%20-124.210149%5D%2C%20%5B40.683416%2C%20-78.621483%5D%2C%20%5B32.260973%2C%20-96.97641%5D%2C%20%5B39.973541%2C%20-83.124863%5D%2C%20%5B40.687851%2C%20-80.757341%5D%2C%20%5B32.847858%2C%20-112.113037%5D%2C%20%5B37.628666%2C%20-93.349228%5D%2C%20%5B40.979088%2C%20-122.19504%5D%2C%20%5B25.768515%2C%20-76.95302%5D%2C%20%5B41.844214%2C%20-117.146751%5D%2C%20%5B41.87748%2C%20-122.216148%5D%2C%20%5B29.909540000000003%2C%20-86.083572%5D%2C%20%5B35.79415%2C%20-93.582237%5D%2C%20%5B47.68595%2C%20-111.91039%5D%2C%20%5B40.707134%2C%20-118.17253%5D%2C%20%5B41.376469%2C%20-122.18679%5D%2C%20%5B33.57354%2C%20-76.987359%5D%2C%20%5B29.81036%2C%20-80.370664%5D%2C%20%5B39.75484%2C%20-118.091853%5D%2C%20%5B37.699861%2C%20-97.36132%5D%2C%20%5B35.239351%2C%20-79.727171%5D%2C%20%5B37.59075%2C%20-71.06194%5D%2C%20%5B40.750347%2C%20-96.81897%5D%2C%20%5B30.407621%2C%20-76.926636%5D%2C%20%5B35.34206%2C%20-77.1536%5D%2C%20%5B44.10416%2C%20-84.36928%5D%2C%20%5B40.983532%2C%20-121.382%5D%2C%20%5B37.717751%2C%20-86.071409%5D%2C%20%5B35.75448%2C%20-121.408674%5D%2C%20%5B33.912991%2C%20-95.538422%5D%2C%20%5B35.308063%2C%20-121.298635%5D%2C%20%5B34.02603%2C%20-122.395352%5D%2C%20%5B33.773319%2C%20-77.4244%5D%2C%20%5B35.912502%2C%20-84.53108%5D%2C%20%5B30.653941%2C%20-79.203201%5D%2C%20%5B38.84076%2C%20-120.719463%5D%2C%20%5B25.926457%2C%20-76.904388%5D%2C%20%5B35.202518%2C%20-120.86779%5D%2C%20%5B44.47636%2C%20-111.90463%5D%2C%20%5B45.44862%2C%20-96.7461%5D%2C%20%5B32.787792%2C%20-74.960796%5D%2C%20%5B25.631644%2C%20-77.745503%5D%2C%20%5B35.522308%2C%20-80.046547%5D%2C%20%5B39.522999%2C%20-111.046021%5D%2C%20%5B42.42181%2C%20-78.60991700000002%5D%2C%20%5B35.06472%2C%20-95.85112%5D%2C%20%5B28.14892%2C%20-118.35881%5D%2C%20%5B39.838112%2C%20-118.051292%5D%2C%20%5B42.27475%2C%20-97.696838%5D%2C%20%5B41.74484%2C%20-87.95841999999998%5D%2C%20%5B33.827793%2C%20-92.066261%5D%2C%20%5B39.78364000000001%2C%20-122.0869%5D%2C%20%5B30.16995%2C%20-122.745324%5D%2C%20%5B44.897551%2C%20-73.679688%5D%2C%20%5B34.078043%2C%20-77.026657%5D%2C%20%5B33.783371%2C%20-78.981125%5D%2C%20%5B41.72804%2C%20-80.368912%5D%2C%20%5B43.07613%2C%20-81.38773%5D%2C%20%5B32.47013%2C%20-78.560257%5D%2C%20%5B29.70578%2C%20-111.69717%5D%2C%20%5B41.68556%2C%20-118.178656%5D%2C%20%5B38.81913%2C%20-87.765373%5D%2C%20%5B41.30669%2C%20-118.456639%5D%2C%20%5B34.038456%2C%20-121.425896%5D%2C%20%5B30.417223%2C%20-84.19001800000002%5D%2C%20%5B34.073174%2C%20-88.01715%5D%2C%20%5B32.768749%2C%20-118.326481%5D%2C%20%5B39.101723%2C%20-118.565804%5D%2C%20%5B33.39791%2C%20-80.706027%5D%2C%20%5B34.20742%2C%20-91.27784%5D%2C%20%5B37.083805%2C%20-118.29166399999998%5D%2C%20%5B40.79922%2C%20-93.637138%5D%2C%20%5B25.984653%2C%20-80.131248%5D%2C%20%5B32.668402%2C%20-71.156212%5D%2C%20%5B32.844815999999994%2C%20-93.28836%5D%2C%20%5B38.944397%2C%20-118.370277%5D%2C%20%5B40.80245%2C%20-118.09716%5D%2C%20%5B38.554715%2C%20-118.009842%5D%2C%20%5B39.650261%2C%20-79.05986800000002%5D%2C%20%5B34.104237%2C%20-97.716587%5D%2C%20%5B25.631644%2C%20-79.84548199999998%5D%2C%20%5B28.560451%2C%20-104.989265%5D%2C%20%5B39.703987%2C%20-80.30818000000002%5D%2C%20%5B42.40768%2C%20-80.828445%5D%2C%20%5B33.993373%2C%20-111.869156%5D%2C%20%5B35.945541%2C%20-81.37544%5D%2C%20%5B34.92791%2C%20-118.30027%5D%2C%20%5B35.505249%2C%20-122.325897%5D%2C%20%5B26.12938%2C%20-88.117786%5D%2C%20%5B32.360935%2C%20-95.501137%5D%2C%20%5B34.344324%2C%20-87.78775%5D%2C%20%5B38.57433%2C%20-73.27967%5D%2C%20%5B38.28072%2C%20-75.80825%5D%2C%20%5B41.190769%2C%20-121.51596%5D%2C%20%5B28.817814%2C%20-81.538238%5D%2C%20%5B38.97822%2C%20-95.45624%5D%2C%20%5B38.299835%2C%20-96.808296%5D%2C%20%5B34.82135%2C%20-122.51001%5D%2C%20%5B29.935990000000004%2C%20-82.587609%5D%2C%20%5B25.914792%2C%20-122.306915%5D%2C%20%5B39.068211%2C%20-74.063766%5D%2C%20%5B37.313938%2C%20-82.636276%5D%2C%20%5B42.40962%2C%20-81.642161%5D%2C%20%5B47.6121%2C%20-86.695839%5D%2C%20%5B40.720467%2C%20-97.574104%5D%2C%20%5B32.894501%2C%20-73.849701%5D%2C%20%5B35.133129%2C%20-80.96929%5D%2C%20%5B42.927109%2C%20-106.526733%5D%2C%20%5B40.364654%2C%20-93.202766%5D%2C%20%5B40.4047%2C%20-97.034393%5D%2C%20%5B34.492123%2C%20-94.6011%5D%2C%20%5B42.972958%2C%20-75.266296%5D%2C%20%5B32.90741%2C%20-121.910661%5D%2C%20%5B44.964991%2C%20-104.92215%5D%2C%20%5B33.520794%2C%20-81.78531%5D%2C%20%5B32.926231%2C%20-82.241585%5D%2C%20%5B38.683018%2C%20-95.411987%5D%2C%20%5B34.038451%2C%20-84.013974%5D%2C%20%5B35.163818%2C%20-90.362434%5D%2C%20%5B40.804381%2C%20-120.450002%5D%2C%20%5B40.021343%2C%20-117.667656%5D%2C%20%5B32.36056%2C%20-85.574219%5D%2C%20%5B35.26125%2C%20-96.6845%5D%2C%20%5B30.252193%2C%20-121.068377%5D%2C%20%5B35.06427%2C%20-118.52184%5D%2C%20%5B40.042725%2C%20-84.359627%5D%2C%20%5B34.087442%2C%20-117.356216%5D%2C%20%5B46.86425%2C%20-89.926117%5D%2C%20%5B36.688703%2C%20-73.926834%5D%2C%20%5B38.6811%2C%20-95.64502%5D%2C%20%5B42.044029%2C%20-80.234452%5D%2C%20%5B39.931725%2C%20-117.658591%5D%2C%20%5B35.260463%2C%20-78.536789%5D%2C%20%5B39.86111%2C%20-119.697327%5D%2C%20%5B39.168088%2C%20-96.85974%5D%2C%20%5B29.399981%2C%20-81.38655899999998%5D%2C%20%5B25.927885%2C%20-80.10165400000002%5D%2C%20%5B45.577843%2C%20-118.283991%5D%2C%20%5B31.765771%2C%20-122.015747%5D%2C%20%5B34.036359999999995%2C%20-117.353178%5D%2C%20%5B33.463314000000004%2C%20-119.286795%5D%2C%20%5B25.732121%2C%20-122.090172%5D%2C%20%5B30.445766%2C%20-77.42967%5D%2C%20%5B25.633812%2C%20-80.928629%5D%2C%20%5B28.609793%2C%20-117.11303999999998%5D%2C%20%5B38.1515%2C%20-95.456257%5D%2C%20%5B29.035271%2C%20-117.963715%5D%2C%20%5B42.338905%2C%20-92.98453%5D%2C%20%5B34.03614%2C%20-93.620377%5D%2C%20%5B36.153702%2C%20-80.085471%5D%2C%20%5B41.194489%2C%20-118.615616%5D%2C%20%5B47.12566%2C%20-84.773441%5D%2C%20%5B39.11677%2C%20-80.86547900000002%5D%2C%20%5B39.927623%2C%20-111.97157%5D%2C%20%5B27.71315%2C%20-73.884209%5D%2C%20%5B38.01214%2C%20-118.328576%5D%2C%20%5B32.713309%2C%20-111.927039%5D%2C%20%5B41.039074%2C%20-117.539307%5D%2C%20%5B33.60941%2C%20-86.298119%5D%2C%20%5B44.13483%2C%20-76.719698%5D%2C%20%5B35.77539%2C%20-77.45339200000002%5D%2C%20%5B40.896721%2C%20-80.165737%5D%2C%20%5B37.32712%2C%20-73.76209300000002%5D%2C%20%5B34.307289000000004%2C%20-75.097464%5D%2C%20%5B34.296690000000005%2C%20-81.848564%5D%2C%20%5B29.379553%2C%20-78.641602%5D%2C%20%5B32.852798%2C%20-73.93122%5D%2C%20%5B39.773611%2C%20-117.980949%5D%2C%20%5B25.732421%2C%20-121.728497%5D%2C%20%5B37.272911%2C%20-119.784572%5D%2C%20%5B40.83023%2C%20-76.875732%5D%2C%20%5B38.878646%2C%20-123.181038%5D%2C%20%5B30.00115%2C%20-97.51642%5D%2C%20%5B42.7232%2C%20-82.744019%5D%2C%20%5B34.221371000000005%2C%20-83.051079%5D%2C%20%5B30.52154%2C%20-119.78476%5D%2C%20%5B29.729939%2C%20-117.351519%5D%2C%20%5B45.32909%2C%20-121.415469%5D%2C%20%5B44.9316%2C%20-77.07959%5D%2C%20%5B37.36812800000001%2C%20-86.66722%5D%2C%20%5B37.740676%2C%20-111.880892%5D%2C%20%5B33.721718%2C%20-81.283842%5D%2C%20%5B42.308716%2C%20-87.50885799999998%5D%2C%20%5B28.475318%2C%20-104.835419%5D%2C%20%5B30.428298%2C%20-121.904846%5D%2C%20%5B35.7634%2C%20-113.12448%5D%2C%20%5B34.119683%2C%20-122.198211%5D%2C%20%5B40.628124%2C%20-80.78067%5D%2C%20%5B33.64029%2C%20-124.36451%5D%2C%20%5B25.930722%2C%20-80.20899200000002%5D%2C%20%5B41.57708%2C%20-121.98468%5D%2C%20%5B30.167116%2C%20-88.240874%5D%2C%20%5B29.485981%2C%20-95.356216%5D%2C%20%5B38.486958%2C%20-121.66403%5D%2C%20%5B33.517769%2C%20-81.475891%5D%2C%20%5B40.757117%2C%20-76.866623%5D%2C%20%5B39.876161%2C%20-86.81089%5D%2C%20%5B33.668552000000005%2C%20-80.882835%5D%2C%20%5B32.7603%2C%20-76.20461800000002%5D%2C%20%5B29.9378%2C%20-118.33008999999998%5D%2C%20%5B40.76788%2C%20-77.487677%5D%2C%20%5B35.203011%2C%20-118.43517%5D%2C%20%5B35.859%2C%20-78.184152%5D%2C%20%5B37.62597%2C%20-86.355255%5D%2C%20%5B40.862866%2C%20-104.987511%5D%2C%20%5B38.96503%2C%20-81.899322%5D%2C%20%5B30.489485%2C%20-81.761383%5D%2C%20%5B40.853348%2C%20-122.752411%5D%2C%20%5B33.799759%2C%20-83.72560899999998%5D%2C%20%5B37.607506%2C%20-77.58906999999998%5D%2C%20%5B25.869213%2C%20-72.99754300000002%5D%2C%20%5B42.84053400000001%2C%20-83.14917%5D%2C%20%5B44.474194%2C%20-121.431228%5D%2C%20%5B34.04696%2C%20-82.152771%5D%2C%20%5B41.8334%2C%20-118.27043%5D%2C%20%5B34.120865%2C%20-97.576096%5D%2C%20%5B42.53772%2C%20-95.451508%5D%2C%20%5B25.624829%2C%20-120.156502%5D%2C%20%5B37.808498%2C%20-76.585426%5D%2C%20%5B34.264252%2C%20-118.605888%5D%2C%20%5B44.951969%2C%20-74.45784%5D%2C%20%5B30.487175%2C%20-83.44290500000002%5D%2C%20%5B33.864391%2C%20-121.897999%5D%2C%20%5B30.443073%2C%20-95.546715%5D%2C%20%5B43.19471%2C%20-84.361671%5D%2C%20%5B29.940505%2C%20-88.24617099999998%5D%2C%20%5B27.912939%2C%20-88.565339%5D%2C%20%5B42.915005%2C%20-97.768074%5D%2C%20%5B45.504991%2C%20-92.10544%5D%2C%20%5B33.987502%2C%20-121.92643%5D%2C%20%5B33.467243%2C%20-117.850647%5D%2C%20%5B33.80719000000001%2C%20-87.854652%5D%2C%20%5B34.788368%2C%20-76.989944%5D%2C%20%5B37.85097800000001%2C%20-77.59467%5D%2C%20%5B33.993877000000005%2C%20-122.027824%5D%2C%20%5B30.354771000000003%2C%20-82.50864399999998%5D%2C%20%5B30.40376%2C%20-121.98847%5D%2C%20%5B35.246811%2C%20-97.726043%5D%2C%20%5B44.949944%2C%20-119.150666%5D%2C%20%5B29.095287%2C%20-77.03939100000002%5D%2C%20%5B41.526927%2C%20-83.563171%5D%2C%20%5B35.091728%2C%20-114.60096%5D%2C%20%5B30.364706%2C%20-77.010582%5D%2C%20%5B39.03347%2C%20-121.557852%5D%2C%20%5B32.925735%2C%20-86.592636%5D%2C%20%5B33.881489%2C%20-117.375351%5D%2C%20%5B32.427772999999995%2C%20-86.724518%5D%2C%20%5B29.922490000000003%2C%20-105.111832%5D%2C%20%5B40.71881%2C%20-84.258217%5D%2C%20%5B39.471531%2C%20-122.91537%5D%2C%20%5B36.135586%2C%20-88.02826999999998%5D%2C%20%5B30.611204%2C%20-80.204338%5D%2C%20%5B45.262234%2C%20-81.422413%5D%2C%20%5B30.208151%2C%20-74.073624%5D%2C%20%5B26.679739%2C%20-75.932702%5D%2C%20%5B33.582455%2C%20-83.68915600000003%5D%2C%20%5B34.148393%2C%20-98.382301%5D%2C%20%5B33.68574%2C%20-118.392471%5D%2C%20%5B37.84598%2C%20-117.10902%5D%2C%20%5B33.54869%2C%20-118.413906%5D%2C%20%5B39.93287%2C%20-77.432415%5D%2C%20%5B40.67177%2C%20-122.408524%5D%2C%20%5B25.840631%2C%20-77.601398%5D%2C%20%5B25.685729%2C%20-123.646218%5D%2C%20%5B38.643002%2C%20-120.646431%5D%2C%20%5B34.15815%2C%20-80.102806%5D%2C%20%5B42.871847%2C%20-118.33075%5D%2C%20%5B25.684099%2C%20-122.30069%5D%2C%20%5B43.15638%2C%20-71.96345500000002%5D%2C%20%5B29.16737%2C%20-117.717074%5D%2C%20%5B34.037937%2C%20-83.699936%5D%2C%20%5B41.713296%2C%20-87.76075%5D%2C%20%5B32.276726000000004%2C%20-93.01223%5D%2C%20%5B30.406679%2C%20-117.811449%5D%2C%20%5B40.666916%2C%20-80.16134100000002%5D%2C%20%5B33.716027000000004%2C%20-111.99007%5D%2C%20%5B42.292999%2C%20-86.62388299999998%5D%2C%20%5B43.41923%2C%20-71.39057199999998%5D%2C%20%5B37.687805%2C%20-93.6632%5D%2C%20%5B29.02808%2C%20-72.626373%5D%2C%20%5B40.848509%2C%20-119.291796%5D%2C%20%5B32.274265%2C%20-80.204338%5D%2C%20%5B38.461014%2C%20-93.282819%5D%2C%20%5B47.631674%2C%20-81.804085%5D%2C%20%5B30.248291%2C%20-83.21820799999998%5D%2C%20%5B35.731266%2C%20-80.24238199999998%5D%2C%20%5B39.646362%2C%20-80.20257099999998%5D%2C%20%5B33.16418%2C%20-82.54441%5D%2C%20%5B32.833939%2C%20-93.217082%5D%2C%20%5B34.747082%2C%20-119.187449%5D%2C%20%5B34.22684%2C%20-95.785791%5D%2C%20%5B39.01655%2C%20-77.400513%5D%2C%20%5B34.92839%2C%20-96.61261%5D%2C%20%5B39.928856%2C%20-75.102524%5D%2C%20%5B44.14637000000001%2C%20-83.266136%5D%2C%20%5B33.861259999999994%2C%20-75.637428%5D%2C%20%5B42.72044%2C%20-118.342041%5D%2C%20%5B38.494751%2C%20-80.207995%5D%2C%20%5B33.91953%2C%20-85.268601%5D%2C%20%5B33.863209000000005%2C%20-118.029022%5D%2C%20%5B34.016418%2C%20-76.58744%5D%2C%20%5B37.601589%2C%20-95.399918%5D%2C%20%5B41.72318%2C%20-104.82898%5D%2C%20%5B26.550041%2C%20-78.822342%5D%2C%20%5B32.698906%2C%20-86.416885%5D%2C%20%5B45.632897%2C%20-112.270111%5D%2C%20%5B40.572357%2C%20-83.753918%5D%2C%20%5B28.552449%2C%20-118.278343%5D%2C%20%5B33.765945%2C%20-87.6529%5D%2C%20%5B41.32268%2C%20-77.55484%5D%2C%20%5B33.56649%2C%20-75.20638000000002%5D%2C%20%5B34.03025%2C%20-82.560387%5D%2C%20%5B33.567638%2C%20-116.35443%5D%2C%20%5B25.9484%2C%20-121.26771399999998%5D%2C%20%5B44.96374%2C%20-95.60759%5D%2C%20%5B33.99205%2C%20-88.09575%5D%2C%20%5B25.888278%2C%20-78.21278000000002%5D%2C%20%5B42.380973%2C%20-83.70037099999998%5D%2C%20%5B39.085284%2C%20-80.332255%5D%2C%20%5B25.7747%2C%20-82.10818%5D%2C%20%5B35.523153%2C%20-80.306648%5D%2C%20%5B37.1522%2C%20-76.294051%5D%2C%20%5B32.792034%2C%20-76.737489%5D%2C%20%5B42.924347%2C%20-76.588699%5D%2C%20%5B33.862319%2C%20-82.449394%5D%2C%20%5B37.663343%2C%20-121.32781%5D%2C%20%5B33.748196%2C%20-90.703539%5D%2C%20%5B35.258044%2C%20-73.949883%5D%2C%20%5B26.496035%2C%20-117.26121%5D%2C%20%5B47.47029000000001%2C%20-80.16358199999998%5D%2C%20%5B36.11897%2C%20-77.43041%5D%2C%20%5B41.83371%2C%20-76.952354%5D%2C%20%5B47.500492%2C%20-90.086517%5D%2C%20%5B38.56197%2C%20-77.65961999999998%5D%2C%20%5B34.217895%2C%20-78.96513%5D%2C%20%5B38.77169%2C%20-74.95285%5D%2C%20%5B41.89827%2C%20-117.998055%5D%2C%20%5B40.737938%2C%20-117.90569%5D%2C%20%5B37.35598%2C%20-121.04938500000002%5D%2C%20%5B32.126774%2C%20-117.833717%5D%2C%20%5B34.311207%2C%20-95.576269%5D%2C%20%5B41.79903%2C%20-118.43873%5D%2C%20%5B36.60724%2C%20-97.719612%5D%2C%20%5B30.442533%2C%20-80.749107%5D%2C%20%5B41.51834%2C%20-74.58908100000002%5D%2C%20%5B32.766102000000004%2C%20-81.404625%5D%2C%20%5B44.6337%2C%20-120.824369%5D%2C%20%5B34.087158%2C%20-117.935951%5D%2C%20%5B35.886718%2C%20-82.023738%5D%2C%20%5B41.62774%2C%20-122.31978%5D%2C%20%5B36.06079%2C%20-74.722023%5D%2C%20%5B32.94062%2C%20-111.460798%5D%2C%20%5B36.009861%2C%20-118.443596%5D%2C%20%5B39.77470200000001%2C%20-117.036148%5D%2C%20%5B34.788585999999995%2C%20-111.89223%5D%2C%20%5B29.60947%2C%20-118.006905%5D%2C%20%5B48.23991%2C%20-98.49398%5D%2C%20%5B35.493149%2C%20-95.400688%5D%2C%20%5B40.17590300000001%2C%20-90.07332%5D%2C%20%5B37.32132%2C%20-87.169628%5D%2C%20%5B33.980698%2C%20-97.377752%5D%2C%20%5B33.424496000000005%2C%20-96.722527%5D%2C%20%5B40.130814%2C%20-117.113258%5D%2C%20%5B30.448734%2C%20-98.483444%5D%2C%20%5B38.84670300000001%2C%20-97.77694%5D%2C%20%5B40.00996%2C%20-95.50103%5D%2C%20%5B35.115891%2C%20-121.419315%5D%2C%20%5B31.401991%2C%20-83.00441%5D%2C%20%5B44.85075%2C%20-71.097%5D%2C%20%5B44.593075%2C%20-80.20264%5D%2C%20%5B28.537985%2C%20-83.59544100000002%5D%2C%20%5B38.19238%2C%20-96.902064%5D%2C%20%5B38.780366%2C%20-91.988937%5D%2C%20%5B32.929726%2C%20-78.82061%5D%2C%20%5B35.80386%2C%20-96.82255%5D%2C%20%5B35.46785%2C%20-118.18335%5D%2C%20%5B37.700464%2C%20-77.43567%5D%2C%20%5B37.864242%2C%20-77.61725%5D%2C%20%5B33.57177%2C%20-71.05167%5D%2C%20%5B33.850349%2C%20-118.413771%5D%2C%20%5B34.021709%2C%20-96.648338%5D%2C%20%5B34.055031%2C%20-79.366747%5D%2C%20%5B38.881763%2C%20-77.4838%5D%2C%20%5B34.03265%2C%20-86.84474%5D%2C%20%5B35.841759%2C%20-80.16433%5D%2C%20%5B39.696041%2C%20-117.391161%5D%2C%20%5B42.750515%2C%20-84.29084%5D%2C%20%5B30.247074%2C%20-96.73452%5D%2C%20%5B30.401733%2C%20-118.22796%5D%2C%20%5B45.59083%2C%20-84.369431%5D%2C%20%5B26.19981%2C%20-75.062119%5D%2C%20%5B36.066704%2C%20-118.07593500000002%5D%2C%20%5B42.00711%2C%20-97.751312%5D%2C%20%5B42.903725%2C%20-81.642333%5D%2C%20%5B38.93706%2C%20-122.590218%5D%2C%20%5B27.441839%2C%20-121.98619%5D%2C%20%5B28.781765000000004%2C%20-121.234849%5D%2C%20%5B43.067299%2C%20-121.535974%5D%2C%20%5B47.37807100000001%2C%20-82.472488%5D%2C%20%5B39.828747%2C%20-122.236794%5D%2C%20%5B34.961811%2C%20-117.85972%5D%2C%20%5B37.52235%2C%20-85.111542%5D%2C%20%5B45.799576%2C%20-121.993538%5D%2C%20%5B40.69426%2C%20-122.227448%5D%2C%20%5B30.315345%2C%20-119.610893%5D%2C%20%5B38.59873%2C%20-122.403051%5D%2C%20%5B46.01067000000001%2C%20-80.923715%5D%2C%20%5B39.835279%2C%20-73.78273%5D%2C%20%5B40.6238%2C%20-81.04431899999999%5D%2C%20%5B43.590311%2C%20-120.482399%5D%2C%20%5B39.833754%2C%20-121.097195%5D%2C%20%5B45.12399%2C%20-76.27076%5D%2C%20%5B27.88656%2C%20-111.891098%5D%2C%20%5B27.442613%2C%20-120.488855%5D%2C%20%5B28.58745%2C%20-112.29573%5D%2C%20%5B33.766243%2C%20-71.108475%5D%2C%20%5B37.604729%2C%20-83.099335%5D%2C%20%5B38.562045%2C%20-86.27605%5D%2C%20%5B33.836182%2C%20-93.12629%5D%2C%20%5B40.230724%2C%20-121.90237%5D%2C%20%5B39.7783%2C%20-93.12619%5D%2C%20%5B33.902462%2C%20-122.00003%5D%2C%20%5B33.875645%2C%20-80.951385%5D%2C%20%5B41.26586500000001%2C%20-118.003079%5D%2C%20%5B35.815495%2C%20-104.979672%5D%2C%20%5B26.304616%2C%20-76.84702%5D%2C%20%5B42.971135%2C%20-118.370544%5D%2C%20%5B33.774522%2C%20-120.871228%5D%2C%20%5B32.77135%2C%20-104.965429%5D%2C%20%5B31.771236%2C%20-84.043602%5D%2C%20%5B32.864021%2C%20-97.565689%5D%2C%20%5B26.165884%2C%20-80.835663%5D%2C%20%5B39.827175%2C%20-111.902895%5D%2C%20%5B33.764089%2C%20-118.025909%5D%2C%20%5B40.83029000000001%2C%20-112.065254%5D%2C%20%5B39.57612%2C%20-114.349404%5D%2C%20%5B39.96292%2C%20-92.075233%5D%2C%20%5B33.88136%2C%20-111.89154%5D%2C%20%5B38.4519%2C%20-121.82506%5D%2C%20%5B32.818775%2C%20-86.727436%5D%2C%20%5B38.70262%2C%20-77.41634%5D%2C%20%5B30.426908%2C%20-112.26822%5D%2C%20%5B33.099238%2C%20-96.878128%5D%2C%20%5B34.530128000000005%2C%20-77.193832%5D%2C%20%5B40.047595%2C%20-122.294874%5D%2C%20%5B35.117332%2C%20-118.092567%5D%2C%20%5B39.135571%2C%20-95.34862%5D%2C%20%5B30.540661%2C%20-74.10125%5D%2C%20%5B30.436%2C%20-118.25499%5D%2C%20%5B40.727852%2C%20-74.033699%5D%2C%20%5B45.502785%2C%20-96.816147%5D%2C%20%5B38.372233%2C%20-75.447376%5D%2C%20%5B33.743990000000004%2C%20-112.108353%5D%2C%20%5B38.41254%2C%20-78.842873%5D%2C%20%5B35.40067%2C%20-92.71605%5D%2C%20%5B37.978114%2C%20-112.229065%5D%2C%20%5B33.852%2C%20-78.54872900000002%5D%2C%20%5B34.02503%2C%20-93.525093%5D%2C%20%5B28.581142%2C%20-76.56198%5D%2C%20%5B41.677001%2C%20-88.37095%5D%2C%20%5B38.64001500000001%2C%20-72.2633%5D%2C%20%5B38.62159000000001%2C%20-86.766318%5D%2C%20%5B42.9757%2C%20-87.74091999999997%5D%2C%20%5B35.375519%2C%20-84.187393%5D%2C%20%5B37.995594%2C%20-122.532715%5D%2C%20%5B33.911118%2C%20-80.202845%5D%2C%20%5B26.01657%2C%20-122.67859%5D%2C%20%5B38.8755%2C%20-78.690849%5D%2C%20%5B40.85457%2C%20-121.923088%5D%2C%20%5B37.921743%2C%20-77.01614000000002%5D%2C%20%5B38.34354%2C%20-75.254311%5D%2C%20%5B41.65721%2C%20-84.37810999999998%5D%2C%20%5B33.461441%2C%20-123.100615%5D%2C%20%5B40.21526%2C%20-118.404099%5D%2C%20%5B35.847069%2C%20-121.956894%5D%2C%20%5B33.84981%2C%20-77.44171899999998%5D%2C%20%5B25.78457%2C%20-122.188446%5D%2C%20%5B34.938728000000005%2C%20-77.52663000000003%5D%2C%20%5B41.09994%2C%20-118.763443%5D%2C%20%5B37.31649%2C%20-73.82243000000003%5D%2C%20%5B37.895372%2C%20-118.26556399999998%5D%2C%20%5B47.795017%2C%20-80.27344000000002%5D%2C%20%5B40.092587%2C%20-121.349731%5D%2C%20%5B29.78129%2C%20-80.70683100000002%5D%2C%20%5B34.022606%2C%20-81.092308%5D%2C%20%5B36.135689%2C%20-117.210457%5D%2C%20%5B32.365726%2C%20-117.415222%5D%2C%20%5B34.054248%2C%20-75.13131%5D%2C%20%5B33.910990000000005%2C%20-78.78318%5D%2C%20%5B34.117489%2C%20-121.923294%5D%2C%20%5B37.88175%2C%20-95.539185%5D%2C%20%5B39.391769%2C%20-80.868927%5D%2C%20%5B38.44767%2C%20-71.465631%5D%2C%20%5B29.742955%2C%20-86.638737%5D%2C%20%5B33.846940999999994%2C%20-78.523209%5D%2C%20%5B39.83622%2C%20-81.686623%5D%2C%20%5B44.86018%2C%20-120.945397%5D%2C%20%5B43.654507%2C%20-84.12220400000002%5D%2C%20%5B32.506599%2C%20-81.959496%5D%2C%20%5B42.380161%2C%20-92.911385%5D%2C%20%5B33.780598%2C%20-73.782967%5D%2C%20%5B34.222251%2C%20-81.651258%5D%2C%20%5B33.503201000000004%2C%20-87.266201%5D%2C%20%5B33.916458%2C%20-79.082375%5D%2C%20%5B38.224066%2C%20-95.277693%5D%2C%20%5B39.905056%2C%20-80.856625%5D%2C%20%5B27.964614%2C%20-85.47862099999998%5D%2C%20%5B25.732182%2C%20-96.004433%5D%2C%20%5B39.88277100000001%2C%20-121.940364%5D%2C%20%5B33.483948%2C%20-78.80161700000002%5D%2C%20%5B33.554548%2C%20-117.45373700000002%5D%2C%20%5B35.158199%2C%20-84.390839%5D%2C%20%5B45.135987%2C%20-110.988413%5D%2C%20%5B30.26149%2C%20-77.669373%5D%2C%20%5B32.774640000000005%2C%20-78.0392%5D%2C%20%5B47.86624000000001%2C%20-80.835175%5D%2C%20%5B33.775074%2C%20-86.664864%5D%2C%20%5B35.056991%2C%20-121.80326%5D%2C%20%5B33.245335%2C%20-96.004738%5D%2C%20%5B37.647947%2C%20-77.56497%5D%2C%20%5B36.191071%2C%20-122.747383%5D%2C%20%5B33.065464%2C%20-73.87061%5D%2C%20%5B40.715889%2C%20-80.87841800000002%5D%2C%20%5B28.231859000000004%2C%20-78.99091999999997%5D%2C%20%5B30.202703000000003%2C%20-91.05687%5D%2C%20%5B34.080347%2C%20-87.521263%5D%2C%20%5B42.697517%2C%20-117.672646%5D%2C%20%5B39.67082%2C%20-97.747673%5D%2C%20%5B33.897472%2C%20-97.734138%5D%2C%20%5B37.244106%2C%20-77.661041%5D%2C%20%5B45.103265%2C%20-73.246767%5D%2C%20%5B27.99919%2C%20-69.237237%5D%2C%20%5B30.246582%2C%20-82.04954000000002%5D%2C%20%5B26.008713%2C%20-122.578598%5D%2C%20%5B38.602448%2C%20-112.11267%5D%2C%20%5B34.133373%2C%20-96.873245%5D%2C%20%5B37.30447%2C%20-122.201775%5D%2C%20%5B37.53753%2C%20-89.521187%5D%2C%20%5B44.27207%2C%20-118.467761%5D%2C%20%5B36.147217%2C%20-86.58976%5D%2C%20%5B38.269283%2C%20-117.324108%5D%2C%20%5B37.514501%2C%20-90.09163%5D%2C%20%5B39.781109%2C%20-97.0482%5D%2C%20%5B41.782398%2C%20-80.12162%5D%2C%20%5B34.059348%2C%20-80.678845%5D%2C%20%5B37.701717%2C%20-73.935715%5D%2C%20%5B34.8226%2C%20-119.108459%5D%2C%20%5B43.05866%2C%20-117.415047%5D%2C%20%5B39.24584%2C%20-121.329483%5D%2C%20%5B36.09803400000001%2C%20-93.105934%5D%2C%20%5B33.937964%2C%20-76.998322%5D%2C%20%5B35.841263%2C%20-82.257469%5D%2C%20%5B40.467308%2C%20-122.208706%5D%2C%20%5B41.54977%2C%20-117.2886%5D%2C%20%5B45.06935%2C%20-118.396576%5D%2C%20%5B34.35974%2C%20-117.278999%5D%2C%20%5B40.666153%2C%20-71.06210300000002%5D%2C%20%5B48.378413%2C%20-78.57778%5D%2C%20%5B33.301067%2C%20-121.993572%5D%2C%20%5B34.101288000000004%2C%20-121.430755%5D%2C%20%5B29.44346%2C%20-94.7595%5D%2C%20%5B36.79506%2C%20-76.597941%5D%2C%20%5B42.94853%2C%20-117.11232%5D%2C%20%5B35.89418%2C%20-80.38597299999998%5D%2C%20%5B36.033524%2C%20-95.248901%5D%2C%20%5B40.008736%2C%20-83.92135999999998%5D%2C%20%5B33.791965000000005%2C%20-87.96163%5D%2C%20%5B37.553684%2C%20-118.181038%5D%2C%20%5B32.66964%2C%20-95.455772%5D%2C%20%5B33.856741%2C%20-77.63889300000002%5D%2C%20%5B33.617931%2C%20-123.895493%5D%2C%20%5B45.23877%2C%20-117.811241%5D%2C%20%5B30.373177%2C%20-96.97987%5D%2C%20%5B41.82874%2C%20-90.302795%5D%2C%20%5B42.77823%2C%20-120.028603%5D%2C%20%5B33.916319%2C%20-95.408558%5D%2C%20%5B33.47031%2C%20-117.653964%5D%2C%20%5B40.435081%2C%20-111.968783%5D%2C%20%5B34.054078000000004%2C%20-73.655579%5D%2C%20%5B35.25954%2C%20-74.9858%5D%2C%20%5B40.365681%2C%20-82.354225%5D%2C%20%5B38.73999%2C%20-81.99260699999998%5D%2C%20%5B34.363132%2C%20-110.9779%5D%2C%20%5B39.394765%2C%20-122.224812%5D%2C%20%5B36.17146%2C%20-123.198502%5D%2C%20%5B35.10556%2C%20-80.732208%5D%2C%20%5B28.0543%2C%20-81.659889%5D%2C%20%5B32.331669%2C%20-98.403183%5D%2C%20%5B35.46014%2C%20-73.88409399999998%5D%2C%20%5B32.497253%2C%20-91.992157%5D%2C%20%5B39.07878%2C%20-80.944351%5D%2C%20%5B42.61035%2C%20-90.10865%5D%2C%20%5B37.56977%2C%20-122.25808%5D%2C%20%5B39.32178%2C%20-117.11145%5D%2C%20%5B26.65997%2C%20-84.390343%5D%2C%20%5B35.295742%2C%20-87.89125%5D%2C%20%5B35.11712%2C%20-121.261696%5D%2C%20%5B36.197215%2C%20-117.335443%5D%2C%20%5B39.86966500000001%2C%20-84.376038%5D%2C%20%5B41.319011%2C%20-77.43535%5D%2C%20%5B29.80581%2C%20-84.286293%5D%2C%20%5B36.985725%2C%20-120.692166%5D%2C%20%5B33.97891%2C%20-71.47022%5D%2C%20%5B25.920771%2C%20-118.92141%5D%2C%20%5B42.309805%2C%20-77.202783%5D%2C%20%5B42.30934%2C%20-121.473648%5D%2C%20%5B40.310131%2C%20-87.58334%5D%2C%20%5B29.76319%2C%20-104.79219%5D%2C%20%5B41.267948%2C%20-81.36594000000002%5D%2C%20%5B46.035713%2C%20-73.974602%5D%2C%20%5B41.660538%2C%20-110.97759%5D%2C%20%5B38.342725%2C%20-117.030296%5D%2C%20%5B35.797573%2C%20-97.208206%5D%2C%20%5B37.961304%2C%20-93.58202%5D%2C%20%5B25.62611%2C%20-80.914%5D%2C%20%5B34.07291%2C%20-96.665611%5D%2C%20%5B33.460075%2C%20-121.74506%5D%2C%20%5B41.54843%2C%20-84.428726%5D%2C%20%5B32.39532%2C%20-118.172302%5D%2C%20%5B34.064903%2C%20-117.104347%5D%2C%20%5B33.69891%2C%20-85.697266%5D%2C%20%5B41.93103%2C%20-96.758865%5D%2C%20%5B39.97087%2C%20-94.53923%5D%2C%20%5B34.033414%2C%20-119.777438%5D%2C%20%5B38.839675%2C%20-73.27894599999998%5D%2C%20%5B32.937691%2C%20-97.65416%5D%2C%20%5B38.77594000000001%2C%20-81.370323%5D%2C%20%5B36.13969%2C%20-119.403361%5D%2C%20%5B37.51619%2C%20-85.01699%5D%2C%20%5B37.808498%2C%20-120.08223%5D%2C%20%5B41.825729%2C%20-94.67858%5D%2C%20%5B33.554214%2C%20-80.385428%5D%2C%20%5B33.869639%2C%20-84.252197%5D%2C%20%5B40.701602%2C%20-118.309944%5D%2C%20%5B31.71343%2C%20-80.696945%5D%2C%20%5B38.285294%2C%20-90.450676%5D%2C%20%5B42.35878%2C%20-82.459061%5D%2C%20%5B37.714741%2C%20-85.766708%5D%2C%20%5B47.679237%2C%20-92.924313%5D%2C%20%5B38.74410200000001%2C%20-123.472344%5D%2C%20%5B39.03594%2C%20-122.46589%5D%2C%20%5B42.285404%2C%20-118.134898%5D%2C%20%5B37.46308%2C%20-122.001482%5D%2C%20%5B34.990025%2C%20-95.56329%5D%2C%20%5B47.508286%2C%20-82.25205%5D%2C%20%5B44.08799000000001%2C%20-122.8461%5D%2C%20%5B33.751156%2C%20-118.783248%5D%2C%20%5B40.779331%2C%20-80.207784%5D%2C%20%5B37.799576%2C%20-122.60381%5D%2C%20%5B32.64516%2C%20-121.590202%5D%2C%20%5B42.13913%2C%20-124.243307%5D%2C%20%5B30.043903000000004%2C%20-73.90442%5D%2C%20%5B28.244577000000003%2C%20-118.00372%5D%2C%20%5B38.420174%2C%20-117.575559%5D%2C%20%5B29.764275%2C%20-117.652305%5D%2C%20%5B28.421372%2C%20-96.736321%5D%2C%20%5B38.784703%2C%20-80.00975%5D%2C%20%5B42.363968%2C%20-97.656219%5D%2C%20%5B25.926209%2C%20-81.46433%5D%2C%20%5B40.6152%2C%20-119.74238%5D%2C%20%5B32.88451%2C%20-77.35814%5D%2C%20%5B30.314177%2C%20-95.265165%5D%2C%20%5B34.046745%2C%20-80.92014%5D%2C%20%5B35.833744%2C%20-118.321377%5D%2C%20%5B33.603559999999995%2C%20-80.20993%5D%2C%20%5B45.284374%2C%20-71.10173%5D%2C%20%5B28.0327%2C%20-77.042732%5D%2C%20%5B41.604347%2C%20-93.261925%5D%2C%20%5B33.937132%2C%20-84.54939300000002%5D%2C%20%5B32.833882%2C%20-86.26973000000002%5D%2C%20%5B41.293598%2C%20-104.98448%5D%2C%20%5B28.533802%2C%20-86.043488%5D%2C%20%5B29.7033%2C%20-119.045982%5D%2C%20%5B35.223152%2C%20-97.062357%5D%2C%20%5B36.167171%2C%20-117.094299%5D%2C%20%5B33.848778%2C%20-96.89827%5D%2C%20%5B35.780829%2C%20-82.78208000000002%5D%2C%20%5B39.872574%2C%20-87.8773%5D%2C%20%5B34.087421%2C%20-122.204504%5D%2C%20%5B35.75184%2C%20-85.35778%5D%2C%20%5B40.255633%2C%20-91.57072%5D%2C%20%5B37.145066%2C%20-84.336334%5D%2C%20%5B37.609117%2C%20-95.371719%5D%2C%20%5B37.698463%2C%20-83.07520500000003%5D%2C%20%5B40.276524%2C%20-90.124054%5D%2C%20%5B39.889111%2C%20-111.901451%5D%2C%20%5B35.85908%2C%20-81.38861%5D%2C%20%5B38.60155%2C%20-74.051994%5D%2C%20%5B36.60527%2C%20-117.42777%5D%2C%20%5B36.03188%2C%20-104.867828%5D%2C%20%5B47.41175%2C%20-84.393692%5D%2C%20%5B39.101704%2C%20-79.975311%5D%2C%20%5B37.670952%2C%20-111.925911%5D%2C%20%5B27.872053%2C%20-97.062439%5D%2C%20%5B25.89281%2C%20-81.46466%5D%2C%20%5B42.082773%2C%20-121.733154%5D%2C%20%5B41.237885%2C%20-82.709063%5D%2C%20%5B35.771832%2C%20-82.786937%5D%2C%20%5B41.727375%2C%20-73.908632%5D%2C%20%5B35.299137%2C%20-84.17070799999998%5D%2C%20%5B34.038155%2C%20-74.700089%5D%2C%20%5B40.673962%2C%20-123.05677%5D%2C%20%5B39.349964%2C%20-118.03068%5D%2C%20%5B34.320648%2C%20-121.464525%5D%2C%20%5B34.072044%2C%20-83.837463%5D%2C%20%5B41.56129%2C%20-119.086082%5D%2C%20%5B30.133909000000006%2C%20-77.74566%5D%2C%20%5B37.41957%2C%20-86.834335%5D%2C%20%5B36.15225%2C%20-82.16758%5D%2C%20%5B40.78086%2C%20-72.12292%5D%2C%20%5B35.53349%2C%20-117.452995%5D%2C%20%5B38.4198%2C%20-85.431564%5D%2C%20%5B41.247513%2C%20-98.552254%5D%2C%20%5B38.95793%2C%20-73.50350999999998%5D%2C%20%5B26.118498%2C%20-81.156448%5D%2C%20%5B41.82896%2C%20-104.93092%5D%2C%20%5B32.894561%2C%20-84.25829300000002%5D%2C%20%5B42.6366%2C%20-87.96332%5D%2C%20%5B36.09825900000001%2C%20-122.760091%5D%2C%20%5B42.94455%2C%20-80.335835%5D%2C%20%5B38.116875%2C%20-73.931523%5D%2C%20%5B29.848459%2C%20-121.50878%5D%2C%20%5B41.988991%2C%20-90.077148%5D%2C%20%5B45.33645%2C%20-122.27867%5D%2C%20%5B28.303835%2C%20-79.028252%5D%2C%20%5B35.310851%2C%20-93.28224%5D%2C%20%5B37.50898%2C%20-112.030495%5D%2C%20%5B35.81652800000001%2C%20-110.875214%5D%2C%20%5B36.904181%2C%20-77.054161%5D%2C%20%5B34.037395000000004%2C%20-81.515106%5D%2C%20%5B39.0863%2C%20-81.741381%5D%2C%20%5B37.535975%2C%20-80.728157%5D%2C%20%5B44.887287%2C%20-96.770152%5D%2C%20%5B43.320026%2C%20-80.382101%5D%2C%20%5B29.60752%2C%20-97.57671%5D%2C%20%5B37.636604%2C%20-118.06156%5D%2C%20%5B38.22317%2C%20-111.615461%5D%2C%20%5B29.790551%2C%20-86.63450300000002%5D%2C%20%5B27.477011%2C%20-81.2642%5D%2C%20%5B32.70561%2C%20-77.72955%5D%2C%20%5B29.869841%2C%20-117.30728899999998%5D%2C%20%5B40.010088%2C%20-80.210312%5D%2C%20%5B45.13838300000001%2C%20-118.469945%5D%2C%20%5B36.18903%2C%20-122.34458899999998%5D%2C%20%5B37.5327%2C%20-104.850865%5D%2C%20%5B29.51759%2C%20-71.47196%5D%2C%20%5B32.92353%2C%20-118.211708%5D%2C%20%5B44.94079%2C%20-117.33985%5D%2C%20%5B40.74280200000001%2C%20-118.028523%5D%2C%20%5B34.032717%2C%20-93.27055%5D%2C%20%5B33.94747%2C%20-75.086617%5D%2C%20%5B32.911243%2C%20-81.806088%5D%2C%20%5B32.80493%2C%20-122.992805%5D%2C%20%5B33.591254%2C%20-79.409469%5D%2C%20%5B34.236884%2C%20-73.884462%5D%2C%20%5B33.671479999999995%2C%20-118.235777%5D%2C%20%5B37.605614%2C%20-71.86791%5D%2C%20%5B33.731705%2C%20-74.777222%5D%2C%20%5B40.19913%2C%20-117.310211%5D%2C%20%5B36.129501%2C%20-84.828568%5D%2C%20%5B39.09627%2C%20-95.367905%5D%2C%20%5B44.86111500000001%2C%20-81.386951%5D%2C%20%5B25.94726%2C%20-122.309616%5D%2C%20%5B30.423440000000006%2C%20-81.433685%5D%2C%20%5B34.233131%2C%20-117.25978899999998%5D%2C%20%5B45.302801%2C%20-105.004272%5D%2C%20%5B35.152328000000004%2C%20-80.14053%5D%2C%20%5B28.35977%2C%20-80.335915%5D%2C%20%5B41.26326%2C%20-77.42967%5D%2C%20%5B38.522881%2C%20-84.379356%5D%2C%20%5B39.888725%2C%20-80.881309%5D%2C%20%5B44.77779%2C%20-118.052849%5D%2C%20%5B32.198059%2C%20-80.09824%5D%2C%20%5B32.7481%2C%20-117.83398%5D%2C%20%5B30.443434000000003%2C%20-73.946007%5D%2C%20%5B39.916351%2C%20-93.088448%5D%2C%20%5B30.339102%2C%20-118.280518%5D%2C%20%5B41.216511%2C%20-84.261383%5D%2C%20%5B32.917171%2C%20-80.38216800000002%5D%2C%20%5B43.68768%2C%20-87.68824000000002%5D%2C%20%5B28.048996%2C%20-83.06577%5D%2C%20%5B33.669340000000005%2C%20-93.44785%5D%2C%20%5B34.732212%2C%20-79.993797%5D%2C%20%5B38.91107%2C%20-73.40205999999998%5D%2C%20%5B40.818447%2C%20-81.288338%5D%2C%20%5B43.123959%2C%20-122.579079%5D%2C%20%5B29.42737%2C%20-76.303196%5D%2C%20%5B40.04%2C%20-118.3583%5D%2C%20%5B38.945274%2C%20-72.774004%5D%2C%20%5B34.890316%2C%20-118.337948%5D%2C%20%5B33.91063%2C%20-80.861855%5D%2C%20%5B33.184591%2C%20-73.88041700000002%5D%2C%20%5B37.034641%2C%20-117.96824%5D%2C%20%5B40.368951%2C%20-75.38221999999998%5D%2C%20%5B35.242813%2C%20-78.77448000000003%5D%2C%20%5B36.868626%2C%20-87.829374%5D%2C%20%5B34.043308%2C%20-118.368271%5D%2C%20%5B38.116392%2C%20-86.73865699999998%5D%2C%20%5B38.86621%2C%20-123.97882%5D%2C%20%5B35.795643%2C%20-118.439682%5D%2C%20%5B32.60974%2C%20-75.562294%5D%2C%20%5B34.18723%2C%20-86.779083%5D%2C%20%5B40.66525%2C%20-82.075684%5D%2C%20%5B33.963407000000004%2C%20-95.886612%5D%2C%20%5B38.321342%2C%20-80.99655899999998%5D%2C%20%5B26.461884%2C%20-118.009693%5D%2C%20%5B41.835433%2C%20-80.17104%5D%2C%20%5B41.653%2C%20-87.763023%5D%2C%20%5B41.099648%2C%20-87.979202%5D%2C%20%5B25.956924%2C%20-80.285149%5D%2C%20%5B33.140941999999995%2C%20-118.06372%5D%2C%20%5B45.86144%2C%20-71.20656%5D%2C%20%5B25.769715%2C%20-117.23972%5D%2C%20%5B40.71723%2C%20-75.693031%5D%2C%20%5B29.73126%2C%20-113.823328%5D%2C%20%5B38.61276%2C%20-80.14402%5D%2C%20%5B41.972046%2C%20-91.187752%5D%2C%20%5B40.541462%2C%20-121.93285%5D%2C%20%5B39.221751%2C%20-77.44528000000003%5D%2C%20%5B26.902973%2C%20-111.897903%5D%2C%20%5B37.935097%2C%20-80.830925%5D%2C%20%5B40.78297%2C%20-117.12093%5D%2C%20%5B33.97085%2C%20-84.157944%5D%2C%20%5B40.502153%2C%20-89.859657%5D%2C%20%5B32.897034000000005%2C%20-90.002724%5D%2C%20%5B37.714728%2C%20-119.85332%5D%2C%20%5B33.79889%2C%20-104.66352%5D%2C%20%5B34.344593%2C%20-76.55286%5D%2C%20%5B38.22652%2C%20-98.452026%5D%2C%20%5B27.954693%2C%20-96.765472%5D%2C%20%5B45.635402%2C%20-118.910583%5D%2C%20%5B38.565758%2C%20-118.229849%5D%2C%20%5B30.18853%2C%20-122.476372%5D%2C%20%5B38.843407%2C%20-120.20373%5D%2C%20%5B33.893963%2C%20-93.558112%5D%2C%20%5B34.148308%2C%20-83.05398000000002%5D%2C%20%5B42.355667%2C%20-118.949779%5D%2C%20%5B34.155033%2C%20-97.84269%5D%2C%20%5B28.452641%2C%20-118.228344%5D%2C%20%5B40.834362%2C%20-93.458481%5D%2C%20%5B37.789998%2C%20-73.822696%5D%2C%20%5B26.19981%2C%20-112.028801%5D%2C%20%5B34.06648%2C%20-118.096596%5D%2C%20%5B41.824532%2C%20-74.10509%5D%2C%20%5B33.944844%2C%20-118.32682%5D%2C%20%5B35.302101%2C%20-93.84335%5D%2C%20%5B34.200965999999994%2C%20-85.615688%5D%2C%20%5B40.916313%2C%20-96.895572%5D%2C%20%5B32.86365%2C%20-73.628815%5D%2C%20%5B34.08726%2C%20-80.0545%5D%2C%20%5B45.67882%2C%20-122.404182%5D%2C%20%5B33.908297999999995%2C%20-73.40828%5D%2C%20%5B40.71957%2C%20-122.031726%5D%2C%20%5B37.01596%2C%20-122.32261%5D%2C%20%5B34.029009%2C%20-79.805603%5D%2C%20%5B29.961359%2C%20-121.820053%5D%2C%20%5B41.85938%2C%20-91.129607%5D%2C%20%5B35.07628%2C%20-75.2764%5D%2C%20%5B35.493179%2C%20-73.86129%5D%2C%20%5B27.30387%2C%20-87.985107%5D%2C%20%5B29.705540000000006%2C%20-104.9593%5D%2C%20%5B28.048314%2C%20-80.372116%5D%2C%20%5B33.461275%2C%20-82.04118299999998%5D%2C%20%5B45.266922%2C%20-89.41412%5D%2C%20%5B33.524075%2C%20-118.265603%5D%2C%20%5B34.495244%2C%20-73.66458%5D%2C%20%5B36.051542%2C%20-121.666718%5D%2C%20%5B41.467648%2C%20-111.99512%5D%2C%20%5B37.704259%2C%20-86.62056%5D%2C%20%5B41.990883%2C%20-74.304108%5D%2C%20%5B33.94583%2C%20-122.327858%5D%2C%20%5B47.48374%2C%20-112.036797%5D%2C%20%5B30.435696000000004%2C%20-122.917423%5D%2C%20%5B41.91724%2C%20-80.203224%5D%2C%20%5B40.296398%2C%20-73.845881%5D%2C%20%5B29.784519%2C%20-75.53558000000002%5D%2C%20%5B37.628452%2C%20-84.49089000000002%5D%2C%20%5B32.426472%2C%20-71.264862%5D%2C%20%5B26.08295%2C%20-122.88137%5D%2C%20%5B38.805561%2C%20-118.949618%5D%2C%20%5B47.58084%2C%20-112.32178%5D%2C%20%5B40.103909%2C%20-80.712257%5D%2C%20%5B41.91529%2C%20-75.139412%5D%2C%20%5B38.663908%2C%20-122.86101%5D%2C%20%5B33.41222%2C%20-80.85880999999998%5D%2C%20%5B30.477478%2C%20-118.410567%5D%2C%20%5B36.98831%2C%20-95.886444%5D%2C%20%5B33.44838%2C%20-116.27842%5D%2C%20%5B33.48748%2C%20-118.326408%5D%2C%20%5B30.47893%2C%20-92.387379%5D%2C%20%5B33.946014%2C%20-87.550026%5D%2C%20%5B39.72558%2C%20-80.894539%5D%2C%20%5B43.002022%2C%20-94.596474%5D%2C%20%5B35.065288%2C%20-117.420194%5D%2C%20%5B35.754435%2C%20-118.47226%5D%2C%20%5B44.53633%2C%20-86.116585%5D%2C%20%5B32.712357%2C%20-86.41117%5D%2C%20%5B35.330047%2C%20-87.62546%5D%2C%20%5B43.63946%2C%20-119.521815%5D%2C%20%5B41.493263%2C%20-78.554939%5D%2C%20%5B37.518269%2C%20-97.593964%5D%2C%20%5B35.427204%2C%20-118.31961%5D%2C%20%5B32.765949%2C%20-79.703796%5D%2C%20%5B35.14841%2C%20-95.451401%5D%2C%20%5B38.638111%2C%20-121.357437%5D%2C%20%5B27.269512%2C%20-80.401713%5D%2C%20%5B36.01437%2C%20-117.33431000000002%5D%2C%20%5B30.461074%2C%20-118.34091%5D%2C%20%5B29.98691%2C%20-121.410652%5D%2C%20%5B35.255005%2C%20-81.38846600000002%5D%2C%20%5B30.389341%2C%20-86.11398299999998%5D%2C%20%5B34.57988%2C%20-95.375397%5D%2C%20%5B40.417507%2C%20-110.99916%5D%2C%20%5B37.084328%2C%20-122.058281%5D%2C%20%5B44.65179000000001%2C%20-123.843283%5D%2C%20%5B34.165764%2C%20-120.754227%5D%2C%20%5B38.931717%2C%20-78.584641%5D%2C%20%5B42.364552%2C%20-76.337953%5D%2C%20%5B37.482719%2C%20-73.76356899999998%5D%2C%20%5B27.9416%2C%20-117.52411%5D%2C%20%5B38.50882%2C%20-82.389893%5D%2C%20%5B44.78888%2C%20-117.408073%5D%2C%20%5B34.27598%2C%20-96.48652%5D%2C%20%5B32.85266%2C%20-80.152946%5D%2C%20%5B35.505241%2C%20-73.217087%5D%2C%20%5B32.72598%2C%20-97.562599%5D%2C%20%5B29.592569%2C%20-89.782692%5D%2C%20%5B38.638102%2C%20-73.052741%5D%2C%20%5B45.38755%2C%20-111.586615%5D%2C%20%5B33.98923%2C%20-117.27473%5D%2C%20%5B38.516178%2C%20-73.93108000000002%5D%2C%20%5B41.220886%2C%20-112.116798%5D%2C%20%5B40.42111%2C%20-121.28332%5D%2C%20%5B38.286405%2C%20-110.978172%5D%2C%20%5B25.772091%2C%20-122.124046%5D%2C%20%5B37.635448%2C%20-112.09347%5D%2C%20%5B43.015633%2C%20-117.88427%5D%2C%20%5B38.910835%2C%20-77.332494%5D%2C%20%5B41.853989%2C%20-85.83433000000002%5D%2C%20%5B33.809189%2C%20-95.548728%5D%2C%20%5B27.852009%2C%20-80.979065%5D%2C%20%5B33.486828%2C%20-80.319888%5D%2C%20%5B38.35472%2C%20-85.64938599999998%5D%2C%20%5B28.54088%2C%20-97.705421%5D%2C%20%5B41.233589%2C%20-89.330551%5D%2C%20%5B30.40205%2C%20-77.73336%5D%2C%20%5B42.190332%2C%20-119.142222%5D%2C%20%5B33.961381%2C%20-75.114075%5D%2C%20%5B38.87107%2C%20-87.624153%5D%2C%20%5B35.247681%2C%20-122.305878%5D%2C%20%5B33.3857%2C%20-118.469503%5D%2C%20%5B32.308029%2C%20-79.995209%5D%2C%20%5B38.874271%2C%20-121.904824%5D%2C%20%5B34.1207%2C%20-118.189224%5D%2C%20%5B37.854759%2C%20-78.799583%5D%2C%20%5B39.051472%2C%20-80.73111%5D%2C%20%5B29.72523%2C%20-72.93721%5D%2C%20%5B42.018182%2C%20-93.749268%5D%2C%20%5B26.461884%2C%20-112.35221%5D%2C%20%5B40.75357%2C%20-84.31514%5D%2C%20%5B28.238001%2C%20-77.253209%5D%2C%20%5B25.580368%2C%20-97.660919%5D%2C%20%5B35.296131%2C%20-73.811882%5D%2C%20%5B30.366671000000004%2C%20-122.309677%5D%2C%20%5B37.009645%2C%20-76.25430300000002%5D%2C%20%5B33.547539%2C%20-122.062288%5D%2C%20%5B31.419798%2C%20-93.298172%5D%2C%20%5B41.838989%2C%20-118.1988%5D%2C%20%5B37.25612%2C%20-80.20895%5D%2C%20%5B27.8402%2C%20-77.30078%5D%2C%20%5B44.862076%2C%20-85.666489%5D%2C%20%5B32.717541%2C%20-118.6599%5D%2C%20%5B35.493336%2C%20-117.583714%5D%2C%20%5B28.541939000000006%2C%20-122.295364%5D%2C%20%5B30.47905%2C%20-82.32959%5D%2C%20%5B38.699009%2C%20-80.031235%5D%2C%20%5B30.443195000000006%2C%20-110.829473%5D%2C%20%5B42.38536%2C%20-118.12081%5D%2C%20%5B44.889761%2C%20-117.828758%5D%2C%20%5B33.473598%2C%20-93.5435%5D%2C%20%5B30.45126%2C%20-122.55294%5D%2C%20%5B41.47974%2C%20-123.352236%5D%2C%20%5B45.909191%2C%20-78.981911%5D%2C%20%5B34.459641%2C%20-75.16243%5D%2C%20%5B43.490057%2C%20-87.75541%5D%2C%20%5B40.001255%2C%20-81.768936%5D%2C%20%5B33.93278%2C%20-81.260857%5D%2C%20%5B38.113088%2C%20-117.880043%5D%2C%20%5B33.876712%2C%20-82.530242%5D%2C%20%5B45.566418%2C%20-82.089874%5D%2C%20%5B39.502404%2C%20-95.953987%5D%2C%20%5B38.044693%2C%20-122.16739%5D%2C%20%5B32.442546%2C%20-119.288368%5D%2C%20%5B33.765893%2C%20-73.83800500000002%5D%2C%20%5B34.079190000000004%2C%20-73.931702%5D%2C%20%5B36.20705%2C%20-74.14025%5D%2C%20%5B29.722963%2C%20-92.01297%5D%2C%20%5B42.99213%2C%20-97.167191%5D%2C%20%5B39.082279%2C%20-97.62944%5D%2C%20%5B33.77816%2C%20-82.474419%5D%2C%20%5B29.681696%2C%20-112.47227%5D%2C%20%5B33.829475%2C%20-121.86684%5D%2C%20%5B29.740829%2C%20-97.575233%5D%2C%20%5B40.24395%2C%20-80.668274%5D%2C%20%5B38.557167%2C%20-83.73%5D%2C%20%5B34.912582%2C%20-120.887794%5D%2C%20%5B40.7271%2C%20-123.151315%5D%2C%20%5B33.461209999999994%2C%20-120.8507%5D%2C%20%5B28.62532%2C%20-117.23251299999998%5D%2C%20%5B40.82957%2C%20-117.715619%5D%2C%20%5B39.772144%2C%20-76.856291%5D%2C%20%5B41.605804%2C%20-78.4017%5D%2C%20%5B38.878525%2C%20-112.09347%5D%2C%20%5B33.99556%2C%20-79.942451%5D%2C%20%5B25.784826%2C%20-73.50864%5D%2C%20%5B39.50439%2C%20-121.38287%5D%2C%20%5B37.688192%2C%20-90.109062%5D%2C%20%5B33.46278%2C%20-79.913177%5D%2C%20%5B41.549641%2C%20-93.741753%5D%2C%20%5B33.616787%2C%20-70.303843%5D%2C%20%5B32.495468%2C%20-75.620261%5D%2C%20%5B38.100071%2C%20-96.62094%5D%2C%20%5B32.68408%2C%20-96.468903%5D%2C%20%5B40.390881%2C%20-77.229134%5D%2C%20%5B37.748091%2C%20-81.30689699999998%5D%2C%20%5B27.1913%2C%20-78.933167%5D%2C%20%5B32.230728000000006%2C%20-78.95067%5D%2C%20%5B42.35832%2C%20-111.83555%5D%2C%20%5B35.337647%2C%20-117.858615%5D%2C%20%5B39.740143%2C%20-117.990881%5D%2C%20%5B34.500592%2C%20-93.18833%5D%2C%20%5B47.661823%2C%20-80.11868%5D%2C%20%5B36.139446%2C%20-117.964394%5D%2C%20%5B44.965013%2C%20-80.16677%5D%2C%20%5B45.035976%2C%20-81.935303%5D%2C%20%5B34.0874%2C%20-86.73037%5D%2C%20%5B39.10455%2C%20-121.994456%5D%2C%20%5B45.126389%2C%20-119.394783%5D%2C%20%5B34.572136%2C%20-80.165009%5D%2C%20%5B37.7009%2C%20-112.00544%5D%2C%20%5B38.131114%2C%20-111.41133899999998%5D%2C%20%5B32.809586%2C%20-83.415564%5D%2C%20%5B40.13396%2C%20-74.167778%5D%2C%20%5B25.829173%2C%20-120.595783%5D%2C%20%5B38.322189%2C%20-81.31266%5D%2C%20%5B46.83146%2C%20-111.832207%5D%2C%20%5B33.807846999999995%2C%20-112.152332%5D%2C%20%5B30.440012%2C%20-75.501076%5D%2C%20%5B34.23911%2C%20-80.965248%5D%2C%20%5B37.406696%2C%20-121.158707%5D%2C%20%5B34.047668%2C%20-80.235676%5D%2C%20%5B47.524982%2C%20-95.98755%5D%2C%20%5B34.11784%2C%20-76.74453299999998%5D%2C%20%5B36.939999%2C%20-80.77729000000002%5D%2C%20%5B42.886879%2C%20-76.976051%5D%2C%20%5B42.238171%2C%20-122.720985%5D%2C%20%5B43.006148%2C%20-77.183261%5D%2C%20%5B40.679108%2C%20-97.753548%5D%2C%20%5B39.87241%2C%20-92.99883%5D%2C%20%5B42.4044%2C%20-78.28224200000002%5D%2C%20%5B41.81707%2C%20-93.443504%5D%2C%20%5B40.09914000000001%2C%20-118.21391%5D%2C%20%5B33.805893%2C%20-77.425423%5D%2C%20%5B40.78067%2C%20-76.410791%5D%2C%20%5B34.145326000000004%2C%20-87.23988%5D%2C%20%5B37.145073%2C%20-121.298073%5D%2C%20%5B34.224940000000004%2C%20-97.656113%5D%2C%20%5B38.52527%2C%20-119.773277%5D%2C%20%5B43.012012%2C%20-122.531891%5D%2C%20%5B37.498425%2C%20-97.63842%5D%2C%20%5B33.573069%2C%20-86.656853%5D%2C%20%5B33.985198%2C%20-117.411771%5D%2C%20%5B34.15955%2C%20-95.913002%5D%2C%20%5B30.443613%2C%20-122.363739%5D%2C%20%5B34.12073%2C%20-75.58126999999998%5D%2C%20%5B41.787758%2C%20-118.291962%5D%2C%20%5B32.909081%2C%20-121.19123799999998%5D%2C%20%5B37.32942%2C%20-121.866264%5D%2C%20%5B36.968842%2C%20-86.18401300000002%5D%2C%20%5B35.82550399999999%2C%20-122.364005%5D%2C%20%5B34.020212%2C%20-118.04432%5D%2C%20%5B34.774479%2C%20-81.40615%5D%2C%20%5B38.652647%2C%20-92.80802%5D%2C%20%5B43.24273%2C%20-86.73898299999998%5D%2C%20%5B43.663434%2C%20-75.448708%5D%2C%20%5B40.354149%2C%20-84.359383%5D%2C%20%5B40.507629%2C%20-82.759828%5D%2C%20%5B36.065216%2C%20-77.43570600000002%5D%2C%20%5B34.037216%2C%20-118.23021%5D%2C%20%5B42.07075800000001%2C%20-84.434105%5D%2C%20%5B39.824871%2C%20-73.93097%5D%2C%20%5B35.22025700000001%2C%20-118.416939%5D%2C%20%5B33.791977%2C%20-82.310379%5D%2C%20%5B37.700935%2C%20-84.94706%5D%2C%20%5B34.155559999999994%2C%20-74.02930500000002%5D%2C%20%5B26.795937%2C%20-119.762328%5D%2C%20%5B40.75%2C%20-86.960359%5D%2C%20%5B32.776070000000004%2C%20-118.162482%5D%2C%20%5B40.254288%2C%20-121.6985%5D%2C%20%5B38.066238%2C%20-82.44809000000002%5D%2C%20%5B28.45071%2C%20-76.68065%5D%2C%20%5B39.929071%2C%20-112.169052%5D%2C%20%5B42.13274000000001%2C%20-118.024661%5D%2C%20%5B41.98671%2C%20-114.320343%5D%2C%20%5B35.876133%2C%20-95.412376%5D%2C%20%5B43.49526%2C%20-81.5358%5D%2C%20%5B34.070946%2C%20-97.635399%5D%2C%20%5B37.608511%2C%20-77.67054300000002%5D%2C%20%5B37.78928%2C%20-119.823611%5D%2C%20%5B34.034672%2C%20-82.38404799999998%5D%2C%20%5B42.88755%2C%20-80.962597%5D%2C%20%5B34.03853%2C%20-122.5688%5D%2C%20%5B28.0662%2C%20-117.12667%5D%2C%20%5B44.60293%2C%20-76.877342%5D%2C%20%5B35.22375%2C%20-98.559013%5D%2C%20%5B40.63938%2C%20-117.162575%5D%2C%20%5B35.89765900000001%2C%20-112.07326%5D%2C%20%5B35.821177%2C%20-95.57326%5D%2C%20%5B33.864288%2C%20-86.116615%5D%2C%20%5B30.51173%2C%20-118.037865%5D%2C%20%5B39.812617%2C%20-121.874104%5D%2C%20%5B25.702858%2C%20-80.83899%5D%2C%20%5B37.643875%2C%20-81.78984100000002%5D%2C%20%5B40.84385%2C%20-83.65275600000002%5D%2C%20%5B34.018761%2C%20-92.991811%5D%2C%20%5B36.86532%2C%20-77.430084%5D%2C%20%5B44.96577%2C%20-118.081612%5D%2C%20%5B32.707401000000004%2C%20-121.49153%5D%2C%20%5B39.872707%2C%20-122.272186%5D%2C%20%5B43.018829%2C%20-118.145156%5D%2C%20%5B45.477337%2C%20-81.50460799999998%5D%2C%20%5B42.425541%2C%20-94.542178%5D%2C%20%5B42.35969%2C%20-119.039398%5D%2C%20%5B35.80238%2C%20-80.563849%5D%2C%20%5B34.067933000000004%2C%20-117.097305%5D%2C%20%5B40.888124%2C%20-91.79797%5D%2C%20%5B41.884411%2C%20-97.276772%5D%2C%20%5B37.59665%2C%20-122.093839%5D%2C%20%5B33.5878%2C%20-118.025093%5D%2C%20%5B25.748011%2C%20-78.211862%5D%2C%20%5B40.44994000000001%2C%20-118.2593%5D%2C%20%5B32.17794%2C%20-122.069839%5D%2C%20%5B38.672848%2C%20-93.346643%5D%2C%20%5B33.767693%2C%20-117.255265%5D%2C%20%5B29.091636%2C%20-84.821426%5D%2C%20%5B41.7743%2C%20-80.68351%5D%2C%20%5B34.120715999999994%2C%20-84.52128%5D%2C%20%5B33.876944%2C%20-93.473209%5D%2C%20%5B39.780144%2C%20-74.43462%5D%2C%20%5B37.462909%2C%20-97.534302%5D%2C%20%5B38.769897%2C%20-121.223586%5D%2C%20%5B30.181377%2C%20-77.456374%5D%2C%20%5B34.778049%2C%20-85.55776999999998%5D%2C%20%5B38.110953%2C%20-80.841988%5D%2C%20%5B33.410709000000004%2C%20-81.09902199999998%5D%2C%20%5B39.814274%2C%20-122.56547%5D%2C%20%5B39.784077%2C%20-73.38351999999998%5D%2C%20%5B32.229061%2C%20-82.733499%5D%2C%20%5B39.63189000000001%2C%20-93.48165%5D%2C%20%5B42.398159%2C%20-122.650542%5D%2C%20%5B42.678841%2C%20-81.564254%5D%2C%20%5B30.476719%2C%20-118.428413%5D%2C%20%5B39.008018%2C%20-118.026972%5D%2C%20%5B35.743732%2C%20-118.105066%5D%2C%20%5B30.085469%2C%20-76.077965%5D%2C%20%5B39.747753%2C%20-118.285469%5D%2C%20%5B28.387172%2C%20-96.75213%5D%2C%20%5B33.249653%2C%20-73.33593%5D%2C%20%5B44.05311500000001%2C%20-84.196434%5D%2C%20%5B34.241069%2C%20-95.467674%5D%2C%20%5B37.401698%2C%20-87.87001%5D%2C%20%5B36.146748%2C%20-86.773972%5D%2C%20%5B34.208859000000004%2C%20-80.883392%5D%2C%20%5B33.283011%2C%20-72.66328%5D%2C%20%5B32.903934%2C%20-78.908776%5D%2C%20%5B40.768456%2C%20-83.683723%5D%2C%20%5B34.759464%2C%20-117.35585%5D%2C%20%5B32.899914%2C%20-86.510506%5D%2C%20%5B35.13553%2C%20-81.811539%5D%2C%20%5B32.79291%2C%20-110.954567%5D%2C%20%5B35.145475%2C%20-121.9673%5D%2C%20%5B35.28867%2C%20-78.580772%5D%2C%20%5B42.150791%2C%20-80.190949%5D%2C%20%5B41.79733%2C%20-85.674988%5D%2C%20%5B38.477348%2C%20-80.078094%5D%2C%20%5B39.94313%2C%20-80.47152700000002%5D%2C%20%5B39.928532%2C%20-117.09039%5D%2C%20%5B33.727771999999995%2C%20-97.729218%5D%2C%20%5B38.50924000000001%2C%20-82.502701%5D%2C%20%5B35.348887%2C%20-77.07007%5D%2C%20%5B40.843394%2C%20-118.18824%5D%2C%20%5B35.480518%2C%20-80.74361999999998%5D%2C%20%5B34.029070000000004%2C%20-81.659309%5D%2C%20%5B43.429695%2C%20-117.39281%5D%2C%20%5B33.912116999999995%2C%20-121.47382%5D%2C%20%5B37.687485%2C%20-77.443588%5D%2C%20%5B33.438679%2C%20-120.928586%5D%2C%20%5B38.932575%2C%20-96.750107%5D%2C%20%5B39.91142%2C%20-82.488754%5D%2C%20%5B34.134584000000004%2C%20-80.208313%5D%2C%20%5B30.04055%2C%20-73.85569%5D%2C%20%5B33.963399%2C%20-86.69174%5D%2C%20%5B36.09763%2C%20-118.46795%5D%2C%20%5B40.115383%2C%20-82.74028%5D%2C%20%5B39.665779%2C%20-121.286102%5D%2C%20%5B40.706326%2C%20-74.138809%5D%2C%20%5B34.00885%2C%20-82.666021%5D%2C%20%5B33.494961%2C%20-78.574287%5D%2C%20%5B42.401234%2C%20-117.151527%5D%2C%20%5B34.3204%2C%20-117.883041%5D%2C%20%5B36.170055%2C%20-73.971039%5D%2C%20%5B33.8237%2C%20-84.33395%5D%2C%20%5B32.441990000000004%2C%20-96.683144%5D%2C%20%5B35.056782%2C%20-117.61765%5D%2C%20%5B34.833%2C%20-73.909103%5D%2C%20%5B33.912690000000005%2C%20-84.187485%5D%2C%20%5B37.604101%2C%20-80.734627%5D%2C%20%5B37.505504%2C%20-83.335167%5D%2C%20%5B35.51115%2C%20-95.321859%5D%2C%20%5B33.936890000000005%2C%20-119.006822%5D%2C%20%5B30.461046000000003%2C%20-121.909833%5D%2C%20%5B37.795124%2C%20-93.809158%5D%2C%20%5B27.821114%2C%20-117.854271%5D%2C%20%5B33.834908%2C%20-118.38465%5D%2C%20%5B41.935814%2C%20-80.291199%5D%2C%20%5B28.510133000000003%2C%20-74.006943%5D%2C%20%5B41.53909%2C%20-90.073196%5D%2C%20%5B36.286163%2C%20-122.905251%5D%2C%20%5B36.312069%2C%20-117.696747%5D%2C%20%5B37.410833%2C%20-97.716103%5D%2C%20%5B34.263741%2C%20-81.476596%5D%2C%20%5B38.632208%2C%20-84.394262%5D%2C%20%5B33.596378%2C%20-80.995354%5D%2C%20%5B34.053744%2C%20-124.05648%5D%2C%20%5B35.619919%2C%20-75.200928%5D%2C%20%5B35.641705%2C%20-77.06826%5D%2C%20%5B39.182858%2C%20-75.82388%5D%2C%20%5B40.83435%2C%20-122.228891%5D%2C%20%5B34.125075%2C%20-95.975601%5D%2C%20%5B30.406218%2C%20-117.88841200000002%5D%2C%20%5B42.953445%2C%20-84.32575899999998%5D%2C%20%5B33.861290000000004%2C%20-98.491722%5D%2C%20%5B34.211395%2C%20-95.936897%5D%2C%20%5B33.846533%2C%20-83.086884%5D%2C%20%5B39.97525%2C%20-111.967688%5D%2C%20%5B45.012043%2C%20-95.469137%5D%2C%20%5B32.713278%2C%20-81.109999%5D%2C%20%5B35.49321%2C%20-118.28639%5D%2C%20%5B32.858261%2C%20-118.209892%5D%2C%20%5B39.027596%2C%20-85.536163%5D%2C%20%5B26.426571000000006%2C%20-95.571263%5D%2C%20%5B36.155998%2C%20-118.52184%5D%2C%20%5B35.159706%2C%20-83.10468%5D%2C%20%5B35.415089%2C%20-80.250793%5D%2C%20%5B40.115486%2C%20-93.954239%5D%2C%20%5B34.820567%2C%20-118.490649%5D%2C%20%5B34.029659%2C%20-117.217989%5D%2C%20%5B36.243807%2C%20-118.07077%5D%2C%20%5B34.724478000000005%2C%20-95.980888%5D%2C%20%5B31.969602%2C%20-119.70923799999998%5D%2C%20%5B33.895%2C%20-81.292542%5D%2C%20%5B38.876355%2C%20-111.75964%5D%2C%20%5B44.886864%2C%20-122.285324%5D%2C%20%5B41.20115%2C%20-83.74418100000003%5D%2C%20%5B33.90612%2C%20-80.15571700000002%5D%2C%20%5B34.684181%2C%20-117.871216%5D%2C%20%5B34.066292%2C%20-120.618731%5D%2C%20%5B39.07182%2C%20-96.034909%5D%2C%20%5B38.241712%2C%20-121.88247%5D%2C%20%5B45.671077%2C%20-78.157753%5D%2C%20%5B32.731433%2C%20-73.857469%5D%2C%20%5B39.01305%2C%20-117.542735%5D%2C%20%5B40.952076%2C%20-84.241676%5D%2C%20%5B41.044811%2C%20-86.63967099999998%5D%2C%20%5B34.099757000000004%2C%20-117.872639%5D%2C%20%5B41.01495%2C%20-120.561616%5D%2C%20%5B33.85793%2C%20-83.789574%5D%2C%20%5B44.804493%2C%20-80.84170400000002%5D%2C%20%5B25.897022%2C%20-78.34190799999998%5D%2C%20%5B34.078472999999995%2C%20-117.862283%5D%2C%20%5B36.135674%2C%20-118.532458%5D%2C%20%5B31.6864%2C%20-118.431243%5D%2C%20%5B39.86111%2C%20-80.744179%5D%2C%20%5B32.810361%2C%20-73.826332%5D%2C%20%5B38.510442%2C%20-83.81952700000002%5D%2C%20%5B33.341709%2C%20-118.04381200000002%5D%2C%20%5B36.06182%2C%20-84.430306%5D%2C%20%5B34.062588%2C%20-97.692425%5D%2C%20%5B34.269695%2C%20-117.795211%5D%2C%20%5B39.570652%2C%20-81.04885999999998%5D%2C%20%5B34.721217%2C%20-77.11886%5D%2C%20%5B40.07174000000001%2C%20-121.186333%5D%2C%20%5B33.850733%2C%20-76.11284%5D%2C%20%5B34.072262%2C%20-78.69431%5D%2C%20%5B33.90015%2C%20-106.623806%5D%2C%20%5B33.170466999999995%2C%20-95.45858%5D%2C%20%5B41.260681%2C%20-96.823044%5D%2C%20%5B45.511844%2C%20-80.42130300000002%5D%2C%20%5B41.741763%2C%20-85.75102199999998%5D%2C%20%5B44.89127%2C%20-104.868248%5D%2C%20%5B33.48283%2C%20-74.24648%5D%2C%20%5B47.739018%2C%20-112.11853%5D%2C%20%5B40.66598%2C%20-82.76225%5D%2C%20%5B28.141116%2C%20-117.670006%5D%2C%20%5B33.998964%2C%20-119.753021%5D%2C%20%5B41.922871%2C%20-95.56427%5D%2C%20%5B45.02169%2C%20-97.724663%5D%2C%20%5B45.50221%2C%20-121.325163%5D%2C%20%5B27.927456%2C%20-86.08287%5D%2C%20%5B37.99287%2C%20-77.447548%5D%2C%20%5B25.659734%2C%20-121.993683%5D%2C%20%5B40.84108%2C%20-80.16758%5D%2C%20%5B39.092373%2C%20-77.04346%5D%2C%20%5B37.57255%2C%20-86.629227%5D%2C%20%5B33.824501%2C%20-120.355286%5D%2C%20%5B38.656136%2C%20-119.783791%5D%2C%20%5B39.939049%2C%20-86.820923%5D%2C%20%5B39.403919%2C%20-97.52845%5D%2C%20%5B42.672888%2C%20-75.90416%5D%2C%20%5B37.413063%2C%20-118.261223%5D%2C%20%5B38.041607%2C%20-112.28853%5D%2C%20%5B39.21234000000001%2C%20-117.550499%5D%2C%20%5B30.20918%2C%20-81.38218%5D%2C%20%5B24.726646%2C%20-121.769076%5D%2C%20%5B34.509369%2C%20-96.898163%5D%2C%20%5B43.1592%2C%20-122.328056%5D%2C%20%5B32.794537%2C%20-122.414825%5D%2C%20%5B38.34408%2C%20-84.53287399999998%5D%2C%20%5B32.88792%2C%20-80.33380799999998%5D%2C%20%5B34.13763400000001%2C%20-110.989388%5D%2C%20%5B35.27946%2C%20-90.06330200000002%5D%2C%20%5B37.89741%2C%20-117.1108%5D%2C%20%5B38.775829%2C%20-97.751244%5D%2C%20%5B40.846546%2C%20-80.9832%5D%2C%20%5B32.837505%2C%20-91.019241%5D%2C%20%5B33.901917%2C%20-122.816117%5D%2C%20%5B34.168199%2C%20-118.12502%5D%2C%20%5B39.285831%2C%20-82.294739%5D%2C%20%5B33.876938%2C%20-91.113042%5D%2C%20%5B39.93732%2C%20-73.792736%5D%2C%20%5B37.600131%2C%20-122.335922%5D%2C%20%5B35.35276%2C%20-80.06877%5D%2C%20%5B28.320244%2C%20-118.180449%5D%2C%20%5B36.089577%2C%20-118.261452%5D%2C%20%5B34.15453%2C%20-73.73823%5D%2C%20%5B39.902931%2C%20-80.88262900000002%5D%2C%20%5B40.925081%2C%20-73.816696%5D%2C%20%5B25.816079%2C%20-117.973938%5D%2C%20%5B36.06517%2C%20-117.07003%5D%2C%20%5B30.45746%2C%20-96.94609%5D%2C%20%5B29.659185%2C%20-80.717712%5D%2C%20%5B30.1382%2C%20-95.251083%5D%5D%2C%0A%20%20%20%20%20%20%20%20%20%20%20%20%20%20%20%20%7B%0A%20%20%20%20%20%20%20%20%20%20%20%20%20%20%20%20%20%20%20%20minOpacity%3A%200.5%2C%0A%20%20%20%20%20%20%20%20%20%20%20%20%20%20%20%20%20%20%20%20maxZoom%3A%2018%2C%0A%20%20%20%20%20%20%20%20%20%20%20%20%20%20%20%20%20%20%20%20max%3A%201.0%2C%0A%20%20%20%20%20%20%20%20%20%20%20%20%20%20%20%20%20%20%20%20radius%3A%2025%2C%0A%20%20%20%20%20%20%20%20%20%20%20%20%20%20%20%20%20%20%20%20blur%3A%2015%2C%0A%20%20%20%20%20%20%20%20%20%20%20%20%20%20%20%20%20%20%20%20gradient%3A%20null%0A%20%20%20%20%20%20%20%20%20%20%20%20%20%20%20%20%20%20%20%20%7D%29%0A%20%20%20%20%20%20%20%20%20%20%20%20%20%20%20%20.addTo%28map_6c6c3008fca0467db40a4b1f494a8643%29%3B%0A%20%20%20%20%20%20%20%20%0A%3C/script%3E onload=\"this.contentDocument.open();this.contentDocument.write(    decodeURIComponent(this.getAttribute('data-html')));this.contentDocument.close();\" allowfullscreen webkitallowfullscreen mozallowfullscreen></iframe></div></div>"
      ],
      "text/plain": [
       "<folium.folium.Map at 0x7fa3a8d5ced0>"
      ]
     },
     "execution_count": 110,
     "metadata": {},
     "output_type": "execute_result"
    }
   ],
   "source": [
    "map=folium.Map()\n",
    "HeatMap(lat_lon_pairs).add_to(map)\n",
    "map"
   ]
  },
  {
   "cell_type": "markdown",
   "metadata": {
    "id": "KfoPyUPGs0cC"
   },
   "source": [
    "# Summary and Insights\n",
    "\n",
    "1. There is no data from New York\n",
    "2. Less than 5% of cities have more than 1000 yearly accidents\n",
    "3. Over 1200 cities have reported one accident\n",
    "4. Number of accidents per cities decreases exponentially\n",
    "5. A high percentage of accidents occur between 6 am to 10 am\n",
    "6. Accidents occur more on weekdays and less on weekends\n",
    "7. On sundays, the peak occurs between 10 am and 3 pm, unlike weekdays.\n",
    "8. Issues with the Bing data"
   ]
  },
  {
   "cell_type": "code",
   "execution_count": 111,
   "metadata": {
    "executionInfo": {
     "elapsed": 418,
     "status": "ok",
     "timestamp": 1629546631952,
     "user": {
      "displayName": "Diya Sabu",
      "photoUrl": "https://lh3.googleusercontent.com/a-/AOh14GhBB5nx_fvvRe-MEMKW6pJ3FcFPyW4VV1QXO8kyLd8=s64",
      "userId": "11455455934392992633"
     },
     "user_tz": -330
    },
    "id": "xd6kiZWtjCie"
   },
   "outputs": [],
   "source": [
    "import jovian"
   ]
  },
  {
   "cell_type": "code",
   "execution_count": null,
   "metadata": {
    "id": "sR8zjzOUjE6b"
   },
   "outputs": [],
   "source": [
    "jovian.co"
   ]
  }
 ],
 "metadata": {
  "colab": {
   "name": "us-accidents-analysis.ipynb",
   "provenance": []
  },
  "language_info": {
   "codemirror_mode": {
    "name": "ipython",
    "version": 3
   },
   "file_extension": ".py",
   "mimetype": "text/x-python",
   "name": "python",
   "nbconvert_exporter": "python",
   "pygments_lexer": "ipython3",
   "version": "3.7.6"
  }
 },
 "nbformat": 4,
 "nbformat_minor": 0
}